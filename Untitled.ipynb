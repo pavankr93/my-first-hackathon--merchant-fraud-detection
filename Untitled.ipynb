{
 "cells": [
  {
   "cell_type": "markdown",
   "metadata": {},
   "source": [
    "# MITH- my first hackathon- Insofe- PGP\n",
    "## Fraud detection\n",
    "### PS: I was 3rd and won a scholarship of 50000"
   ]
  },
  {
   "cell_type": "markdown",
   "metadata": {},
   "source": [
    "### The Problem"
   ]
  },
  {
   "cell_type": "raw",
   "metadata": {},
   "source": [
    "Lately there has been an increase in fraudulent merchants associated with an online E-commerce company who have been accused of counterfeit deliveries which is affecting their business.\n",
    "\n",
    "We would like to build an analytical and modelling framework to predict the fraudulent merchants based on data at hand."
   ]
  },
  {
   "cell_type": "raw",
   "metadata": {},
   "source": [
    "importing required libraries"
   ]
  },
  {
   "cell_type": "code",
   "execution_count": 1,
   "metadata": {},
   "outputs": [],
   "source": [
    "import pandas as pd\n",
    "import numpy as np\n",
    "from sklearn import metrics\n",
    "from sklearn.model_selection import train_test_split\n",
    "from sklearn.preprocessing import StandardScaler\n",
    "from sklearn.metrics import accuracy_score,recall_score,confusion_matrix,f1_score\n",
    "from sklearn.linear_model import LogisticRegression\n",
    "from sklearn.neighbors import KNeighborsClassifier\n",
    "\n",
    "\n",
    "import matplotlib.pyplot as plt\n",
    "\n",
    "import seaborn as sns\n",
    "\n",
    "import math\n",
    "from sklearn.model_selection import GridSearchCV, cross_val_score\n",
    "from sklearn.linear_model import LogisticRegression"
   ]
  },
  {
   "cell_type": "code",
   "execution_count": 2163,
   "metadata": {},
   "outputs": [],
   "source": [
    "#read the files\n",
    "\n",
    "train_merchant=pd.read_csv(\"/Users/pavankumar/Downloads/ mith/train_merchant_data-1561627820784.csv\")"
   ]
  },
  {
   "cell_type": "code",
   "execution_count": 2164,
   "metadata": {},
   "outputs": [],
   "source": [
    "train_order=pd.read_csv(\"/Users/pavankumar/Downloads/ mith/train_order_data-1561627847149.csv\")"
   ]
  },
  {
   "cell_type": "code",
   "execution_count": 2165,
   "metadata": {},
   "outputs": [
    {
     "data": {
      "text/html": [
       "<div>\n",
       "<style scoped>\n",
       "    .dataframe tbody tr th:only-of-type {\n",
       "        vertical-align: middle;\n",
       "    }\n",
       "\n",
       "    .dataframe tbody tr th {\n",
       "        vertical-align: top;\n",
       "    }\n",
       "\n",
       "    .dataframe thead th {\n",
       "        text-align: right;\n",
       "    }\n",
       "</style>\n",
       "<table border=\"1\" class=\"dataframe\">\n",
       "  <thead>\n",
       "    <tr style=\"text-align: right;\">\n",
       "      <th></th>\n",
       "      <th>Ecommerce_Provider_ID</th>\n",
       "      <th>Merchant_ID</th>\n",
       "      <th>Merchant_Registration_Date</th>\n",
       "      <th>Registered_Device_ID</th>\n",
       "      <th>Gender</th>\n",
       "      <th>Age</th>\n",
       "      <th>IP_Address</th>\n",
       "    </tr>\n",
       "  </thead>\n",
       "  <tbody>\n",
       "    <tr>\n",
       "      <th>0</th>\n",
       "      <td>1746213</td>\n",
       "      <td>50448</td>\n",
       "      <td>2018-05-01 21:15:11</td>\n",
       "      <td>VATQMMZTVOZUT</td>\n",
       "      <td>F</td>\n",
       "      <td>39</td>\n",
       "      <td>48.151.136.76</td>\n",
       "    </tr>\n",
       "    <tr>\n",
       "      <th>1</th>\n",
       "      <td>1746213</td>\n",
       "      <td>338754</td>\n",
       "      <td>2018-04-14 10:13:00</td>\n",
       "      <td>LJCILLBRQZNKS</td>\n",
       "      <td>M</td>\n",
       "      <td>35</td>\n",
       "      <td>94.9.145.169</td>\n",
       "    </tr>\n",
       "    <tr>\n",
       "      <th>2</th>\n",
       "      <td>1746213</td>\n",
       "      <td>291127</td>\n",
       "      <td>2018-06-20 07:44:22</td>\n",
       "      <td>JFVHSUGKDAYZV</td>\n",
       "      <td>F</td>\n",
       "      <td>40</td>\n",
       "      <td>58.94.157.121</td>\n",
       "    </tr>\n",
       "    <tr>\n",
       "      <th>3</th>\n",
       "      <td>1746213</td>\n",
       "      <td>319919</td>\n",
       "      <td>2018-06-27 01:41:39</td>\n",
       "      <td>WFRXMPLQYXRMY</td>\n",
       "      <td>M</td>\n",
       "      <td>37</td>\n",
       "      <td>193.187.41.186</td>\n",
       "    </tr>\n",
       "    <tr>\n",
       "      <th>4</th>\n",
       "      <td>1746213</td>\n",
       "      <td>195911</td>\n",
       "      <td>2018-01-05 00:55:41</td>\n",
       "      <td>GGHKWMSWHCMID</td>\n",
       "      <td>F</td>\n",
       "      <td>27</td>\n",
       "      <td>125.96.20.172</td>\n",
       "    </tr>\n",
       "  </tbody>\n",
       "</table>\n",
       "</div>"
      ],
      "text/plain": [
       "   Ecommerce_Provider_ID  Merchant_ID Merchant_Registration_Date  \\\n",
       "0                1746213        50448        2018-05-01 21:15:11   \n",
       "1                1746213       338754        2018-04-14 10:13:00   \n",
       "2                1746213       291127        2018-06-20 07:44:22   \n",
       "3                1746213       319919        2018-06-27 01:41:39   \n",
       "4                1746213       195911        2018-01-05 00:55:41   \n",
       "\n",
       "  Registered_Device_ID Gender  Age      IP_Address  \n",
       "0        VATQMMZTVOZUT      F   39   48.151.136.76  \n",
       "1        LJCILLBRQZNKS      M   35    94.9.145.169  \n",
       "2        JFVHSUGKDAYZV      F   40   58.94.157.121  \n",
       "3        WFRXMPLQYXRMY      M   37  193.187.41.186  \n",
       "4        GGHKWMSWHCMID      F   27   125.96.20.172  "
      ]
     },
     "execution_count": 2165,
     "metadata": {},
     "output_type": "execute_result"
    }
   ],
   "source": [
    "#exploratory data analysis\n",
    "\n",
    "train_merchant.head()"
   ]
  },
  {
   "cell_type": "code",
   "execution_count": 2166,
   "metadata": {},
   "outputs": [
    {
     "data": {
      "text/plain": [
       "Ecommerce_Provider_ID         54213\n",
       "Merchant_ID                   54213\n",
       "Merchant_Registration_Date    54213\n",
       "Registered_Device_ID          54213\n",
       "Gender                        54213\n",
       "Age                           54213\n",
       "IP_Address                    54213\n",
       "dtype: int64"
      ]
     },
     "execution_count": 2166,
     "metadata": {},
     "output_type": "execute_result"
    }
   ],
   "source": [
    "#checking number of rows\n",
    "train_merchant.count()"
   ]
  },
  {
   "cell_type": "code",
   "execution_count": 2167,
   "metadata": {},
   "outputs": [
    {
     "data": {
      "text/html": [
       "<div>\n",
       "<style scoped>\n",
       "    .dataframe tbody tr th:only-of-type {\n",
       "        vertical-align: middle;\n",
       "    }\n",
       "\n",
       "    .dataframe tbody tr th {\n",
       "        vertical-align: top;\n",
       "    }\n",
       "\n",
       "    .dataframe thead th {\n",
       "        text-align: right;\n",
       "    }\n",
       "</style>\n",
       "<table border=\"1\" class=\"dataframe\">\n",
       "  <thead>\n",
       "    <tr style=\"text-align: right;\">\n",
       "      <th></th>\n",
       "      <th>Customer_ID</th>\n",
       "      <th>Order_ID</th>\n",
       "      <th>Date_of_Order</th>\n",
       "      <th>Order_Value_USD</th>\n",
       "      <th>Order_Source</th>\n",
       "      <th>Order_Payment_Method</th>\n",
       "      <th>Merchant_ID</th>\n",
       "    </tr>\n",
       "  </thead>\n",
       "  <tbody>\n",
       "    <tr>\n",
       "      <th>0</th>\n",
       "      <td>126221</td>\n",
       "      <td>37cea9512f8d</td>\n",
       "      <td>2018-04-29 16:39:26</td>\n",
       "      <td>148</td>\n",
       "      <td>Direct</td>\n",
       "      <td>Credit Card</td>\n",
       "      <td>124231</td>\n",
       "    </tr>\n",
       "    <tr>\n",
       "      <th>1</th>\n",
       "      <td>115471</td>\n",
       "      <td>09f12e6efde2</td>\n",
       "      <td>2018-06-16 17:05:40</td>\n",
       "      <td>145</td>\n",
       "      <td>SEO</td>\n",
       "      <td>Credit Card</td>\n",
       "      <td>136178</td>\n",
       "    </tr>\n",
       "    <tr>\n",
       "      <th>2</th>\n",
       "      <td>151786</td>\n",
       "      <td>4e69e956e159</td>\n",
       "      <td>2018-10-26 18:00:46</td>\n",
       "      <td>62</td>\n",
       "      <td>Ads</td>\n",
       "      <td>Internet Banking</td>\n",
       "      <td>198611</td>\n",
       "    </tr>\n",
       "    <tr>\n",
       "      <th>3</th>\n",
       "      <td>140456</td>\n",
       "      <td>663443aaeb82</td>\n",
       "      <td>2018-12-12 05:41:52</td>\n",
       "      <td>28</td>\n",
       "      <td>SEO</td>\n",
       "      <td>Debit Card</td>\n",
       "      <td>127993</td>\n",
       "    </tr>\n",
       "    <tr>\n",
       "      <th>4</th>\n",
       "      <td>114721</td>\n",
       "      <td>99258810c121</td>\n",
       "      <td>2018-09-20 11:06:10</td>\n",
       "      <td>70</td>\n",
       "      <td>Ads</td>\n",
       "      <td>Credit Card</td>\n",
       "      <td>250146</td>\n",
       "    </tr>\n",
       "  </tbody>\n",
       "</table>\n",
       "</div>"
      ],
      "text/plain": [
       "   Customer_ID      Order_ID        Date_of_Order  Order_Value_USD  \\\n",
       "0       126221  37cea9512f8d  2018-04-29 16:39:26              148   \n",
       "1       115471  09f12e6efde2  2018-06-16 17:05:40              145   \n",
       "2       151786  4e69e956e159  2018-10-26 18:00:46               62   \n",
       "3       140456  663443aaeb82  2018-12-12 05:41:52               28   \n",
       "4       114721  99258810c121  2018-09-20 11:06:10               70   \n",
       "\n",
       "  Order_Source Order_Payment_Method  Merchant_ID  \n",
       "0       Direct          Credit Card       124231  \n",
       "1          SEO          Credit Card       136178  \n",
       "2          Ads     Internet Banking       198611  \n",
       "3          SEO           Debit Card       127993  \n",
       "4          Ads          Credit Card       250146  "
      ]
     },
     "execution_count": 2167,
     "metadata": {},
     "output_type": "execute_result"
    }
   ],
   "source": [
    "train_order.head()"
   ]
  },
  {
   "cell_type": "code",
   "execution_count": 2168,
   "metadata": {},
   "outputs": [
    {
     "data": {
      "text/html": [
       "<div>\n",
       "<style scoped>\n",
       "    .dataframe tbody tr th:only-of-type {\n",
       "        vertical-align: middle;\n",
       "    }\n",
       "\n",
       "    .dataframe tbody tr th {\n",
       "        vertical-align: top;\n",
       "    }\n",
       "\n",
       "    .dataframe thead th {\n",
       "        text-align: right;\n",
       "    }\n",
       "</style>\n",
       "<table border=\"1\" class=\"dataframe\">\n",
       "  <thead>\n",
       "    <tr style=\"text-align: right;\">\n",
       "      <th></th>\n",
       "      <th>Customer_ID</th>\n",
       "      <th>Order_Value_USD</th>\n",
       "      <th>Merchant_ID</th>\n",
       "    </tr>\n",
       "  </thead>\n",
       "  <tbody>\n",
       "    <tr>\n",
       "      <th>count</th>\n",
       "      <td>54213.000000</td>\n",
       "      <td>54213.000000</td>\n",
       "      <td>54213.000000</td>\n",
       "    </tr>\n",
       "    <tr>\n",
       "      <th>mean</th>\n",
       "      <td>137966.285208</td>\n",
       "      <td>92.230240</td>\n",
       "      <td>200395.176212</td>\n",
       "    </tr>\n",
       "    <tr>\n",
       "      <th>std</th>\n",
       "      <td>15563.516156</td>\n",
       "      <td>45.673263</td>\n",
       "      <td>115398.486895</td>\n",
       "    </tr>\n",
       "    <tr>\n",
       "      <th>min</th>\n",
       "      <td>111234.000000</td>\n",
       "      <td>22.000000</td>\n",
       "      <td>2.000000</td>\n",
       "    </tr>\n",
       "    <tr>\n",
       "      <th>25%</th>\n",
       "      <td>124471.000000</td>\n",
       "      <td>55.000000</td>\n",
       "      <td>100997.000000</td>\n",
       "    </tr>\n",
       "    <tr>\n",
       "      <th>50%</th>\n",
       "      <td>137864.000000</td>\n",
       "      <td>88.000000</td>\n",
       "      <td>200574.000000</td>\n",
       "    </tr>\n",
       "    <tr>\n",
       "      <th>75%</th>\n",
       "      <td>151405.000000</td>\n",
       "      <td>122.000000</td>\n",
       "      <td>300407.000000</td>\n",
       "    </tr>\n",
       "    <tr>\n",
       "      <th>max</th>\n",
       "      <td>165000.000000</td>\n",
       "      <td>385.000000</td>\n",
       "      <td>399993.000000</td>\n",
       "    </tr>\n",
       "  </tbody>\n",
       "</table>\n",
       "</div>"
      ],
      "text/plain": [
       "         Customer_ID  Order_Value_USD    Merchant_ID\n",
       "count   54213.000000     54213.000000   54213.000000\n",
       "mean   137966.285208        92.230240  200395.176212\n",
       "std     15563.516156        45.673263  115398.486895\n",
       "min    111234.000000        22.000000       2.000000\n",
       "25%    124471.000000        55.000000  100997.000000\n",
       "50%    137864.000000        88.000000  200574.000000\n",
       "75%    151405.000000       122.000000  300407.000000\n",
       "max    165000.000000       385.000000  399993.000000"
      ]
     },
     "execution_count": 2168,
     "metadata": {},
     "output_type": "execute_result"
    }
   ],
   "source": [
    "#some statistics\n",
    "train_order.describe()"
   ]
  },
  {
   "cell_type": "markdown",
   "metadata": {},
   "source": [
    "### exploratory data analysis"
   ]
  },
  {
   "cell_type": "code",
   "execution_count": 2169,
   "metadata": {},
   "outputs": [
    {
     "data": {
      "text/html": [
       "<div>\n",
       "<style scoped>\n",
       "    .dataframe tbody tr th:only-of-type {\n",
       "        vertical-align: middle;\n",
       "    }\n",
       "\n",
       "    .dataframe tbody tr th {\n",
       "        vertical-align: top;\n",
       "    }\n",
       "\n",
       "    .dataframe thead th {\n",
       "        text-align: right;\n",
       "    }\n",
       "</style>\n",
       "<table border=\"1\" class=\"dataframe\">\n",
       "  <thead>\n",
       "    <tr style=\"text-align: right;\">\n",
       "      <th></th>\n",
       "      <th>Customer_ID</th>\n",
       "      <th>Order_Value_USD</th>\n",
       "      <th>Merchant_ID</th>\n",
       "    </tr>\n",
       "  </thead>\n",
       "  <tbody>\n",
       "    <tr>\n",
       "      <th>count</th>\n",
       "      <td>54213.000000</td>\n",
       "      <td>54213.000000</td>\n",
       "      <td>54213.000000</td>\n",
       "    </tr>\n",
       "    <tr>\n",
       "      <th>mean</th>\n",
       "      <td>137966.285208</td>\n",
       "      <td>92.230240</td>\n",
       "      <td>200395.176212</td>\n",
       "    </tr>\n",
       "    <tr>\n",
       "      <th>std</th>\n",
       "      <td>15563.516156</td>\n",
       "      <td>45.673263</td>\n",
       "      <td>115398.486895</td>\n",
       "    </tr>\n",
       "    <tr>\n",
       "      <th>min</th>\n",
       "      <td>111234.000000</td>\n",
       "      <td>22.000000</td>\n",
       "      <td>2.000000</td>\n",
       "    </tr>\n",
       "    <tr>\n",
       "      <th>25%</th>\n",
       "      <td>124471.000000</td>\n",
       "      <td>55.000000</td>\n",
       "      <td>100997.000000</td>\n",
       "    </tr>\n",
       "    <tr>\n",
       "      <th>50%</th>\n",
       "      <td>137864.000000</td>\n",
       "      <td>88.000000</td>\n",
       "      <td>200574.000000</td>\n",
       "    </tr>\n",
       "    <tr>\n",
       "      <th>75%</th>\n",
       "      <td>151405.000000</td>\n",
       "      <td>122.000000</td>\n",
       "      <td>300407.000000</td>\n",
       "    </tr>\n",
       "    <tr>\n",
       "      <th>max</th>\n",
       "      <td>165000.000000</td>\n",
       "      <td>385.000000</td>\n",
       "      <td>399993.000000</td>\n",
       "    </tr>\n",
       "  </tbody>\n",
       "</table>\n",
       "</div>"
      ],
      "text/plain": [
       "         Customer_ID  Order_Value_USD    Merchant_ID\n",
       "count   54213.000000     54213.000000   54213.000000\n",
       "mean   137966.285208        92.230240  200395.176212\n",
       "std     15563.516156        45.673263  115398.486895\n",
       "min    111234.000000        22.000000       2.000000\n",
       "25%    124471.000000        55.000000  100997.000000\n",
       "50%    137864.000000        88.000000  200574.000000\n",
       "75%    151405.000000       122.000000  300407.000000\n",
       "max    165000.000000       385.000000  399993.000000"
      ]
     },
     "execution_count": 2169,
     "metadata": {},
     "output_type": "execute_result"
    }
   ],
   "source": [
    "train_order.describe()"
   ]
  },
  {
   "cell_type": "code",
   "execution_count": 2170,
   "metadata": {},
   "outputs": [],
   "source": [
    "#reading the 3rd file that was left out\n",
    "train_res=pd.read_csv(\"/Users/pavankumar/Downloads/ mith/train-1561627878332.csv\")\n"
   ]
  },
  {
   "cell_type": "code",
   "execution_count": 2171,
   "metadata": {
    "scrolled": true
   },
   "outputs": [
    {
     "data": {
      "text/html": [
       "<div>\n",
       "<style scoped>\n",
       "    .dataframe tbody tr th:only-of-type {\n",
       "        vertical-align: middle;\n",
       "    }\n",
       "\n",
       "    .dataframe tbody tr th {\n",
       "        vertical-align: top;\n",
       "    }\n",
       "\n",
       "    .dataframe thead th {\n",
       "        text-align: right;\n",
       "    }\n",
       "</style>\n",
       "<table border=\"1\" class=\"dataframe\">\n",
       "  <thead>\n",
       "    <tr style=\"text-align: right;\">\n",
       "      <th></th>\n",
       "      <th>Merchant_ID</th>\n",
       "      <th>Fraudster</th>\n",
       "    </tr>\n",
       "  </thead>\n",
       "  <tbody>\n",
       "    <tr>\n",
       "      <th>0</th>\n",
       "      <td>221592</td>\n",
       "      <td>0</td>\n",
       "    </tr>\n",
       "    <tr>\n",
       "      <th>1</th>\n",
       "      <td>316935</td>\n",
       "      <td>1</td>\n",
       "    </tr>\n",
       "    <tr>\n",
       "      <th>2</th>\n",
       "      <td>38454</td>\n",
       "      <td>1</td>\n",
       "    </tr>\n",
       "    <tr>\n",
       "      <th>3</th>\n",
       "      <td>214437</td>\n",
       "      <td>1</td>\n",
       "    </tr>\n",
       "    <tr>\n",
       "      <th>4</th>\n",
       "      <td>296240</td>\n",
       "      <td>1</td>\n",
       "    </tr>\n",
       "  </tbody>\n",
       "</table>\n",
       "</div>"
      ],
      "text/plain": [
       "   Merchant_ID  Fraudster\n",
       "0       221592          0\n",
       "1       316935          1\n",
       "2        38454          1\n",
       "3       214437          1\n",
       "4       296240          1"
      ]
     },
     "execution_count": 2171,
     "metadata": {},
     "output_type": "execute_result"
    }
   ],
   "source": [
    "train_res.head()"
   ]
  },
  {
   "cell_type": "code",
   "execution_count": 2172,
   "metadata": {},
   "outputs": [
    {
     "data": {
      "text/plain": [
       "Merchant_ID    54213\n",
       "Fraudster      54213\n",
       "dtype: int64"
      ]
     },
     "execution_count": 2172,
     "metadata": {},
     "output_type": "execute_result"
    }
   ],
   "source": [
    "train_res.count()"
   ]
  },
  {
   "cell_type": "code",
   "execution_count": 2173,
   "metadata": {},
   "outputs": [],
   "source": [
    "#merge data files\n",
    "merged = train_merchant.merge(train_order, on='Merchant_ID')\n"
   ]
  },
  {
   "cell_type": "code",
   "execution_count": 2174,
   "metadata": {},
   "outputs": [],
   "source": [
    "merged1= train_res.merge(merged,on='Merchant_ID')"
   ]
  },
  {
   "cell_type": "code",
   "execution_count": 2175,
   "metadata": {},
   "outputs": [
    {
     "data": {
      "text/html": [
       "<div>\n",
       "<style scoped>\n",
       "    .dataframe tbody tr th:only-of-type {\n",
       "        vertical-align: middle;\n",
       "    }\n",
       "\n",
       "    .dataframe tbody tr th {\n",
       "        vertical-align: top;\n",
       "    }\n",
       "\n",
       "    .dataframe thead th {\n",
       "        text-align: right;\n",
       "    }\n",
       "</style>\n",
       "<table border=\"1\" class=\"dataframe\">\n",
       "  <thead>\n",
       "    <tr style=\"text-align: right;\">\n",
       "      <th></th>\n",
       "      <th>Merchant_ID</th>\n",
       "      <th>Fraudster</th>\n",
       "      <th>Ecommerce_Provider_ID</th>\n",
       "      <th>Merchant_Registration_Date</th>\n",
       "      <th>Registered_Device_ID</th>\n",
       "      <th>Gender</th>\n",
       "      <th>Age</th>\n",
       "      <th>IP_Address</th>\n",
       "      <th>Customer_ID</th>\n",
       "      <th>Order_ID</th>\n",
       "      <th>Date_of_Order</th>\n",
       "      <th>Order_Value_USD</th>\n",
       "      <th>Order_Source</th>\n",
       "      <th>Order_Payment_Method</th>\n",
       "    </tr>\n",
       "  </thead>\n",
       "  <tbody>\n",
       "    <tr>\n",
       "      <th>0</th>\n",
       "      <td>221592</td>\n",
       "      <td>0</td>\n",
       "      <td>1746213</td>\n",
       "      <td>2018-07-01 06:43:23</td>\n",
       "      <td>QDZKUGCGLVPZG</td>\n",
       "      <td>F</td>\n",
       "      <td>42</td>\n",
       "      <td>157.217.17.33</td>\n",
       "      <td>149173</td>\n",
       "      <td>6641fb40fd59</td>\n",
       "      <td>2018-10-29 17:58:25</td>\n",
       "      <td>205</td>\n",
       "      <td>Direct</td>\n",
       "      <td>Credit Card</td>\n",
       "    </tr>\n",
       "    <tr>\n",
       "      <th>1</th>\n",
       "      <td>316935</td>\n",
       "      <td>1</td>\n",
       "      <td>1746213</td>\n",
       "      <td>2018-01-18 01:10:42</td>\n",
       "      <td>GCCLHNBNIJJGW</td>\n",
       "      <td>M</td>\n",
       "      <td>42</td>\n",
       "      <td>46.8.62.247</td>\n",
       "      <td>117942</td>\n",
       "      <td>09ce4ab420a6</td>\n",
       "      <td>2018-03-24 20:15:57</td>\n",
       "      <td>88</td>\n",
       "      <td>Ads</td>\n",
       "      <td>Cash On Delivery</td>\n",
       "    </tr>\n",
       "    <tr>\n",
       "      <th>2</th>\n",
       "      <td>38454</td>\n",
       "      <td>1</td>\n",
       "      <td>1746213</td>\n",
       "      <td>2018-07-16 07:56:34</td>\n",
       "      <td>DAXDXWHPMSUJG</td>\n",
       "      <td>M</td>\n",
       "      <td>19</td>\n",
       "      <td>222.110.0.90</td>\n",
       "      <td>125604</td>\n",
       "      <td>41274e2a70c0</td>\n",
       "      <td>2018-09-19 15:13:54</td>\n",
       "      <td>100</td>\n",
       "      <td>Direct</td>\n",
       "      <td>Credit Card</td>\n",
       "    </tr>\n",
       "    <tr>\n",
       "      <th>3</th>\n",
       "      <td>214437</td>\n",
       "      <td>1</td>\n",
       "      <td>1746213</td>\n",
       "      <td>2018-04-28 17:08:09</td>\n",
       "      <td>XPBKQAAEUPZAO</td>\n",
       "      <td>F</td>\n",
       "      <td>35</td>\n",
       "      <td>104.242.92.50</td>\n",
       "      <td>155981</td>\n",
       "      <td>e8538b380577</td>\n",
       "      <td>2018-05-27 23:24:42</td>\n",
       "      <td>60</td>\n",
       "      <td>Direct</td>\n",
       "      <td>Debit Card</td>\n",
       "    </tr>\n",
       "    <tr>\n",
       "      <th>4</th>\n",
       "      <td>296240</td>\n",
       "      <td>1</td>\n",
       "      <td>1746213</td>\n",
       "      <td>2018-01-09 00:26:19</td>\n",
       "      <td>VGGTRBYDZMCPN</td>\n",
       "      <td>F</td>\n",
       "      <td>27</td>\n",
       "      <td>175.104.225.24</td>\n",
       "      <td>142401</td>\n",
       "      <td>72905bb38554</td>\n",
       "      <td>2018-01-11 00:26:20</td>\n",
       "      <td>88</td>\n",
       "      <td>Ads</td>\n",
       "      <td>E-wallet</td>\n",
       "    </tr>\n",
       "  </tbody>\n",
       "</table>\n",
       "</div>"
      ],
      "text/plain": [
       "   Merchant_ID  Fraudster  Ecommerce_Provider_ID Merchant_Registration_Date  \\\n",
       "0       221592          0                1746213        2018-07-01 06:43:23   \n",
       "1       316935          1                1746213        2018-01-18 01:10:42   \n",
       "2        38454          1                1746213        2018-07-16 07:56:34   \n",
       "3       214437          1                1746213        2018-04-28 17:08:09   \n",
       "4       296240          1                1746213        2018-01-09 00:26:19   \n",
       "\n",
       "  Registered_Device_ID Gender  Age      IP_Address  Customer_ID      Order_ID  \\\n",
       "0        QDZKUGCGLVPZG      F   42   157.217.17.33       149173  6641fb40fd59   \n",
       "1        GCCLHNBNIJJGW      M   42     46.8.62.247       117942  09ce4ab420a6   \n",
       "2        DAXDXWHPMSUJG      M   19    222.110.0.90       125604  41274e2a70c0   \n",
       "3        XPBKQAAEUPZAO      F   35   104.242.92.50       155981  e8538b380577   \n",
       "4        VGGTRBYDZMCPN      F   27  175.104.225.24       142401  72905bb38554   \n",
       "\n",
       "         Date_of_Order  Order_Value_USD Order_Source Order_Payment_Method  \n",
       "0  2018-10-29 17:58:25              205       Direct          Credit Card  \n",
       "1  2018-03-24 20:15:57               88          Ads     Cash On Delivery  \n",
       "2  2018-09-19 15:13:54              100       Direct          Credit Card  \n",
       "3  2018-05-27 23:24:42               60       Direct           Debit Card  \n",
       "4  2018-01-11 00:26:20               88          Ads             E-wallet  "
      ]
     },
     "execution_count": 2175,
     "metadata": {},
     "output_type": "execute_result"
    }
   ],
   "source": [
    "merged1.head()"
   ]
  },
  {
   "cell_type": "code",
   "execution_count": 2176,
   "metadata": {
    "scrolled": true
   },
   "outputs": [
    {
     "data": {
      "text/plain": [
       "Index(['Merchant_ID', 'Fraudster', 'Ecommerce_Provider_ID',\n",
       "       'Merchant_Registration_Date', 'Registered_Device_ID', 'Gender', 'Age',\n",
       "       'IP_Address', 'Customer_ID', 'Order_ID', 'Date_of_Order',\n",
       "       'Order_Value_USD', 'Order_Source', 'Order_Payment_Method'],\n",
       "      dtype='object')"
      ]
     },
     "execution_count": 2176,
     "metadata": {},
     "output_type": "execute_result"
    }
   ],
   "source": [
    "merged1.columns"
   ]
  },
  {
   "cell_type": "code",
   "execution_count": 2177,
   "metadata": {},
   "outputs": [
    {
     "data": {
      "text/html": [
       "<div>\n",
       "<style scoped>\n",
       "    .dataframe tbody tr th:only-of-type {\n",
       "        vertical-align: middle;\n",
       "    }\n",
       "\n",
       "    .dataframe tbody tr th {\n",
       "        vertical-align: top;\n",
       "    }\n",
       "\n",
       "    .dataframe thead th {\n",
       "        text-align: right;\n",
       "    }\n",
       "</style>\n",
       "<table border=\"1\" class=\"dataframe\">\n",
       "  <thead>\n",
       "    <tr style=\"text-align: right;\">\n",
       "      <th></th>\n",
       "      <th>Merchant_ID</th>\n",
       "      <th>Fraudster</th>\n",
       "      <th>Ecommerce_Provider_ID</th>\n",
       "      <th>Age</th>\n",
       "      <th>Customer_ID</th>\n",
       "      <th>Order_Value_USD</th>\n",
       "    </tr>\n",
       "  </thead>\n",
       "  <tbody>\n",
       "    <tr>\n",
       "      <th>count</th>\n",
       "      <td>54213.000000</td>\n",
       "      <td>54213.00000</td>\n",
       "      <td>54213.0</td>\n",
       "      <td>54213.000000</td>\n",
       "      <td>54213.000000</td>\n",
       "      <td>54213.000000</td>\n",
       "    </tr>\n",
       "    <tr>\n",
       "      <th>mean</th>\n",
       "      <td>200395.176212</td>\n",
       "      <td>0.09269</td>\n",
       "      <td>1746213.0</td>\n",
       "      <td>33.122240</td>\n",
       "      <td>137966.285208</td>\n",
       "      <td>92.230240</td>\n",
       "    </tr>\n",
       "    <tr>\n",
       "      <th>std</th>\n",
       "      <td>115398.486895</td>\n",
       "      <td>0.29000</td>\n",
       "      <td>0.0</td>\n",
       "      <td>8.630091</td>\n",
       "      <td>15563.516156</td>\n",
       "      <td>45.673263</td>\n",
       "    </tr>\n",
       "    <tr>\n",
       "      <th>min</th>\n",
       "      <td>2.000000</td>\n",
       "      <td>0.00000</td>\n",
       "      <td>1746213.0</td>\n",
       "      <td>18.000000</td>\n",
       "      <td>111234.000000</td>\n",
       "      <td>22.000000</td>\n",
       "    </tr>\n",
       "    <tr>\n",
       "      <th>25%</th>\n",
       "      <td>100997.000000</td>\n",
       "      <td>0.00000</td>\n",
       "      <td>1746213.0</td>\n",
       "      <td>27.000000</td>\n",
       "      <td>124471.000000</td>\n",
       "      <td>55.000000</td>\n",
       "    </tr>\n",
       "    <tr>\n",
       "      <th>50%</th>\n",
       "      <td>200574.000000</td>\n",
       "      <td>0.00000</td>\n",
       "      <td>1746213.0</td>\n",
       "      <td>32.000000</td>\n",
       "      <td>137864.000000</td>\n",
       "      <td>88.000000</td>\n",
       "    </tr>\n",
       "    <tr>\n",
       "      <th>75%</th>\n",
       "      <td>300407.000000</td>\n",
       "      <td>0.00000</td>\n",
       "      <td>1746213.0</td>\n",
       "      <td>39.000000</td>\n",
       "      <td>151405.000000</td>\n",
       "      <td>122.000000</td>\n",
       "    </tr>\n",
       "    <tr>\n",
       "      <th>max</th>\n",
       "      <td>399993.000000</td>\n",
       "      <td>1.00000</td>\n",
       "      <td>1746213.0</td>\n",
       "      <td>72.000000</td>\n",
       "      <td>165000.000000</td>\n",
       "      <td>385.000000</td>\n",
       "    </tr>\n",
       "  </tbody>\n",
       "</table>\n",
       "</div>"
      ],
      "text/plain": [
       "         Merchant_ID    Fraudster  Ecommerce_Provider_ID           Age  \\\n",
       "count   54213.000000  54213.00000                54213.0  54213.000000   \n",
       "mean   200395.176212      0.09269              1746213.0     33.122240   \n",
       "std    115398.486895      0.29000                    0.0      8.630091   \n",
       "min         2.000000      0.00000              1746213.0     18.000000   \n",
       "25%    100997.000000      0.00000              1746213.0     27.000000   \n",
       "50%    200574.000000      0.00000              1746213.0     32.000000   \n",
       "75%    300407.000000      0.00000              1746213.0     39.000000   \n",
       "max    399993.000000      1.00000              1746213.0     72.000000   \n",
       "\n",
       "         Customer_ID  Order_Value_USD  \n",
       "count   54213.000000     54213.000000  \n",
       "mean   137966.285208        92.230240  \n",
       "std     15563.516156        45.673263  \n",
       "min    111234.000000        22.000000  \n",
       "25%    124471.000000        55.000000  \n",
       "50%    137864.000000        88.000000  \n",
       "75%    151405.000000       122.000000  \n",
       "max    165000.000000       385.000000  "
      ]
     },
     "execution_count": 2177,
     "metadata": {},
     "output_type": "execute_result"
    }
   ],
   "source": [
    "merged1.describe()"
   ]
  },
  {
   "cell_type": "code",
   "execution_count": 2178,
   "metadata": {},
   "outputs": [
    {
     "data": {
      "text/html": [
       "<div>\n",
       "<style scoped>\n",
       "    .dataframe tbody tr th:only-of-type {\n",
       "        vertical-align: middle;\n",
       "    }\n",
       "\n",
       "    .dataframe tbody tr th {\n",
       "        vertical-align: top;\n",
       "    }\n",
       "\n",
       "    .dataframe thead th {\n",
       "        text-align: right;\n",
       "    }\n",
       "</style>\n",
       "<table border=\"1\" class=\"dataframe\">\n",
       "  <thead>\n",
       "    <tr style=\"text-align: right;\">\n",
       "      <th></th>\n",
       "      <th>Merchant_Registration_Date</th>\n",
       "      <th>Registered_Device_ID</th>\n",
       "      <th>Gender</th>\n",
       "      <th>IP_Address</th>\n",
       "      <th>Order_ID</th>\n",
       "      <th>Date_of_Order</th>\n",
       "      <th>Order_Source</th>\n",
       "      <th>Order_Payment_Method</th>\n",
       "    </tr>\n",
       "  </thead>\n",
       "  <tbody>\n",
       "    <tr>\n",
       "      <th>count</th>\n",
       "      <td>54213</td>\n",
       "      <td>54213</td>\n",
       "      <td>54213</td>\n",
       "      <td>54213</td>\n",
       "      <td>54213</td>\n",
       "      <td>54213</td>\n",
       "      <td>54213</td>\n",
       "      <td>54213</td>\n",
       "    </tr>\n",
       "    <tr>\n",
       "      <th>unique</th>\n",
       "      <td>54213</td>\n",
       "      <td>51291</td>\n",
       "      <td>2</td>\n",
       "      <td>52028</td>\n",
       "      <td>54213</td>\n",
       "      <td>54161</td>\n",
       "      <td>3</td>\n",
       "      <td>5</td>\n",
       "    </tr>\n",
       "    <tr>\n",
       "      <th>top</th>\n",
       "      <td>2018-03-31 13:37:06</td>\n",
       "      <td>QGWUOPUHKKOWQ</td>\n",
       "      <td>M</td>\n",
       "      <td>107.29.25.29</td>\n",
       "      <td>dab30c4c5b74</td>\n",
       "      <td>2018-09-04 14:14:43</td>\n",
       "      <td>SEO</td>\n",
       "      <td>Credit Card</td>\n",
       "    </tr>\n",
       "    <tr>\n",
       "      <th>freq</th>\n",
       "      <td>1</td>\n",
       "      <td>9</td>\n",
       "      <td>31761</td>\n",
       "      <td>9</td>\n",
       "      <td>1</td>\n",
       "      <td>2</td>\n",
       "      <td>21884</td>\n",
       "      <td>21844</td>\n",
       "    </tr>\n",
       "  </tbody>\n",
       "</table>\n",
       "</div>"
      ],
      "text/plain": [
       "       Merchant_Registration_Date Registered_Device_ID Gender    IP_Address  \\\n",
       "count                       54213                54213  54213         54213   \n",
       "unique                      54213                51291      2         52028   \n",
       "top           2018-03-31 13:37:06        QGWUOPUHKKOWQ      M  107.29.25.29   \n",
       "freq                            1                    9  31761             9   \n",
       "\n",
       "            Order_ID        Date_of_Order Order_Source Order_Payment_Method  \n",
       "count          54213                54213        54213                54213  \n",
       "unique         54213                54161            3                    5  \n",
       "top     dab30c4c5b74  2018-09-04 14:14:43          SEO          Credit Card  \n",
       "freq               1                    2        21884                21844  "
      ]
     },
     "execution_count": 2178,
     "metadata": {},
     "output_type": "execute_result"
    }
   ],
   "source": [
    "#check categorical variables\n",
    "merged1.describe(include='object')"
   ]
  },
  {
   "cell_type": "code",
   "execution_count": 2179,
   "metadata": {},
   "outputs": [
    {
     "data": {
      "text/plain": [
       "Merchant_ID                   54213\n",
       "Fraudster                     54213\n",
       "Ecommerce_Provider_ID         54213\n",
       "Merchant_Registration_Date    54213\n",
       "Registered_Device_ID          54213\n",
       "Gender                        54213\n",
       "Age                           54213\n",
       "IP_Address                    54213\n",
       "Customer_ID                   54213\n",
       "Order_ID                      54213\n",
       "Date_of_Order                 54213\n",
       "Order_Value_USD               54213\n",
       "Order_Source                  54213\n",
       "Order_Payment_Method          54213\n",
       "dtype: int64"
      ]
     },
     "execution_count": 2179,
     "metadata": {},
     "output_type": "execute_result"
    }
   ],
   "source": [
    "#just checking the merge\n",
    "merged1.count()"
   ]
  },
  {
   "cell_type": "code",
   "execution_count": 2180,
   "metadata": {},
   "outputs": [
    {
     "data": {
      "text/plain": [
       "Merchant_ID                   0\n",
       "Fraudster                     0\n",
       "Ecommerce_Provider_ID         0\n",
       "Merchant_Registration_Date    0\n",
       "Registered_Device_ID          0\n",
       "Gender                        0\n",
       "Age                           0\n",
       "IP_Address                    0\n",
       "Customer_ID                   0\n",
       "Order_ID                      0\n",
       "Date_of_Order                 0\n",
       "Order_Value_USD               0\n",
       "Order_Source                  0\n",
       "Order_Payment_Method          0\n",
       "dtype: int64"
      ]
     },
     "execution_count": 2180,
     "metadata": {},
     "output_type": "execute_result"
    }
   ],
   "source": [
    "#check null\n",
    "merged1.isnull().sum()"
   ]
  },
  {
   "cell_type": "code",
   "execution_count": 2181,
   "metadata": {},
   "outputs": [
    {
     "data": {
      "text/plain": [
       "Merchant_ID                    int64\n",
       "Fraudster                      int64\n",
       "Ecommerce_Provider_ID          int64\n",
       "Merchant_Registration_Date    object\n",
       "Registered_Device_ID          object\n",
       "Gender                        object\n",
       "Age                            int64\n",
       "IP_Address                    object\n",
       "Customer_ID                    int64\n",
       "Order_ID                      object\n",
       "Date_of_Order                 object\n",
       "Order_Value_USD                int64\n",
       "Order_Source                  object\n",
       "Order_Payment_Method          object\n",
       "dtype: object"
      ]
     },
     "execution_count": 2181,
     "metadata": {},
     "output_type": "execute_result"
    }
   ],
   "source": [
    "#data types\n",
    "merged1.dtypes"
   ]
  },
  {
   "cell_type": "code",
   "execution_count": 2182,
   "metadata": {},
   "outputs": [
    {
     "data": {
      "text/plain": [
       "107.29.25.29       9\n",
       "107.136.93.76      9\n",
       "175.104.225.24     9\n",
       "137.29.157.65      9\n",
       "32.67.159.62       9\n",
       "66.198.113.69      9\n",
       "115.241.135.193    9\n",
       "91.161.239.48      9\n",
       "136.189.191.154    9\n",
       "148.235.122.229    8\n",
       "191.183.65.127     8\n",
       "14.8.103.146       8\n",
       "66.201.107.140     8\n",
       "49.32.73.35        8\n",
       "72.134.37.247      8\n",
       "141.11.9.20        8\n",
       "96.19.227.175      8\n",
       "247.163.58.135     8\n",
       "60.21.72.190       8\n",
       "198.228.68.239     8\n",
       "208.222.165.238    8\n",
       "31.157.124.104     8\n",
       "220.0.17.177       8\n",
       "160.118.71.200     8\n",
       "10.247.59.97       8\n",
       "76.95.36.128       8\n",
       "197.6.198.143      8\n",
       "195.100.193.109    7\n",
       "146.247.186.188    7\n",
       "175.28.200.111     7\n",
       "                  ..\n",
       "80.104.22.20       1\n",
       "35.43.183.126      1\n",
       "108.149.237.216    1\n",
       "164.57.247.151     1\n",
       "124.128.81.64      1\n",
       "167.42.41.164      1\n",
       "66.140.64.150      1\n",
       "136.55.139.83      1\n",
       "198.175.157.254    1\n",
       "9.122.211.13       1\n",
       "197.14.183.125     1\n",
       "155.77.163.86      1\n",
       "232.44.189.68      1\n",
       "180.160.45.13      1\n",
       "47.102.229.175     1\n",
       "161.83.129.41      1\n",
       "58.201.0.177       1\n",
       "166.2.21.198       1\n",
       "233.94.50.21       1\n",
       "200.85.239.195     1\n",
       "203.144.12.68      1\n",
       "56.75.159.110      1\n",
       "200.241.69.250     1\n",
       "193.116.109.148    1\n",
       "236.176.226.26     1\n",
       "43.235.2.223       1\n",
       "234.225.207.114    1\n",
       "30.169.146.0       1\n",
       "71.69.126.56       1\n",
       "111.173.124.232    1\n",
       "Name: IP_Address, Length: 52028, dtype: int64"
      ]
     },
     "execution_count": 2182,
     "metadata": {},
     "output_type": "execute_result"
    }
   ],
   "source": [
    "#a try at the ip column processing\n",
    "#merged1.IP_Address.value_counts()"
   ]
  },
  {
   "cell_type": "code",
   "execution_count": 2183,
   "metadata": {},
   "outputs": [],
   "source": [
    "#ip=merged1['IP_Address']"
   ]
  },
  {
   "cell_type": "code",
   "execution_count": 2184,
   "metadata": {},
   "outputs": [],
   "source": [
    "\n",
    "#import ipaddress\n",
    "#for val in ip:\n",
    "   # ip[0]=int(ipaddress.IPv4Address(merged1.IP_Address[0])))\n",
    "\n"
   ]
  },
  {
   "cell_type": "code",
   "execution_count": 2185,
   "metadata": {},
   "outputs": [],
   "source": [
    "\n",
    "\n",
    "#for eachvariable in merged1['IP_Address']:\n",
    " #   ip[0] = ipaddress.IPv4Address(ipp[0])\n",
    "  #  print(int(ip))\n",
    "    \n",
    "    "
   ]
  },
  {
   "cell_type": "code",
   "execution_count": 2186,
   "metadata": {},
   "outputs": [],
   "source": [
    "#numerical columns\n",
    "num_col=numeric_var_names = [key for key in dict(merged1.dtypes) if dict(merged1.dtypes)[key] in ['int64', 'int32','float64','float32']]"
   ]
  },
  {
   "cell_type": "code",
   "execution_count": null,
   "metadata": {},
   "outputs": [],
   "source": [
    "#couldnt process the ip feild, hence assuming that the ips are irrelevant for prediction and dropping it. \n",
    "#will check on it later"
   ]
  },
  {
   "cell_type": "code",
   "execution_count": 2187,
   "metadata": {},
   "outputs": [
    {
     "data": {
      "text/plain": [
       "['Merchant_ID',\n",
       " 'Fraudster',\n",
       " 'Ecommerce_Provider_ID',\n",
       " 'Age',\n",
       " 'Customer_ID',\n",
       " 'Order_Value_USD']"
      ]
     },
     "execution_count": 2187,
     "metadata": {},
     "output_type": "execute_result"
    }
   ],
   "source": [
    "num_col"
   ]
  },
  {
   "cell_type": "code",
   "execution_count": 2188,
   "metadata": {},
   "outputs": [
    {
     "data": {
      "text/plain": [
       "array([1746213])"
      ]
     },
     "execution_count": 2188,
     "metadata": {},
     "output_type": "execute_result"
    }
   ],
   "source": [
    "merged1.Ecommerce_Provider_ID.unique()"
   ]
  },
  {
   "cell_type": "code",
   "execution_count": 2189,
   "metadata": {},
   "outputs": [],
   "source": [
    "#drop columns\n",
    "merged1.drop(['Ecommerce_Provider_ID','Registered_Device_ID','Customer_ID','Order_ID'],axis=1,inplace=True)"
   ]
  },
  {
   "cell_type": "code",
   "execution_count": 2190,
   "metadata": {},
   "outputs": [
    {
     "data": {
      "text/html": [
       "<div>\n",
       "<style scoped>\n",
       "    .dataframe tbody tr th:only-of-type {\n",
       "        vertical-align: middle;\n",
       "    }\n",
       "\n",
       "    .dataframe tbody tr th {\n",
       "        vertical-align: top;\n",
       "    }\n",
       "\n",
       "    .dataframe thead th {\n",
       "        text-align: right;\n",
       "    }\n",
       "</style>\n",
       "<table border=\"1\" class=\"dataframe\">\n",
       "  <thead>\n",
       "    <tr style=\"text-align: right;\">\n",
       "      <th></th>\n",
       "      <th>Merchant_ID</th>\n",
       "      <th>Fraudster</th>\n",
       "      <th>Merchant_Registration_Date</th>\n",
       "      <th>Gender</th>\n",
       "      <th>Age</th>\n",
       "      <th>IP_Address</th>\n",
       "      <th>Date_of_Order</th>\n",
       "      <th>Order_Value_USD</th>\n",
       "      <th>Order_Source</th>\n",
       "      <th>Order_Payment_Method</th>\n",
       "    </tr>\n",
       "  </thead>\n",
       "  <tbody>\n",
       "    <tr>\n",
       "      <th>0</th>\n",
       "      <td>221592</td>\n",
       "      <td>0</td>\n",
       "      <td>2018-07-01 06:43:23</td>\n",
       "      <td>F</td>\n",
       "      <td>42</td>\n",
       "      <td>157.217.17.33</td>\n",
       "      <td>2018-10-29 17:58:25</td>\n",
       "      <td>205</td>\n",
       "      <td>Direct</td>\n",
       "      <td>Credit Card</td>\n",
       "    </tr>\n",
       "    <tr>\n",
       "      <th>1</th>\n",
       "      <td>316935</td>\n",
       "      <td>1</td>\n",
       "      <td>2018-01-18 01:10:42</td>\n",
       "      <td>M</td>\n",
       "      <td>42</td>\n",
       "      <td>46.8.62.247</td>\n",
       "      <td>2018-03-24 20:15:57</td>\n",
       "      <td>88</td>\n",
       "      <td>Ads</td>\n",
       "      <td>Cash On Delivery</td>\n",
       "    </tr>\n",
       "    <tr>\n",
       "      <th>2</th>\n",
       "      <td>38454</td>\n",
       "      <td>1</td>\n",
       "      <td>2018-07-16 07:56:34</td>\n",
       "      <td>M</td>\n",
       "      <td>19</td>\n",
       "      <td>222.110.0.90</td>\n",
       "      <td>2018-09-19 15:13:54</td>\n",
       "      <td>100</td>\n",
       "      <td>Direct</td>\n",
       "      <td>Credit Card</td>\n",
       "    </tr>\n",
       "    <tr>\n",
       "      <th>3</th>\n",
       "      <td>214437</td>\n",
       "      <td>1</td>\n",
       "      <td>2018-04-28 17:08:09</td>\n",
       "      <td>F</td>\n",
       "      <td>35</td>\n",
       "      <td>104.242.92.50</td>\n",
       "      <td>2018-05-27 23:24:42</td>\n",
       "      <td>60</td>\n",
       "      <td>Direct</td>\n",
       "      <td>Debit Card</td>\n",
       "    </tr>\n",
       "    <tr>\n",
       "      <th>4</th>\n",
       "      <td>296240</td>\n",
       "      <td>1</td>\n",
       "      <td>2018-01-09 00:26:19</td>\n",
       "      <td>F</td>\n",
       "      <td>27</td>\n",
       "      <td>175.104.225.24</td>\n",
       "      <td>2018-01-11 00:26:20</td>\n",
       "      <td>88</td>\n",
       "      <td>Ads</td>\n",
       "      <td>E-wallet</td>\n",
       "    </tr>\n",
       "  </tbody>\n",
       "</table>\n",
       "</div>"
      ],
      "text/plain": [
       "   Merchant_ID  Fraudster Merchant_Registration_Date Gender  Age  \\\n",
       "0       221592          0        2018-07-01 06:43:23      F   42   \n",
       "1       316935          1        2018-01-18 01:10:42      M   42   \n",
       "2        38454          1        2018-07-16 07:56:34      M   19   \n",
       "3       214437          1        2018-04-28 17:08:09      F   35   \n",
       "4       296240          1        2018-01-09 00:26:19      F   27   \n",
       "\n",
       "       IP_Address        Date_of_Order  Order_Value_USD Order_Source  \\\n",
       "0   157.217.17.33  2018-10-29 17:58:25              205       Direct   \n",
       "1     46.8.62.247  2018-03-24 20:15:57               88          Ads   \n",
       "2    222.110.0.90  2018-09-19 15:13:54              100       Direct   \n",
       "3   104.242.92.50  2018-05-27 23:24:42               60       Direct   \n",
       "4  175.104.225.24  2018-01-11 00:26:20               88          Ads   \n",
       "\n",
       "  Order_Payment_Method  \n",
       "0          Credit Card  \n",
       "1     Cash On Delivery  \n",
       "2          Credit Card  \n",
       "3           Debit Card  \n",
       "4             E-wallet  "
      ]
     },
     "execution_count": 2190,
     "metadata": {},
     "output_type": "execute_result"
    }
   ],
   "source": [
    "merged1.head()"
   ]
  },
  {
   "cell_type": "code",
   "execution_count": 2191,
   "metadata": {
    "scrolled": true
   },
   "outputs": [
    {
     "data": {
      "text/plain": [
       "0    49188\n",
       "1     5025\n",
       "Name: Fraudster, dtype: int64"
      ]
     },
     "execution_count": 2191,
     "metadata": {},
     "output_type": "execute_result"
    }
   ],
   "source": [
    "#check distribution of target variable. check for class imbalance\n",
    "merged1.Fraudster.value_counts()"
   ]
  },
  {
   "cell_type": "code",
   "execution_count": null,
   "metadata": {},
   "outputs": [],
   "source": [
    "#class imbalance is there"
   ]
  },
  {
   "cell_type": "markdown",
   "metadata": {},
   "source": [
    "### data visualisation- plots"
   ]
  },
  {
   "cell_type": "code",
   "execution_count": 2192,
   "metadata": {},
   "outputs": [
    {
     "data": {
      "image/png": "[encoded data removed]",
      "text/plain": [
       "<Figure size 432x288 with 1 Axes>"
      ]
     },
     "metadata": {
      "needs_background": "light"
     },
     "output_type": "display_data"
    }
   ],
   "source": [
    "#boxplot\n",
    "import seaborn as sns \n",
    "sns.boxplot(merged1['Age']) \n",
    "\n",
    "sns.despine()"
   ]
  },
  {
   "cell_type": "code",
   "execution_count": 2193,
   "metadata": {},
   "outputs": [
    {
     "data": {
      "text/plain": [
       "<matplotlib.axes._subplots.AxesSubplot at 0x1a4561e048>"
      ]
     },
     "execution_count": 2193,
     "metadata": {},
     "output_type": "execute_result"
    },
    {
     "data": {
      "image/png": "[encoded data removed]",
      "text/plain": [
       "<Figure size 432x288 with 1 Axes>"
      ]
     },
     "metadata": {
      "needs_background": "light"
     },
     "output_type": "display_data"
    }
   ],
   "source": [
    "#countplot\n",
    "sns.countplot(x='Gender',data=merged1)"
   ]
  },
  {
   "cell_type": "code",
   "execution_count": 2194,
   "metadata": {},
   "outputs": [
    {
     "data": {
      "text/plain": [
       "Credit Card         21844\n",
       "Internet Banking    13193\n",
       "Debit Card           9070\n",
       "E-wallet             8739\n",
       "Cash On Delivery     1367\n",
       "Name: Order_Payment_Method, dtype: int64"
      ]
     },
     "execution_count": 2194,
     "metadata": {},
     "output_type": "execute_result"
    }
   ],
   "source": [
    "#unique values of a column\n",
    "merged1.Order_Payment_Method.value_counts()"
   ]
  },
  {
   "cell_type": "code",
   "execution_count": 2195,
   "metadata": {},
   "outputs": [
    {
     "data": {
      "text/plain": [
       "SEO       21884\n",
       "Ads       21259\n",
       "Direct    11070\n",
       "Name: Order_Source, dtype: int64"
      ]
     },
     "execution_count": 2195,
     "metadata": {},
     "output_type": "execute_result"
    }
   ],
   "source": [
    "merged1.Order_Source.value_counts()"
   ]
  },
  {
   "cell_type": "code",
   "execution_count": 2196,
   "metadata": {},
   "outputs": [
    {
     "data": {
      "image/png": "[encoded data removed]",
      "text/plain": [
       "<Figure size 432x288 with 2 Axes>"
      ]
     },
     "metadata": {
      "needs_background": "light"
     },
     "output_type": "display_data"
    }
   ],
   "source": [
    "#corelation matrix\n",
    "sns.heatmap(merged1.corr(),annot=True,fmt=\"0.2f\",cmap=\"coolwarm\")\n",
    "plt.show()"
   ]
  },
  {
   "cell_type": "code",
   "execution_count": 2197,
   "metadata": {},
   "outputs": [
    {
     "data": {
      "text/html": [
       "<div>\n",
       "<style scoped>\n",
       "    .dataframe tbody tr th:only-of-type {\n",
       "        vertical-align: middle;\n",
       "    }\n",
       "\n",
       "    .dataframe tbody tr th {\n",
       "        vertical-align: top;\n",
       "    }\n",
       "\n",
       "    .dataframe thead th {\n",
       "        text-align: right;\n",
       "    }\n",
       "</style>\n",
       "<table border=\"1\" class=\"dataframe\">\n",
       "  <thead>\n",
       "    <tr style=\"text-align: right;\">\n",
       "      <th></th>\n",
       "      <th>Merchant_ID</th>\n",
       "      <th>Fraudster</th>\n",
       "      <th>Merchant_Registration_Date</th>\n",
       "      <th>Gender</th>\n",
       "      <th>Age</th>\n",
       "      <th>IP_Address</th>\n",
       "      <th>Date_of_Order</th>\n",
       "      <th>Order_Value_USD</th>\n",
       "      <th>Order_Source</th>\n",
       "      <th>Order_Payment_Method</th>\n",
       "    </tr>\n",
       "  </thead>\n",
       "  <tbody>\n",
       "    <tr>\n",
       "      <th>0</th>\n",
       "      <td>221592</td>\n",
       "      <td>0</td>\n",
       "      <td>2018-07-01 06:43:23</td>\n",
       "      <td>F</td>\n",
       "      <td>42</td>\n",
       "      <td>157.217.17.33</td>\n",
       "      <td>2018-10-29 17:58:25</td>\n",
       "      <td>205</td>\n",
       "      <td>Direct</td>\n",
       "      <td>Credit Card</td>\n",
       "    </tr>\n",
       "    <tr>\n",
       "      <th>1</th>\n",
       "      <td>316935</td>\n",
       "      <td>1</td>\n",
       "      <td>2018-01-18 01:10:42</td>\n",
       "      <td>M</td>\n",
       "      <td>42</td>\n",
       "      <td>46.8.62.247</td>\n",
       "      <td>2018-03-24 20:15:57</td>\n",
       "      <td>88</td>\n",
       "      <td>Ads</td>\n",
       "      <td>Cash On Delivery</td>\n",
       "    </tr>\n",
       "    <tr>\n",
       "      <th>2</th>\n",
       "      <td>38454</td>\n",
       "      <td>1</td>\n",
       "      <td>2018-07-16 07:56:34</td>\n",
       "      <td>M</td>\n",
       "      <td>19</td>\n",
       "      <td>222.110.0.90</td>\n",
       "      <td>2018-09-19 15:13:54</td>\n",
       "      <td>100</td>\n",
       "      <td>Direct</td>\n",
       "      <td>Credit Card</td>\n",
       "    </tr>\n",
       "    <tr>\n",
       "      <th>3</th>\n",
       "      <td>214437</td>\n",
       "      <td>1</td>\n",
       "      <td>2018-04-28 17:08:09</td>\n",
       "      <td>F</td>\n",
       "      <td>35</td>\n",
       "      <td>104.242.92.50</td>\n",
       "      <td>2018-05-27 23:24:42</td>\n",
       "      <td>60</td>\n",
       "      <td>Direct</td>\n",
       "      <td>Debit Card</td>\n",
       "    </tr>\n",
       "    <tr>\n",
       "      <th>4</th>\n",
       "      <td>296240</td>\n",
       "      <td>1</td>\n",
       "      <td>2018-01-09 00:26:19</td>\n",
       "      <td>F</td>\n",
       "      <td>27</td>\n",
       "      <td>175.104.225.24</td>\n",
       "      <td>2018-01-11 00:26:20</td>\n",
       "      <td>88</td>\n",
       "      <td>Ads</td>\n",
       "      <td>E-wallet</td>\n",
       "    </tr>\n",
       "  </tbody>\n",
       "</table>\n",
       "</div>"
      ],
      "text/plain": [
       "   Merchant_ID  Fraudster Merchant_Registration_Date Gender  Age  \\\n",
       "0       221592          0        2018-07-01 06:43:23      F   42   \n",
       "1       316935          1        2018-01-18 01:10:42      M   42   \n",
       "2        38454          1        2018-07-16 07:56:34      M   19   \n",
       "3       214437          1        2018-04-28 17:08:09      F   35   \n",
       "4       296240          1        2018-01-09 00:26:19      F   27   \n",
       "\n",
       "       IP_Address        Date_of_Order  Order_Value_USD Order_Source  \\\n",
       "0   157.217.17.33  2018-10-29 17:58:25              205       Direct   \n",
       "1     46.8.62.247  2018-03-24 20:15:57               88          Ads   \n",
       "2    222.110.0.90  2018-09-19 15:13:54              100       Direct   \n",
       "3   104.242.92.50  2018-05-27 23:24:42               60       Direct   \n",
       "4  175.104.225.24  2018-01-11 00:26:20               88          Ads   \n",
       "\n",
       "  Order_Payment_Method  \n",
       "0          Credit Card  \n",
       "1     Cash On Delivery  \n",
       "2          Credit Card  \n",
       "3           Debit Card  \n",
       "4             E-wallet  "
      ]
     },
     "execution_count": 2197,
     "metadata": {},
     "output_type": "execute_result"
    }
   ],
   "source": [
    "merged1.head()"
   ]
  },
  {
   "cell_type": "markdown",
   "metadata": {},
   "source": [
    "### modelling\n",
    "feature engineering"
   ]
  },
  {
   "cell_type": "code",
   "execution_count": 2198,
   "metadata": {},
   "outputs": [],
   "source": [
    "#create new columns considering only month\n",
    "merged1['reg_month']=pd.DatetimeIndex(merged1['Merchant_Registration_Date']).month"
   ]
  },
  {
   "cell_type": "code",
   "execution_count": 2199,
   "metadata": {},
   "outputs": [],
   "source": [
    "merged1['order_month']=pd.DatetimeIndex(merged1['Date_of_Order']).month"
   ]
  },
  {
   "cell_type": "code",
   "execution_count": 2200,
   "metadata": {},
   "outputs": [
    {
     "data": {
      "text/plain": [
       "0        7\n",
       "1        1\n",
       "2        7\n",
       "3        4\n",
       "4        1\n",
       "5        5\n",
       "6        4\n",
       "7        6\n",
       "8        1\n",
       "9        7\n",
       "10       2\n",
       "11       8\n",
       "12       5\n",
       "13       7\n",
       "14       1\n",
       "15       3\n",
       "16       5\n",
       "17       1\n",
       "18       5\n",
       "19       3\n",
       "20       2\n",
       "21       5\n",
       "22       5\n",
       "23       7\n",
       "24       8\n",
       "25       4\n",
       "26       8\n",
       "27       1\n",
       "28       3\n",
       "29       1\n",
       "        ..\n",
       "54183    7\n",
       "54184    6\n",
       "54185    3\n",
       "54186    7\n",
       "54187    8\n",
       "54188    3\n",
       "54189    4\n",
       "54190    7\n",
       "54191    8\n",
       "54192    3\n",
       "54193    2\n",
       "54194    6\n",
       "54195    3\n",
       "54196    4\n",
       "54197    1\n",
       "54198    8\n",
       "54199    4\n",
       "54200    3\n",
       "54201    2\n",
       "54202    2\n",
       "54203    3\n",
       "54204    8\n",
       "54205    8\n",
       "54206    1\n",
       "54207    2\n",
       "54208    7\n",
       "54209    2\n",
       "54210    4\n",
       "54211    6\n",
       "54212    3\n",
       "Name: reg_month, Length: 54213, dtype: int64"
      ]
     },
     "execution_count": 2200,
     "metadata": {},
     "output_type": "execute_result"
    }
   ],
   "source": [
    "merged1['reg_month'].astype('int')"
   ]
  },
  {
   "cell_type": "code",
   "execution_count": 2201,
   "metadata": {},
   "outputs": [
    {
     "data": {
      "text/plain": [
       "0        10\n",
       "1         3\n",
       "2         9\n",
       "3         5\n",
       "4         1\n",
       "5         7\n",
       "6         4\n",
       "7         8\n",
       "8         1\n",
       "9         9\n",
       "10        5\n",
       "11       10\n",
       "12        7\n",
       "13       10\n",
       "14        1\n",
       "15        3\n",
       "16        5\n",
       "17        4\n",
       "18        7\n",
       "19        6\n",
       "20        3\n",
       "21        8\n",
       "22        7\n",
       "23        8\n",
       "24       10\n",
       "25        6\n",
       "26        9\n",
       "27        3\n",
       "28        5\n",
       "29        2\n",
       "         ..\n",
       "54183    10\n",
       "54184     9\n",
       "54185     5\n",
       "54186     9\n",
       "54187    11\n",
       "54188     4\n",
       "54189     8\n",
       "54190    10\n",
       "54191     8\n",
       "54192     3\n",
       "54193     2\n",
       "54194     6\n",
       "54195     3\n",
       "54196     4\n",
       "54197     3\n",
       "54198     8\n",
       "54199     7\n",
       "54200     7\n",
       "54201     3\n",
       "54202     3\n",
       "54203     7\n",
       "54204    10\n",
       "54205     8\n",
       "54206     3\n",
       "54207     3\n",
       "54208     8\n",
       "54209     4\n",
       "54210     7\n",
       "54211     6\n",
       "54212     7\n",
       "Name: order_month, Length: 54213, dtype: int64"
      ]
     },
     "execution_count": 2201,
     "metadata": {},
     "output_type": "execute_result"
    }
   ],
   "source": [
    "#convert to int type\n",
    "merged1['order_month'].astype('int')"
   ]
  },
  {
   "cell_type": "code",
   "execution_count": 2202,
   "metadata": {},
   "outputs": [],
   "source": [
    "#drop the columns used for feature engg\n",
    "merged1.drop(['Merchant_Registration_Date'],axis=1,inplace=True)"
   ]
  },
  {
   "cell_type": "code",
   "execution_count": 2203,
   "metadata": {},
   "outputs": [],
   "source": [
    "merged1.drop(['Date_of_Order'],axis=1,inplace=True)"
   ]
  },
  {
   "cell_type": "code",
   "execution_count": 2204,
   "metadata": {},
   "outputs": [
    {
     "data": {
      "text/html": [
       "<div>\n",
       "<style scoped>\n",
       "    .dataframe tbody tr th:only-of-type {\n",
       "        vertical-align: middle;\n",
       "    }\n",
       "\n",
       "    .dataframe tbody tr th {\n",
       "        vertical-align: top;\n",
       "    }\n",
       "\n",
       "    .dataframe thead th {\n",
       "        text-align: right;\n",
       "    }\n",
       "</style>\n",
       "<table border=\"1\" class=\"dataframe\">\n",
       "  <thead>\n",
       "    <tr style=\"text-align: right;\">\n",
       "      <th></th>\n",
       "      <th>Merchant_ID</th>\n",
       "      <th>Fraudster</th>\n",
       "      <th>Gender</th>\n",
       "      <th>Age</th>\n",
       "      <th>IP_Address</th>\n",
       "      <th>Order_Value_USD</th>\n",
       "      <th>Order_Source</th>\n",
       "      <th>Order_Payment_Method</th>\n",
       "      <th>reg_month</th>\n",
       "      <th>order_month</th>\n",
       "    </tr>\n",
       "  </thead>\n",
       "  <tbody>\n",
       "    <tr>\n",
       "      <th>0</th>\n",
       "      <td>221592</td>\n",
       "      <td>0</td>\n",
       "      <td>F</td>\n",
       "      <td>42</td>\n",
       "      <td>157.217.17.33</td>\n",
       "      <td>205</td>\n",
       "      <td>Direct</td>\n",
       "      <td>Credit Card</td>\n",
       "      <td>7</td>\n",
       "      <td>10</td>\n",
       "    </tr>\n",
       "    <tr>\n",
       "      <th>1</th>\n",
       "      <td>316935</td>\n",
       "      <td>1</td>\n",
       "      <td>M</td>\n",
       "      <td>42</td>\n",
       "      <td>46.8.62.247</td>\n",
       "      <td>88</td>\n",
       "      <td>Ads</td>\n",
       "      <td>Cash On Delivery</td>\n",
       "      <td>1</td>\n",
       "      <td>3</td>\n",
       "    </tr>\n",
       "    <tr>\n",
       "      <th>2</th>\n",
       "      <td>38454</td>\n",
       "      <td>1</td>\n",
       "      <td>M</td>\n",
       "      <td>19</td>\n",
       "      <td>222.110.0.90</td>\n",
       "      <td>100</td>\n",
       "      <td>Direct</td>\n",
       "      <td>Credit Card</td>\n",
       "      <td>7</td>\n",
       "      <td>9</td>\n",
       "    </tr>\n",
       "    <tr>\n",
       "      <th>3</th>\n",
       "      <td>214437</td>\n",
       "      <td>1</td>\n",
       "      <td>F</td>\n",
       "      <td>35</td>\n",
       "      <td>104.242.92.50</td>\n",
       "      <td>60</td>\n",
       "      <td>Direct</td>\n",
       "      <td>Debit Card</td>\n",
       "      <td>4</td>\n",
       "      <td>5</td>\n",
       "    </tr>\n",
       "    <tr>\n",
       "      <th>4</th>\n",
       "      <td>296240</td>\n",
       "      <td>1</td>\n",
       "      <td>F</td>\n",
       "      <td>27</td>\n",
       "      <td>175.104.225.24</td>\n",
       "      <td>88</td>\n",
       "      <td>Ads</td>\n",
       "      <td>E-wallet</td>\n",
       "      <td>1</td>\n",
       "      <td>1</td>\n",
       "    </tr>\n",
       "  </tbody>\n",
       "</table>\n",
       "</div>"
      ],
      "text/plain": [
       "   Merchant_ID  Fraudster Gender  Age      IP_Address  Order_Value_USD  \\\n",
       "0       221592          0      F   42   157.217.17.33              205   \n",
       "1       316935          1      M   42     46.8.62.247               88   \n",
       "2        38454          1      M   19    222.110.0.90              100   \n",
       "3       214437          1      F   35   104.242.92.50               60   \n",
       "4       296240          1      F   27  175.104.225.24               88   \n",
       "\n",
       "  Order_Source Order_Payment_Method  reg_month  order_month  \n",
       "0       Direct          Credit Card          7           10  \n",
       "1          Ads     Cash On Delivery          1            3  \n",
       "2       Direct          Credit Card          7            9  \n",
       "3       Direct           Debit Card          4            5  \n",
       "4          Ads             E-wallet          1            1  "
      ]
     },
     "execution_count": 2204,
     "metadata": {},
     "output_type": "execute_result"
    }
   ],
   "source": [
    "merged1.head()"
   ]
  },
  {
   "cell_type": "code",
   "execution_count": 2205,
   "metadata": {},
   "outputs": [],
   "source": [
    "#x, y split\n",
    "#train-test split"
   ]
  },
  {
   "cell_type": "code",
   "execution_count": 2206,
   "metadata": {},
   "outputs": [
    {
     "data": {
      "text/html": [
       "<div>\n",
       "<style scoped>\n",
       "    .dataframe tbody tr th:only-of-type {\n",
       "        vertical-align: middle;\n",
       "    }\n",
       "\n",
       "    .dataframe tbody tr th {\n",
       "        vertical-align: top;\n",
       "    }\n",
       "\n",
       "    .dataframe thead th {\n",
       "        text-align: right;\n",
       "    }\n",
       "</style>\n",
       "<table border=\"1\" class=\"dataframe\">\n",
       "  <thead>\n",
       "    <tr style=\"text-align: right;\">\n",
       "      <th></th>\n",
       "      <th>Merchant_ID</th>\n",
       "      <th>Gender</th>\n",
       "      <th>Age</th>\n",
       "      <th>IP_Address</th>\n",
       "      <th>Order_Value_USD</th>\n",
       "      <th>Order_Source</th>\n",
       "      <th>Order_Payment_Method</th>\n",
       "      <th>reg_month</th>\n",
       "      <th>order_month</th>\n",
       "    </tr>\n",
       "  </thead>\n",
       "  <tbody>\n",
       "    <tr>\n",
       "      <th>0</th>\n",
       "      <td>221592</td>\n",
       "      <td>F</td>\n",
       "      <td>42</td>\n",
       "      <td>157.217.17.33</td>\n",
       "      <td>205</td>\n",
       "      <td>Direct</td>\n",
       "      <td>Credit Card</td>\n",
       "      <td>7</td>\n",
       "      <td>10</td>\n",
       "    </tr>\n",
       "    <tr>\n",
       "      <th>1</th>\n",
       "      <td>316935</td>\n",
       "      <td>M</td>\n",
       "      <td>42</td>\n",
       "      <td>46.8.62.247</td>\n",
       "      <td>88</td>\n",
       "      <td>Ads</td>\n",
       "      <td>Cash On Delivery</td>\n",
       "      <td>1</td>\n",
       "      <td>3</td>\n",
       "    </tr>\n",
       "    <tr>\n",
       "      <th>2</th>\n",
       "      <td>38454</td>\n",
       "      <td>M</td>\n",
       "      <td>19</td>\n",
       "      <td>222.110.0.90</td>\n",
       "      <td>100</td>\n",
       "      <td>Direct</td>\n",
       "      <td>Credit Card</td>\n",
       "      <td>7</td>\n",
       "      <td>9</td>\n",
       "    </tr>\n",
       "    <tr>\n",
       "      <th>3</th>\n",
       "      <td>214437</td>\n",
       "      <td>F</td>\n",
       "      <td>35</td>\n",
       "      <td>104.242.92.50</td>\n",
       "      <td>60</td>\n",
       "      <td>Direct</td>\n",
       "      <td>Debit Card</td>\n",
       "      <td>4</td>\n",
       "      <td>5</td>\n",
       "    </tr>\n",
       "    <tr>\n",
       "      <th>4</th>\n",
       "      <td>296240</td>\n",
       "      <td>F</td>\n",
       "      <td>27</td>\n",
       "      <td>175.104.225.24</td>\n",
       "      <td>88</td>\n",
       "      <td>Ads</td>\n",
       "      <td>E-wallet</td>\n",
       "      <td>1</td>\n",
       "      <td>1</td>\n",
       "    </tr>\n",
       "  </tbody>\n",
       "</table>\n",
       "</div>"
      ],
      "text/plain": [
       "   Merchant_ID Gender  Age      IP_Address  Order_Value_USD Order_Source  \\\n",
       "0       221592      F   42   157.217.17.33              205       Direct   \n",
       "1       316935      M   42     46.8.62.247               88          Ads   \n",
       "2        38454      M   19    222.110.0.90              100       Direct   \n",
       "3       214437      F   35   104.242.92.50               60       Direct   \n",
       "4       296240      F   27  175.104.225.24               88          Ads   \n",
       "\n",
       "  Order_Payment_Method  reg_month  order_month  \n",
       "0          Credit Card          7           10  \n",
       "1     Cash On Delivery          1            3  \n",
       "2          Credit Card          7            9  \n",
       "3           Debit Card          4            5  \n",
       "4             E-wallet          1            1  "
      ]
     },
     "execution_count": 2206,
     "metadata": {},
     "output_type": "execute_result"
    }
   ],
   "source": [
    "X = merged1.drop(['Fraudster'],axis=1)\n",
    "X.head()"
   ]
  },
  {
   "cell_type": "code",
   "execution_count": 2207,
   "metadata": {},
   "outputs": [],
   "source": [
    "y=merged1['Fraudster']"
   ]
  },
  {
   "cell_type": "code",
   "execution_count": 2208,
   "metadata": {},
   "outputs": [
    {
     "data": {
      "text/plain": [
       "0    0\n",
       "1    1\n",
       "2    1\n",
       "3    1\n",
       "4    1\n",
       "Name: Fraudster, dtype: int64"
      ]
     },
     "execution_count": 2208,
     "metadata": {},
     "output_type": "execute_result"
    }
   ],
   "source": [
    "y.head()"
   ]
  },
  {
   "cell_type": "code",
   "execution_count": 2209,
   "metadata": {},
   "outputs": [],
   "source": [
    "X_train, X_test, y_train, y_test = train_test_split(X, y, test_size=0.20)"
   ]
  },
  {
   "cell_type": "code",
   "execution_count": 2210,
   "metadata": {},
   "outputs": [
    {
     "data": {
      "text/plain": [
       "(43370, 9)"
      ]
     },
     "execution_count": 2210,
     "metadata": {},
     "output_type": "execute_result"
    }
   ],
   "source": [
    "X_train.shape"
   ]
  },
  {
   "cell_type": "code",
   "execution_count": 2211,
   "metadata": {},
   "outputs": [
    {
     "data": {
      "text/plain": [
       "(10843, 9)"
      ]
     },
     "execution_count": 2211,
     "metadata": {},
     "output_type": "execute_result"
    }
   ],
   "source": [
    "X_test.shape"
   ]
  },
  {
   "cell_type": "code",
   "execution_count": 2212,
   "metadata": {
    "scrolled": true
   },
   "outputs": [
    {
     "data": {
      "text/plain": [
       "(43370,)"
      ]
     },
     "execution_count": 2212,
     "metadata": {},
     "output_type": "execute_result"
    }
   ],
   "source": [
    "y_train.shape"
   ]
  },
  {
   "cell_type": "code",
   "execution_count": 2213,
   "metadata": {},
   "outputs": [],
   "source": [
    "#segregating column types\n",
    "num_cols = [\"Age\", \"Order_Value_USD\", \"reg_month\", \"order_month\"]\n",
    "cat_cols = ['Gender', 'Order_Source', 'Order_Payment_Method']"
   ]
  },
  {
   "cell_type": "code",
   "execution_count": 2214,
   "metadata": {
    "scrolled": true
   },
   "outputs": [
    {
     "data": {
      "text/html": [
       "<div>\n",
       "<style scoped>\n",
       "    .dataframe tbody tr th:only-of-type {\n",
       "        vertical-align: middle;\n",
       "    }\n",
       "\n",
       "    .dataframe tbody tr th {\n",
       "        vertical-align: top;\n",
       "    }\n",
       "\n",
       "    .dataframe thead th {\n",
       "        text-align: right;\n",
       "    }\n",
       "</style>\n",
       "<table border=\"1\" class=\"dataframe\">\n",
       "  <thead>\n",
       "    <tr style=\"text-align: right;\">\n",
       "      <th></th>\n",
       "      <th>Merchant_ID</th>\n",
       "      <th>Gender</th>\n",
       "      <th>Age</th>\n",
       "      <th>IP_Address</th>\n",
       "      <th>Order_Value_USD</th>\n",
       "      <th>Order_Source</th>\n",
       "      <th>Order_Payment_Method</th>\n",
       "      <th>reg_month</th>\n",
       "      <th>order_month</th>\n",
       "    </tr>\n",
       "  </thead>\n",
       "  <tbody>\n",
       "    <tr>\n",
       "      <th>0</th>\n",
       "      <td>221592</td>\n",
       "      <td>F</td>\n",
       "      <td>42</td>\n",
       "      <td>157.217.17.33</td>\n",
       "      <td>205</td>\n",
       "      <td>Direct</td>\n",
       "      <td>Credit Card</td>\n",
       "      <td>7</td>\n",
       "      <td>10</td>\n",
       "    </tr>\n",
       "    <tr>\n",
       "      <th>1</th>\n",
       "      <td>316935</td>\n",
       "      <td>M</td>\n",
       "      <td>42</td>\n",
       "      <td>46.8.62.247</td>\n",
       "      <td>88</td>\n",
       "      <td>Ads</td>\n",
       "      <td>Cash On Delivery</td>\n",
       "      <td>1</td>\n",
       "      <td>3</td>\n",
       "    </tr>\n",
       "    <tr>\n",
       "      <th>2</th>\n",
       "      <td>38454</td>\n",
       "      <td>M</td>\n",
       "      <td>19</td>\n",
       "      <td>222.110.0.90</td>\n",
       "      <td>100</td>\n",
       "      <td>Direct</td>\n",
       "      <td>Credit Card</td>\n",
       "      <td>7</td>\n",
       "      <td>9</td>\n",
       "    </tr>\n",
       "    <tr>\n",
       "      <th>3</th>\n",
       "      <td>214437</td>\n",
       "      <td>F</td>\n",
       "      <td>35</td>\n",
       "      <td>104.242.92.50</td>\n",
       "      <td>60</td>\n",
       "      <td>Direct</td>\n",
       "      <td>Debit Card</td>\n",
       "      <td>4</td>\n",
       "      <td>5</td>\n",
       "    </tr>\n",
       "    <tr>\n",
       "      <th>4</th>\n",
       "      <td>296240</td>\n",
       "      <td>F</td>\n",
       "      <td>27</td>\n",
       "      <td>175.104.225.24</td>\n",
       "      <td>88</td>\n",
       "      <td>Ads</td>\n",
       "      <td>E-wallet</td>\n",
       "      <td>1</td>\n",
       "      <td>1</td>\n",
       "    </tr>\n",
       "  </tbody>\n",
       "</table>\n",
       "</div>"
      ],
      "text/plain": [
       "   Merchant_ID Gender  Age      IP_Address  Order_Value_USD Order_Source  \\\n",
       "0       221592      F   42   157.217.17.33              205       Direct   \n",
       "1       316935      M   42     46.8.62.247               88          Ads   \n",
       "2        38454      M   19    222.110.0.90              100       Direct   \n",
       "3       214437      F   35   104.242.92.50               60       Direct   \n",
       "4       296240      F   27  175.104.225.24               88          Ads   \n",
       "\n",
       "  Order_Payment_Method  reg_month  order_month  \n",
       "0          Credit Card          7           10  \n",
       "1     Cash On Delivery          1            3  \n",
       "2          Credit Card          7            9  \n",
       "3           Debit Card          4            5  \n",
       "4             E-wallet          1            1  "
      ]
     },
     "execution_count": 2214,
     "metadata": {},
     "output_type": "execute_result"
    }
   ],
   "source": [
    "X.head()"
   ]
  },
  {
   "cell_type": "code",
   "execution_count": 2215,
   "metadata": {},
   "outputs": [],
   "source": [
    "#dummification\n",
    "\n",
    "X_train = pd.get_dummies(X_train, columns=cat_cols,drop_first=True)\n",
    "\n",
    "# Test\n",
    "X_test = pd.get_dummies(X_test, columns=cat_cols, drop_first=True)"
   ]
  },
  {
   "cell_type": "code",
   "execution_count": 2216,
   "metadata": {},
   "outputs": [
    {
     "data": {
      "text/html": [
       "<div>\n",
       "<style scoped>\n",
       "    .dataframe tbody tr th:only-of-type {\n",
       "        vertical-align: middle;\n",
       "    }\n",
       "\n",
       "    .dataframe tbody tr th {\n",
       "        vertical-align: top;\n",
       "    }\n",
       "\n",
       "    .dataframe thead th {\n",
       "        text-align: right;\n",
       "    }\n",
       "</style>\n",
       "<table border=\"1\" class=\"dataframe\">\n",
       "  <thead>\n",
       "    <tr style=\"text-align: right;\">\n",
       "      <th></th>\n",
       "      <th>Merchant_ID</th>\n",
       "      <th>Age</th>\n",
       "      <th>IP_Address</th>\n",
       "      <th>Order_Value_USD</th>\n",
       "      <th>reg_month</th>\n",
       "      <th>order_month</th>\n",
       "      <th>Gender_M</th>\n",
       "      <th>Order_Source_Direct</th>\n",
       "      <th>Order_Source_SEO</th>\n",
       "      <th>Order_Payment_Method_Credit Card</th>\n",
       "      <th>Order_Payment_Method_Debit Card</th>\n",
       "      <th>Order_Payment_Method_E-wallet</th>\n",
       "      <th>Order_Payment_Method_Internet Banking</th>\n",
       "    </tr>\n",
       "  </thead>\n",
       "  <tbody>\n",
       "    <tr>\n",
       "      <th>31491</th>\n",
       "      <td>314324</td>\n",
       "      <td>28</td>\n",
       "      <td>245.241.63.185</td>\n",
       "      <td>180</td>\n",
       "      <td>1</td>\n",
       "      <td>1</td>\n",
       "      <td>1</td>\n",
       "      <td>0</td>\n",
       "      <td>0</td>\n",
       "      <td>0</td>\n",
       "      <td>0</td>\n",
       "      <td>1</td>\n",
       "      <td>0</td>\n",
       "    </tr>\n",
       "    <tr>\n",
       "      <th>18625</th>\n",
       "      <td>247729</td>\n",
       "      <td>43</td>\n",
       "      <td>175.1.73.149</td>\n",
       "      <td>88</td>\n",
       "      <td>4</td>\n",
       "      <td>7</td>\n",
       "      <td>1</td>\n",
       "      <td>0</td>\n",
       "      <td>0</td>\n",
       "      <td>0</td>\n",
       "      <td>1</td>\n",
       "      <td>0</td>\n",
       "      <td>0</td>\n",
       "    </tr>\n",
       "    <tr>\n",
       "      <th>52156</th>\n",
       "      <td>324947</td>\n",
       "      <td>40</td>\n",
       "      <td>108.204.114.182</td>\n",
       "      <td>58</td>\n",
       "      <td>5</td>\n",
       "      <td>7</td>\n",
       "      <td>1</td>\n",
       "      <td>0</td>\n",
       "      <td>1</td>\n",
       "      <td>1</td>\n",
       "      <td>0</td>\n",
       "      <td>0</td>\n",
       "      <td>0</td>\n",
       "    </tr>\n",
       "    <tr>\n",
       "      <th>19972</th>\n",
       "      <td>346272</td>\n",
       "      <td>30</td>\n",
       "      <td>240.238.113.152</td>\n",
       "      <td>215</td>\n",
       "      <td>1</td>\n",
       "      <td>5</td>\n",
       "      <td>0</td>\n",
       "      <td>0</td>\n",
       "      <td>1</td>\n",
       "      <td>0</td>\n",
       "      <td>1</td>\n",
       "      <td>0</td>\n",
       "      <td>0</td>\n",
       "    </tr>\n",
       "    <tr>\n",
       "      <th>28417</th>\n",
       "      <td>104196</td>\n",
       "      <td>25</td>\n",
       "      <td>84.107.87.133</td>\n",
       "      <td>58</td>\n",
       "      <td>1</td>\n",
       "      <td>1</td>\n",
       "      <td>1</td>\n",
       "      <td>1</td>\n",
       "      <td>0</td>\n",
       "      <td>1</td>\n",
       "      <td>0</td>\n",
       "      <td>0</td>\n",
       "      <td>0</td>\n",
       "    </tr>\n",
       "  </tbody>\n",
       "</table>\n",
       "</div>"
      ],
      "text/plain": [
       "       Merchant_ID  Age       IP_Address  Order_Value_USD  reg_month  \\\n",
       "31491       314324   28   245.241.63.185              180          1   \n",
       "18625       247729   43     175.1.73.149               88          4   \n",
       "52156       324947   40  108.204.114.182               58          5   \n",
       "19972       346272   30  240.238.113.152              215          1   \n",
       "28417       104196   25    84.107.87.133               58          1   \n",
       "\n",
       "       order_month  Gender_M  Order_Source_Direct  Order_Source_SEO  \\\n",
       "31491            1         1                    0                 0   \n",
       "18625            7         1                    0                 0   \n",
       "52156            7         1                    0                 1   \n",
       "19972            5         0                    0                 1   \n",
       "28417            1         1                    1                 0   \n",
       "\n",
       "       Order_Payment_Method_Credit Card  Order_Payment_Method_Debit Card  \\\n",
       "31491                                 0                                0   \n",
       "18625                                 0                                1   \n",
       "52156                                 1                                0   \n",
       "19972                                 0                                1   \n",
       "28417                                 1                                0   \n",
       "\n",
       "       Order_Payment_Method_E-wallet  Order_Payment_Method_Internet Banking  \n",
       "31491                              1                                      0  \n",
       "18625                              0                                      0  \n",
       "52156                              0                                      0  \n",
       "19972                              0                                      0  \n",
       "28417                              0                                      0  "
      ]
     },
     "execution_count": 2216,
     "metadata": {},
     "output_type": "execute_result"
    }
   ],
   "source": [
    "X_train.head()"
   ]
  },
  {
   "cell_type": "code",
   "execution_count": 2217,
   "metadata": {},
   "outputs": [],
   "source": [
    "X_test.drop(['IP_Address'],axis=1,inplace=True)"
   ]
  },
  {
   "cell_type": "code",
   "execution_count": 2218,
   "metadata": {},
   "outputs": [],
   "source": [
    "X_train.drop(['IP_Address'],axis=1,inplace=True)"
   ]
  },
  {
   "cell_type": "code",
   "execution_count": 2219,
   "metadata": {},
   "outputs": [
    {
     "data": {
      "text/html": [
       "<div>\n",
       "<style scoped>\n",
       "    .dataframe tbody tr th:only-of-type {\n",
       "        vertical-align: middle;\n",
       "    }\n",
       "\n",
       "    .dataframe tbody tr th {\n",
       "        vertical-align: top;\n",
       "    }\n",
       "\n",
       "    .dataframe thead th {\n",
       "        text-align: right;\n",
       "    }\n",
       "</style>\n",
       "<table border=\"1\" class=\"dataframe\">\n",
       "  <thead>\n",
       "    <tr style=\"text-align: right;\">\n",
       "      <th></th>\n",
       "      <th>Merchant_ID</th>\n",
       "      <th>Age</th>\n",
       "      <th>Order_Value_USD</th>\n",
       "      <th>reg_month</th>\n",
       "      <th>order_month</th>\n",
       "      <th>Gender_M</th>\n",
       "      <th>Order_Source_Direct</th>\n",
       "      <th>Order_Source_SEO</th>\n",
       "      <th>Order_Payment_Method_Credit Card</th>\n",
       "      <th>Order_Payment_Method_Debit Card</th>\n",
       "      <th>Order_Payment_Method_E-wallet</th>\n",
       "      <th>Order_Payment_Method_Internet Banking</th>\n",
       "    </tr>\n",
       "  </thead>\n",
       "  <tbody>\n",
       "    <tr>\n",
       "      <th>21942</th>\n",
       "      <td>102071</td>\n",
       "      <td>26</td>\n",
       "      <td>22</td>\n",
       "      <td>4</td>\n",
       "      <td>8</td>\n",
       "      <td>0</td>\n",
       "      <td>0</td>\n",
       "      <td>0</td>\n",
       "      <td>0</td>\n",
       "      <td>0</td>\n",
       "      <td>0</td>\n",
       "      <td>1</td>\n",
       "    </tr>\n",
       "    <tr>\n",
       "      <th>46902</th>\n",
       "      <td>387000</td>\n",
       "      <td>41</td>\n",
       "      <td>35</td>\n",
       "      <td>7</td>\n",
       "      <td>10</td>\n",
       "      <td>1</td>\n",
       "      <td>0</td>\n",
       "      <td>1</td>\n",
       "      <td>0</td>\n",
       "      <td>1</td>\n",
       "      <td>0</td>\n",
       "      <td>0</td>\n",
       "    </tr>\n",
       "    <tr>\n",
       "      <th>44659</th>\n",
       "      <td>209255</td>\n",
       "      <td>23</td>\n",
       "      <td>108</td>\n",
       "      <td>8</td>\n",
       "      <td>10</td>\n",
       "      <td>1</td>\n",
       "      <td>0</td>\n",
       "      <td>0</td>\n",
       "      <td>0</td>\n",
       "      <td>1</td>\n",
       "      <td>0</td>\n",
       "      <td>0</td>\n",
       "    </tr>\n",
       "    <tr>\n",
       "      <th>40379</th>\n",
       "      <td>44723</td>\n",
       "      <td>44</td>\n",
       "      <td>158</td>\n",
       "      <td>2</td>\n",
       "      <td>4</td>\n",
       "      <td>1</td>\n",
       "      <td>0</td>\n",
       "      <td>1</td>\n",
       "      <td>0</td>\n",
       "      <td>0</td>\n",
       "      <td>0</td>\n",
       "      <td>1</td>\n",
       "    </tr>\n",
       "    <tr>\n",
       "      <th>19986</th>\n",
       "      <td>81340</td>\n",
       "      <td>35</td>\n",
       "      <td>158</td>\n",
       "      <td>1</td>\n",
       "      <td>2</td>\n",
       "      <td>0</td>\n",
       "      <td>0</td>\n",
       "      <td>1</td>\n",
       "      <td>1</td>\n",
       "      <td>0</td>\n",
       "      <td>0</td>\n",
       "      <td>0</td>\n",
       "    </tr>\n",
       "  </tbody>\n",
       "</table>\n",
       "</div>"
      ],
      "text/plain": [
       "       Merchant_ID  Age  Order_Value_USD  reg_month  order_month  Gender_M  \\\n",
       "21942       102071   26               22          4            8         0   \n",
       "46902       387000   41               35          7           10         1   \n",
       "44659       209255   23              108          8           10         1   \n",
       "40379        44723   44              158          2            4         1   \n",
       "19986        81340   35              158          1            2         0   \n",
       "\n",
       "       Order_Source_Direct  Order_Source_SEO  \\\n",
       "21942                    0                 0   \n",
       "46902                    0                 1   \n",
       "44659                    0                 0   \n",
       "40379                    0                 1   \n",
       "19986                    0                 1   \n",
       "\n",
       "       Order_Payment_Method_Credit Card  Order_Payment_Method_Debit Card  \\\n",
       "21942                                 0                                0   \n",
       "46902                                 0                                1   \n",
       "44659                                 0                                1   \n",
       "40379                                 0                                0   \n",
       "19986                                 1                                0   \n",
       "\n",
       "       Order_Payment_Method_E-wallet  Order_Payment_Method_Internet Banking  \n",
       "21942                              0                                      1  \n",
       "46902                              0                                      0  \n",
       "44659                              0                                      0  \n",
       "40379                              0                                      1  \n",
       "19986                              0                                      0  "
      ]
     },
     "execution_count": 2219,
     "metadata": {},
     "output_type": "execute_result"
    }
   ],
   "source": [
    "X_test.head()"
   ]
  },
  {
   "cell_type": "code",
   "execution_count": 2220,
   "metadata": {},
   "outputs": [
    {
     "data": {
      "text/html": [
       "<div>\n",
       "<style scoped>\n",
       "    .dataframe tbody tr th:only-of-type {\n",
       "        vertical-align: middle;\n",
       "    }\n",
       "\n",
       "    .dataframe tbody tr th {\n",
       "        vertical-align: top;\n",
       "    }\n",
       "\n",
       "    .dataframe thead th {\n",
       "        text-align: right;\n",
       "    }\n",
       "</style>\n",
       "<table border=\"1\" class=\"dataframe\">\n",
       "  <thead>\n",
       "    <tr style=\"text-align: right;\">\n",
       "      <th></th>\n",
       "      <th>Merchant_ID</th>\n",
       "      <th>Age</th>\n",
       "      <th>Order_Value_USD</th>\n",
       "      <th>reg_month</th>\n",
       "      <th>order_month</th>\n",
       "      <th>Gender_M</th>\n",
       "      <th>Order_Source_Direct</th>\n",
       "      <th>Order_Source_SEO</th>\n",
       "      <th>Order_Payment_Method_Credit Card</th>\n",
       "      <th>Order_Payment_Method_Debit Card</th>\n",
       "      <th>Order_Payment_Method_E-wallet</th>\n",
       "      <th>Order_Payment_Method_Internet Banking</th>\n",
       "    </tr>\n",
       "  </thead>\n",
       "  <tbody>\n",
       "    <tr>\n",
       "      <th>31491</th>\n",
       "      <td>314324</td>\n",
       "      <td>28</td>\n",
       "      <td>180</td>\n",
       "      <td>1</td>\n",
       "      <td>1</td>\n",
       "      <td>1</td>\n",
       "      <td>0</td>\n",
       "      <td>0</td>\n",
       "      <td>0</td>\n",
       "      <td>0</td>\n",
       "      <td>1</td>\n",
       "      <td>0</td>\n",
       "    </tr>\n",
       "    <tr>\n",
       "      <th>18625</th>\n",
       "      <td>247729</td>\n",
       "      <td>43</td>\n",
       "      <td>88</td>\n",
       "      <td>4</td>\n",
       "      <td>7</td>\n",
       "      <td>1</td>\n",
       "      <td>0</td>\n",
       "      <td>0</td>\n",
       "      <td>0</td>\n",
       "      <td>1</td>\n",
       "      <td>0</td>\n",
       "      <td>0</td>\n",
       "    </tr>\n",
       "    <tr>\n",
       "      <th>52156</th>\n",
       "      <td>324947</td>\n",
       "      <td>40</td>\n",
       "      <td>58</td>\n",
       "      <td>5</td>\n",
       "      <td>7</td>\n",
       "      <td>1</td>\n",
       "      <td>0</td>\n",
       "      <td>1</td>\n",
       "      <td>1</td>\n",
       "      <td>0</td>\n",
       "      <td>0</td>\n",
       "      <td>0</td>\n",
       "    </tr>\n",
       "    <tr>\n",
       "      <th>19972</th>\n",
       "      <td>346272</td>\n",
       "      <td>30</td>\n",
       "      <td>215</td>\n",
       "      <td>1</td>\n",
       "      <td>5</td>\n",
       "      <td>0</td>\n",
       "      <td>0</td>\n",
       "      <td>1</td>\n",
       "      <td>0</td>\n",
       "      <td>1</td>\n",
       "      <td>0</td>\n",
       "      <td>0</td>\n",
       "    </tr>\n",
       "    <tr>\n",
       "      <th>28417</th>\n",
       "      <td>104196</td>\n",
       "      <td>25</td>\n",
       "      <td>58</td>\n",
       "      <td>1</td>\n",
       "      <td>1</td>\n",
       "      <td>1</td>\n",
       "      <td>1</td>\n",
       "      <td>0</td>\n",
       "      <td>1</td>\n",
       "      <td>0</td>\n",
       "      <td>0</td>\n",
       "      <td>0</td>\n",
       "    </tr>\n",
       "  </tbody>\n",
       "</table>\n",
       "</div>"
      ],
      "text/plain": [
       "       Merchant_ID  Age  Order_Value_USD  reg_month  order_month  Gender_M  \\\n",
       "31491       314324   28              180          1            1         1   \n",
       "18625       247729   43               88          4            7         1   \n",
       "52156       324947   40               58          5            7         1   \n",
       "19972       346272   30              215          1            5         0   \n",
       "28417       104196   25               58          1            1         1   \n",
       "\n",
       "       Order_Source_Direct  Order_Source_SEO  \\\n",
       "31491                    0                 0   \n",
       "18625                    0                 0   \n",
       "52156                    0                 1   \n",
       "19972                    0                 1   \n",
       "28417                    1                 0   \n",
       "\n",
       "       Order_Payment_Method_Credit Card  Order_Payment_Method_Debit Card  \\\n",
       "31491                                 0                                0   \n",
       "18625                                 0                                1   \n",
       "52156                                 1                                0   \n",
       "19972                                 0                                1   \n",
       "28417                                 1                                0   \n",
       "\n",
       "       Order_Payment_Method_E-wallet  Order_Payment_Method_Internet Banking  \n",
       "31491                              1                                      0  \n",
       "18625                              0                                      0  \n",
       "52156                              0                                      0  \n",
       "19972                              0                                      0  \n",
       "28417                              0                                      0  "
      ]
     },
     "execution_count": 2220,
     "metadata": {},
     "output_type": "execute_result"
    }
   ],
   "source": [
    "X_train.head()"
   ]
  },
  {
   "cell_type": "code",
   "execution_count": 2221,
   "metadata": {},
   "outputs": [
    {
     "data": {
      "text/plain": [
       "31491    1\n",
       "18625    0\n",
       "52156    0\n",
       "19972    0\n",
       "28417    1\n",
       "Name: Fraudster, dtype: int64"
      ]
     },
     "execution_count": 2221,
     "metadata": {},
     "output_type": "execute_result"
    }
   ],
   "source": [
    "y_train.head()"
   ]
  },
  {
   "cell_type": "code",
   "execution_count": 2222,
   "metadata": {},
   "outputs": [
    {
     "name": "stderr",
     "output_type": "stream",
     "text": [
      "/Users/pavankumar/anaconda3/lib/python3.7/site-packages/sklearn/linear_model/logistic.py:433: FutureWarning: Default solver will be changed to 'lbfgs' in 0.22. Specify a solver to silence this warning.\n",
      "  FutureWarning)\n"
     ]
    },
    {
     "data": {
      "text/plain": [
       "LogisticRegression(C=1.0, class_weight=None, dual=False, fit_intercept=True,\n",
       "          intercept_scaling=1, max_iter=100, multi_class='warn',\n",
       "          n_jobs=None, penalty='l2', random_state=None, solver='warn',\n",
       "          tol=0.0001, verbose=0, warm_start=False)"
      ]
     },
     "execution_count": 2222,
     "metadata": {},
     "output_type": "execute_result"
    }
   ],
   "source": [
    "#logistic regreesion\n",
    "logreg = LogisticRegression()\n",
    "logreg.fit(X_train,y_train)"
   ]
  },
  {
   "cell_type": "code",
   "execution_count": null,
   "metadata": {},
   "outputs": [],
   "source": [
    "#creating adataframe to represent neatly"
   ]
  },
  {
   "cell_type": "code",
   "execution_count": 2223,
   "metadata": {},
   "outputs": [
    {
     "data": {
      "text/html": [
       "<div>\n",
       "<style scoped>\n",
       "    .dataframe tbody tr th:only-of-type {\n",
       "        vertical-align: middle;\n",
       "    }\n",
       "\n",
       "    .dataframe tbody tr th {\n",
       "        vertical-align: top;\n",
       "    }\n",
       "\n",
       "    .dataframe thead th {\n",
       "        text-align: right;\n",
       "    }\n",
       "</style>\n",
       "<table border=\"1\" class=\"dataframe\">\n",
       "  <thead>\n",
       "    <tr style=\"text-align: right;\">\n",
       "      <th></th>\n",
       "      <th>Features</th>\n",
       "      <th>Coefficients</th>\n",
       "    </tr>\n",
       "  </thead>\n",
       "  <tbody>\n",
       "    <tr>\n",
       "      <th>0</th>\n",
       "      <td>Merchant_ID</td>\n",
       "      <td>-0.000003</td>\n",
       "    </tr>\n",
       "    <tr>\n",
       "      <th>1</th>\n",
       "      <td>Gender</td>\n",
       "      <td>-0.012410</td>\n",
       "    </tr>\n",
       "    <tr>\n",
       "      <th>2</th>\n",
       "      <td>Age</td>\n",
       "      <td>-0.011991</td>\n",
       "    </tr>\n",
       "    <tr>\n",
       "      <th>3</th>\n",
       "      <td>IP_Address</td>\n",
       "      <td>-0.003353</td>\n",
       "    </tr>\n",
       "    <tr>\n",
       "      <th>4</th>\n",
       "      <td>Order_Value_USD</td>\n",
       "      <td>-0.005162</td>\n",
       "    </tr>\n",
       "    <tr>\n",
       "      <th>5</th>\n",
       "      <td>Order_Source</td>\n",
       "      <td>-0.000215</td>\n",
       "    </tr>\n",
       "    <tr>\n",
       "      <th>6</th>\n",
       "      <td>Order_Payment_Method</td>\n",
       "      <td>-0.000048</td>\n",
       "    </tr>\n",
       "    <tr>\n",
       "      <th>7</th>\n",
       "      <td>reg_month</td>\n",
       "      <td>-0.000193</td>\n",
       "    </tr>\n",
       "    <tr>\n",
       "      <th>8</th>\n",
       "      <td>order_month</td>\n",
       "      <td>-0.000126</td>\n",
       "    </tr>\n",
       "    <tr>\n",
       "      <th>9</th>\n",
       "      <td>NaN</td>\n",
       "      <td>-0.000070</td>\n",
       "    </tr>\n",
       "    <tr>\n",
       "      <th>10</th>\n",
       "      <td>NaN</td>\n",
       "      <td>-0.000060</td>\n",
       "    </tr>\n",
       "    <tr>\n",
       "      <th>11</th>\n",
       "      <td>NaN</td>\n",
       "      <td>-0.000122</td>\n",
       "    </tr>\n",
       "  </tbody>\n",
       "</table>\n",
       "</div>"
      ],
      "text/plain": [
       "                Features  Coefficients\n",
       "0            Merchant_ID     -0.000003\n",
       "1                 Gender     -0.012410\n",
       "2                    Age     -0.011991\n",
       "3             IP_Address     -0.003353\n",
       "4        Order_Value_USD     -0.005162\n",
       "5           Order_Source     -0.000215\n",
       "6   Order_Payment_Method     -0.000048\n",
       "7              reg_month     -0.000193\n",
       "8            order_month     -0.000126\n",
       "9                    NaN     -0.000070\n",
       "10                   NaN     -0.000060\n",
       "11                   NaN     -0.000122"
      ]
     },
     "execution_count": 2223,
     "metadata": {},
     "output_type": "execute_result"
    }
   ],
   "source": [
    "coefficient_df =  pd.DataFrame({'Features' : pd.Series(X.columns),\n",
    "                        \"Coefficients\" : pd.Series(logreg.coef_[0])})\n",
    "coefficient_df"
   ]
  },
  {
   "cell_type": "code",
   "execution_count": 2224,
   "metadata": {},
   "outputs": [
    {
     "data": {
      "text/plain": [
       "array([-0.00039241])"
      ]
     },
     "execution_count": 2224,
     "metadata": {},
     "output_type": "execute_result"
    }
   ],
   "source": [
    "logreg.intercept_"
   ]
  },
  {
   "cell_type": "code",
   "execution_count": 2225,
   "metadata": {},
   "outputs": [],
   "source": [
    "pred=logreg.predict(X_test)"
   ]
  },
  {
   "cell_type": "code",
   "execution_count": null,
   "metadata": {},
   "outputs": [],
   "source": [
    "#actual and predicted dataframe"
   ]
  },
  {
   "cell_type": "code",
   "execution_count": 2226,
   "metadata": {},
   "outputs": [
    {
     "data": {
      "text/html": [
       "<div>\n",
       "<style scoped>\n",
       "    .dataframe tbody tr th:only-of-type {\n",
       "        vertical-align: middle;\n",
       "    }\n",
       "\n",
       "    .dataframe tbody tr th {\n",
       "        vertical-align: top;\n",
       "    }\n",
       "\n",
       "    .dataframe thead th {\n",
       "        text-align: right;\n",
       "    }\n",
       "</style>\n",
       "<table border=\"1\" class=\"dataframe\">\n",
       "  <thead>\n",
       "    <tr style=\"text-align: right;\">\n",
       "      <th></th>\n",
       "      <th>index</th>\n",
       "      <th>actual</th>\n",
       "      <th>predicted</th>\n",
       "    </tr>\n",
       "  </thead>\n",
       "  <tbody>\n",
       "    <tr>\n",
       "      <th>0</th>\n",
       "      <td>21942</td>\n",
       "      <td>1</td>\n",
       "      <td>0</td>\n",
       "    </tr>\n",
       "    <tr>\n",
       "      <th>1</th>\n",
       "      <td>46902</td>\n",
       "      <td>0</td>\n",
       "      <td>0</td>\n",
       "    </tr>\n",
       "    <tr>\n",
       "      <th>2</th>\n",
       "      <td>44659</td>\n",
       "      <td>0</td>\n",
       "      <td>0</td>\n",
       "    </tr>\n",
       "    <tr>\n",
       "      <th>3</th>\n",
       "      <td>40379</td>\n",
       "      <td>0</td>\n",
       "      <td>0</td>\n",
       "    </tr>\n",
       "    <tr>\n",
       "      <th>4</th>\n",
       "      <td>19986</td>\n",
       "      <td>0</td>\n",
       "      <td>0</td>\n",
       "    </tr>\n",
       "    <tr>\n",
       "      <th>5</th>\n",
       "      <td>21177</td>\n",
       "      <td>0</td>\n",
       "      <td>0</td>\n",
       "    </tr>\n",
       "    <tr>\n",
       "      <th>6</th>\n",
       "      <td>33011</td>\n",
       "      <td>0</td>\n",
       "      <td>0</td>\n",
       "    </tr>\n",
       "    <tr>\n",
       "      <th>7</th>\n",
       "      <td>26224</td>\n",
       "      <td>0</td>\n",
       "      <td>0</td>\n",
       "    </tr>\n",
       "    <tr>\n",
       "      <th>8</th>\n",
       "      <td>17590</td>\n",
       "      <td>0</td>\n",
       "      <td>0</td>\n",
       "    </tr>\n",
       "    <tr>\n",
       "      <th>9</th>\n",
       "      <td>10148</td>\n",
       "      <td>0</td>\n",
       "      <td>0</td>\n",
       "    </tr>\n",
       "    <tr>\n",
       "      <th>10</th>\n",
       "      <td>13130</td>\n",
       "      <td>0</td>\n",
       "      <td>0</td>\n",
       "    </tr>\n",
       "    <tr>\n",
       "      <th>11</th>\n",
       "      <td>17139</td>\n",
       "      <td>0</td>\n",
       "      <td>0</td>\n",
       "    </tr>\n",
       "    <tr>\n",
       "      <th>12</th>\n",
       "      <td>27740</td>\n",
       "      <td>0</td>\n",
       "      <td>0</td>\n",
       "    </tr>\n",
       "    <tr>\n",
       "      <th>13</th>\n",
       "      <td>17640</td>\n",
       "      <td>0</td>\n",
       "      <td>0</td>\n",
       "    </tr>\n",
       "    <tr>\n",
       "      <th>14</th>\n",
       "      <td>405</td>\n",
       "      <td>0</td>\n",
       "      <td>0</td>\n",
       "    </tr>\n",
       "    <tr>\n",
       "      <th>15</th>\n",
       "      <td>5131</td>\n",
       "      <td>0</td>\n",
       "      <td>0</td>\n",
       "    </tr>\n",
       "    <tr>\n",
       "      <th>16</th>\n",
       "      <td>18287</td>\n",
       "      <td>0</td>\n",
       "      <td>0</td>\n",
       "    </tr>\n",
       "    <tr>\n",
       "      <th>17</th>\n",
       "      <td>8526</td>\n",
       "      <td>0</td>\n",
       "      <td>0</td>\n",
       "    </tr>\n",
       "    <tr>\n",
       "      <th>18</th>\n",
       "      <td>5258</td>\n",
       "      <td>0</td>\n",
       "      <td>0</td>\n",
       "    </tr>\n",
       "    <tr>\n",
       "      <th>19</th>\n",
       "      <td>35405</td>\n",
       "      <td>0</td>\n",
       "      <td>0</td>\n",
       "    </tr>\n",
       "    <tr>\n",
       "      <th>20</th>\n",
       "      <td>39435</td>\n",
       "      <td>0</td>\n",
       "      <td>0</td>\n",
       "    </tr>\n",
       "    <tr>\n",
       "      <th>21</th>\n",
       "      <td>27006</td>\n",
       "      <td>0</td>\n",
       "      <td>0</td>\n",
       "    </tr>\n",
       "    <tr>\n",
       "      <th>22</th>\n",
       "      <td>52030</td>\n",
       "      <td>0</td>\n",
       "      <td>0</td>\n",
       "    </tr>\n",
       "    <tr>\n",
       "      <th>23</th>\n",
       "      <td>34919</td>\n",
       "      <td>1</td>\n",
       "      <td>0</td>\n",
       "    </tr>\n",
       "    <tr>\n",
       "      <th>24</th>\n",
       "      <td>13292</td>\n",
       "      <td>0</td>\n",
       "      <td>0</td>\n",
       "    </tr>\n",
       "    <tr>\n",
       "      <th>25</th>\n",
       "      <td>18544</td>\n",
       "      <td>1</td>\n",
       "      <td>0</td>\n",
       "    </tr>\n",
       "    <tr>\n",
       "      <th>26</th>\n",
       "      <td>24391</td>\n",
       "      <td>0</td>\n",
       "      <td>0</td>\n",
       "    </tr>\n",
       "    <tr>\n",
       "      <th>27</th>\n",
       "      <td>50537</td>\n",
       "      <td>0</td>\n",
       "      <td>0</td>\n",
       "    </tr>\n",
       "    <tr>\n",
       "      <th>28</th>\n",
       "      <td>11280</td>\n",
       "      <td>0</td>\n",
       "      <td>0</td>\n",
       "    </tr>\n",
       "    <tr>\n",
       "      <th>29</th>\n",
       "      <td>7721</td>\n",
       "      <td>0</td>\n",
       "      <td>0</td>\n",
       "    </tr>\n",
       "    <tr>\n",
       "      <th>...</th>\n",
       "      <td>...</td>\n",
       "      <td>...</td>\n",
       "      <td>...</td>\n",
       "    </tr>\n",
       "    <tr>\n",
       "      <th>10813</th>\n",
       "      <td>47105</td>\n",
       "      <td>0</td>\n",
       "      <td>0</td>\n",
       "    </tr>\n",
       "    <tr>\n",
       "      <th>10814</th>\n",
       "      <td>31524</td>\n",
       "      <td>0</td>\n",
       "      <td>0</td>\n",
       "    </tr>\n",
       "    <tr>\n",
       "      <th>10815</th>\n",
       "      <td>14956</td>\n",
       "      <td>0</td>\n",
       "      <td>0</td>\n",
       "    </tr>\n",
       "    <tr>\n",
       "      <th>10816</th>\n",
       "      <td>8418</td>\n",
       "      <td>0</td>\n",
       "      <td>0</td>\n",
       "    </tr>\n",
       "    <tr>\n",
       "      <th>10817</th>\n",
       "      <td>13146</td>\n",
       "      <td>0</td>\n",
       "      <td>0</td>\n",
       "    </tr>\n",
       "    <tr>\n",
       "      <th>10818</th>\n",
       "      <td>4835</td>\n",
       "      <td>0</td>\n",
       "      <td>0</td>\n",
       "    </tr>\n",
       "    <tr>\n",
       "      <th>10819</th>\n",
       "      <td>40431</td>\n",
       "      <td>0</td>\n",
       "      <td>0</td>\n",
       "    </tr>\n",
       "    <tr>\n",
       "      <th>10820</th>\n",
       "      <td>33147</td>\n",
       "      <td>0</td>\n",
       "      <td>0</td>\n",
       "    </tr>\n",
       "    <tr>\n",
       "      <th>10821</th>\n",
       "      <td>1207</td>\n",
       "      <td>0</td>\n",
       "      <td>0</td>\n",
       "    </tr>\n",
       "    <tr>\n",
       "      <th>10822</th>\n",
       "      <td>24665</td>\n",
       "      <td>0</td>\n",
       "      <td>0</td>\n",
       "    </tr>\n",
       "    <tr>\n",
       "      <th>10823</th>\n",
       "      <td>6628</td>\n",
       "      <td>1</td>\n",
       "      <td>0</td>\n",
       "    </tr>\n",
       "    <tr>\n",
       "      <th>10824</th>\n",
       "      <td>27127</td>\n",
       "      <td>0</td>\n",
       "      <td>0</td>\n",
       "    </tr>\n",
       "    <tr>\n",
       "      <th>10825</th>\n",
       "      <td>29909</td>\n",
       "      <td>1</td>\n",
       "      <td>0</td>\n",
       "    </tr>\n",
       "    <tr>\n",
       "      <th>10826</th>\n",
       "      <td>46162</td>\n",
       "      <td>0</td>\n",
       "      <td>0</td>\n",
       "    </tr>\n",
       "    <tr>\n",
       "      <th>10827</th>\n",
       "      <td>5151</td>\n",
       "      <td>0</td>\n",
       "      <td>0</td>\n",
       "    </tr>\n",
       "    <tr>\n",
       "      <th>10828</th>\n",
       "      <td>19946</td>\n",
       "      <td>0</td>\n",
       "      <td>0</td>\n",
       "    </tr>\n",
       "    <tr>\n",
       "      <th>10829</th>\n",
       "      <td>14491</td>\n",
       "      <td>0</td>\n",
       "      <td>0</td>\n",
       "    </tr>\n",
       "    <tr>\n",
       "      <th>10830</th>\n",
       "      <td>51440</td>\n",
       "      <td>0</td>\n",
       "      <td>0</td>\n",
       "    </tr>\n",
       "    <tr>\n",
       "      <th>10831</th>\n",
       "      <td>49858</td>\n",
       "      <td>0</td>\n",
       "      <td>0</td>\n",
       "    </tr>\n",
       "    <tr>\n",
       "      <th>10832</th>\n",
       "      <td>35268</td>\n",
       "      <td>0</td>\n",
       "      <td>0</td>\n",
       "    </tr>\n",
       "    <tr>\n",
       "      <th>10833</th>\n",
       "      <td>37219</td>\n",
       "      <td>0</td>\n",
       "      <td>0</td>\n",
       "    </tr>\n",
       "    <tr>\n",
       "      <th>10834</th>\n",
       "      <td>9493</td>\n",
       "      <td>0</td>\n",
       "      <td>0</td>\n",
       "    </tr>\n",
       "    <tr>\n",
       "      <th>10835</th>\n",
       "      <td>53466</td>\n",
       "      <td>0</td>\n",
       "      <td>0</td>\n",
       "    </tr>\n",
       "    <tr>\n",
       "      <th>10836</th>\n",
       "      <td>19108</td>\n",
       "      <td>0</td>\n",
       "      <td>0</td>\n",
       "    </tr>\n",
       "    <tr>\n",
       "      <th>10837</th>\n",
       "      <td>11961</td>\n",
       "      <td>0</td>\n",
       "      <td>0</td>\n",
       "    </tr>\n",
       "    <tr>\n",
       "      <th>10838</th>\n",
       "      <td>1652</td>\n",
       "      <td>0</td>\n",
       "      <td>0</td>\n",
       "    </tr>\n",
       "    <tr>\n",
       "      <th>10839</th>\n",
       "      <td>25578</td>\n",
       "      <td>0</td>\n",
       "      <td>0</td>\n",
       "    </tr>\n",
       "    <tr>\n",
       "      <th>10840</th>\n",
       "      <td>51062</td>\n",
       "      <td>0</td>\n",
       "      <td>0</td>\n",
       "    </tr>\n",
       "    <tr>\n",
       "      <th>10841</th>\n",
       "      <td>11301</td>\n",
       "      <td>0</td>\n",
       "      <td>0</td>\n",
       "    </tr>\n",
       "    <tr>\n",
       "      <th>10842</th>\n",
       "      <td>28819</td>\n",
       "      <td>0</td>\n",
       "      <td>0</td>\n",
       "    </tr>\n",
       "  </tbody>\n",
       "</table>\n",
       "<p>10843 rows × 3 columns</p>\n",
       "</div>"
      ],
      "text/plain": [
       "       index  actual  predicted\n",
       "0      21942       1          0\n",
       "1      46902       0          0\n",
       "2      44659       0          0\n",
       "3      40379       0          0\n",
       "4      19986       0          0\n",
       "5      21177       0          0\n",
       "6      33011       0          0\n",
       "7      26224       0          0\n",
       "8      17590       0          0\n",
       "9      10148       0          0\n",
       "10     13130       0          0\n",
       "11     17139       0          0\n",
       "12     27740       0          0\n",
       "13     17640       0          0\n",
       "14       405       0          0\n",
       "15      5131       0          0\n",
       "16     18287       0          0\n",
       "17      8526       0          0\n",
       "18      5258       0          0\n",
       "19     35405       0          0\n",
       "20     39435       0          0\n",
       "21     27006       0          0\n",
       "22     52030       0          0\n",
       "23     34919       1          0\n",
       "24     13292       0          0\n",
       "25     18544       1          0\n",
       "26     24391       0          0\n",
       "27     50537       0          0\n",
       "28     11280       0          0\n",
       "29      7721       0          0\n",
       "...      ...     ...        ...\n",
       "10813  47105       0          0\n",
       "10814  31524       0          0\n",
       "10815  14956       0          0\n",
       "10816   8418       0          0\n",
       "10817  13146       0          0\n",
       "10818   4835       0          0\n",
       "10819  40431       0          0\n",
       "10820  33147       0          0\n",
       "10821   1207       0          0\n",
       "10822  24665       0          0\n",
       "10823   6628       1          0\n",
       "10824  27127       0          0\n",
       "10825  29909       1          0\n",
       "10826  46162       0          0\n",
       "10827   5151       0          0\n",
       "10828  19946       0          0\n",
       "10829  14491       0          0\n",
       "10830  51440       0          0\n",
       "10831  49858       0          0\n",
       "10832  35268       0          0\n",
       "10833  37219       0          0\n",
       "10834   9493       0          0\n",
       "10835  53466       0          0\n",
       "10836  19108       0          0\n",
       "10837  11961       0          0\n",
       "10838   1652       0          0\n",
       "10839  25578       0          0\n",
       "10840  51062       0          0\n",
       "10841  11301       0          0\n",
       "10842  28819       0          0\n",
       "\n",
       "[10843 rows x 3 columns]"
      ]
     },
     "execution_count": 2226,
     "metadata": {},
     "output_type": "execute_result"
    }
   ],
   "source": [
    "pred_made = pd.DataFrame({'actual':y_test, 'predicted': pred})\n",
    "pred_made= pred_made.reset_index()\n",
    "pred_made.astype('int')"
   ]
  },
  {
   "cell_type": "code",
   "execution_count": null,
   "metadata": {},
   "outputs": [],
   "source": []
  },
  {
   "cell_type": "code",
   "execution_count": 2228,
   "metadata": {},
   "outputs": [],
   "source": [
    "#decision tree\n",
    "#creating a pipeline for DT\n",
    "from sklearn.tree import DecisionTreeClassifier\n",
    "from sklearn.model_selection import GridSearchCV\n",
    "from sklearn.pipeline import make_pipeline\n",
    "pipelines = {\n",
    "    \"dtclass\": make_pipeline(DecisionTreeClassifier(random_state=100))\n",
    "}\n"
   ]
  },
  {
   "cell_type": "code",
   "execution_count": 2229,
   "metadata": {},
   "outputs": [
    {
     "name": "stderr",
     "output_type": "stream",
     "text": [
      "/Users/pavankumar/anaconda3/lib/python3.7/site-packages/sklearn/model_selection/_split.py:2053: FutureWarning: You should specify a value for 'cv' instead of relying on the default value. The default value will change from 3 to 5 in version 0.22.\n",
      "  warnings.warn(CV_WARNING, FutureWarning)\n"
     ]
    },
    {
     "data": {
      "text/plain": [
       "0.8862808611342196"
      ]
     },
     "execution_count": 2229,
     "metadata": {},
     "output_type": "execute_result"
    }
   ],
   "source": [
    "#cross validation\n",
    "\n",
    "from sklearn.model_selection import cross_validate\n",
    "scores = cross_validate(pipelines['dtclass'],X_train,y_train,return_train_score=True)\n",
    "scores['test_score'].mean()"
   ]
  },
  {
   "cell_type": "code",
   "execution_count": 2230,
   "metadata": {},
   "outputs": [
    {
     "data": {
      "text/plain": [
       "dict_keys(['memory', 'steps', 'decisiontreeclassifier', 'decisiontreeclassifier__class_weight', 'decisiontreeclassifier__criterion', 'decisiontreeclassifier__max_depth', 'decisiontreeclassifier__max_features', 'decisiontreeclassifier__max_leaf_nodes', 'decisiontreeclassifier__min_impurity_decrease', 'decisiontreeclassifier__min_impurity_split', 'decisiontreeclassifier__min_samples_leaf', 'decisiontreeclassifier__min_samples_split', 'decisiontreeclassifier__min_weight_fraction_leaf', 'decisiontreeclassifier__presort', 'decisiontreeclassifier__random_state', 'decisiontreeclassifier__splitter'])"
      ]
     },
     "execution_count": 2230,
     "metadata": {},
     "output_type": "execute_result"
    }
   ],
   "source": [
    "\n",
    "#decision tree gridsearch cv\n",
    "pipelines['dtclass'].get_params().keys()"
   ]
  },
  {
   "cell_type": "code",
   "execution_count": 2231,
   "metadata": {},
   "outputs": [],
   "source": [
    "decisiontree_hyperparameters = {\n",
    "    'decisiontreeclassifier__max_depth' : np.arange(3, 5,7),\n",
    "    'decisiontreeclassifier__max_features' : np.arange(3, 5,9),\n",
    "    'decisiontreeclassifier__min_samples_split' : np.arange(2, 10),\n",
    "    \"decisiontreeclassifier__min_samples_leaf\" : np.arange(1,3,5)\n",
    "}"
   ]
  },
  {
   "cell_type": "code",
   "execution_count": 2232,
   "metadata": {},
   "outputs": [],
   "source": [
    "dtclass_model = GridSearchCV(pipelines['dtclass'],decisiontree_hyperparameters,cv=5, n_jobs=-1)"
   ]
  },
  {
   "cell_type": "code",
   "execution_count": 2233,
   "metadata": {},
   "outputs": [
    {
     "data": {
      "text/plain": [
       "GridSearchCV(cv=5, error_score='raise-deprecating',\n",
       "       estimator=Pipeline(memory=None,\n",
       "     steps=[('decisiontreeclassifier', DecisionTreeClassifier(class_weight=None, criterion='gini', max_depth=None,\n",
       "            max_features=None, max_leaf_nodes=None,\n",
       "            min_impurity_decrease=0.0, min_impurity_split=None,\n",
       "            min_samples_leaf=1, min_samples_split=2,\n",
       "            min_weight_fraction_leaf=0.0, presort=False, random_state=100,\n",
       "            splitter='best'))]),\n",
       "       fit_params=None, iid='warn', n_jobs=-1,\n",
       "       param_grid={'decisiontreeclassifier__max_depth': array([3]), 'decisiontreeclassifier__max_features': array([3]), 'decisiontreeclassifier__min_samples_split': array([2, 3, 4, 5, 6, 7, 8, 9]), 'decisiontreeclassifier__min_samples_leaf': array([1])},\n",
       "       pre_dispatch='2*n_jobs', refit=True, return_train_score='warn',\n",
       "       scoring=None, verbose=0)"
      ]
     },
     "execution_count": 2233,
     "metadata": {},
     "output_type": "execute_result"
    }
   ],
   "source": [
    "dtclass_model.fit(X_train, y_train)"
   ]
  },
  {
   "cell_type": "code",
   "execution_count": 2234,
   "metadata": {
    "scrolled": true
   },
   "outputs": [
    {
     "data": {
      "text/plain": [
       "{'decisiontreeclassifier__max_depth': 3,\n",
       " 'decisiontreeclassifier__max_features': 3,\n",
       " 'decisiontreeclassifier__min_samples_leaf': 1,\n",
       " 'decisiontreeclassifier__min_samples_split': 2}"
      ]
     },
     "execution_count": 2234,
     "metadata": {},
     "output_type": "execute_result"
    }
   ],
   "source": [
    "#best parameters\n",
    "dtclass_model.best_params_"
   ]
  },
  {
   "cell_type": "code",
   "execution_count": 2235,
   "metadata": {},
   "outputs": [
    {
     "data": {
      "text/plain": [
       "0.9196218584274845"
      ]
     },
     "execution_count": 2235,
     "metadata": {},
     "output_type": "execute_result"
    }
   ],
   "source": [
    "dtclass_model.best_score_"
   ]
  },
  {
   "cell_type": "code",
   "execution_count": 2236,
   "metadata": {},
   "outputs": [
    {
     "data": {
      "text/plain": [
       "DecisionTreeClassifier(class_weight=None, criterion='gini', max_depth=3,\n",
       "            max_features=3, max_leaf_nodes=None, min_impurity_decrease=0.0,\n",
       "            min_impurity_split=None, min_samples_leaf=1,\n",
       "            min_samples_split=2, min_weight_fraction_leaf=0.0,\n",
       "            presort=False, random_state=100, splitter='best')"
      ]
     },
     "execution_count": 2236,
     "metadata": {},
     "output_type": "execute_result"
    }
   ],
   "source": [
    "dtclass_best_model = dtclass_model.best_estimator_.named_steps['decisiontreeclassifier']\n",
    "dtclass_best_model"
   ]
  },
  {
   "cell_type": "code",
   "execution_count": 2237,
   "metadata": {},
   "outputs": [
    {
     "data": {
      "text/html": [
       "<div>\n",
       "<style scoped>\n",
       "    .dataframe tbody tr th:only-of-type {\n",
       "        vertical-align: middle;\n",
       "    }\n",
       "\n",
       "    .dataframe tbody tr th {\n",
       "        vertical-align: top;\n",
       "    }\n",
       "\n",
       "    .dataframe thead th {\n",
       "        text-align: right;\n",
       "    }\n",
       "</style>\n",
       "<table border=\"1\" class=\"dataframe\">\n",
       "  <thead>\n",
       "    <tr style=\"text-align: right;\">\n",
       "      <th></th>\n",
       "      <th>index</th>\n",
       "      <th>actual</th>\n",
       "      <th>predicted</th>\n",
       "    </tr>\n",
       "  </thead>\n",
       "  <tbody>\n",
       "    <tr>\n",
       "      <th>0</th>\n",
       "      <td>21942</td>\n",
       "      <td>1</td>\n",
       "      <td>0</td>\n",
       "    </tr>\n",
       "    <tr>\n",
       "      <th>1</th>\n",
       "      <td>46902</td>\n",
       "      <td>0</td>\n",
       "      <td>0</td>\n",
       "    </tr>\n",
       "    <tr>\n",
       "      <th>2</th>\n",
       "      <td>44659</td>\n",
       "      <td>0</td>\n",
       "      <td>0</td>\n",
       "    </tr>\n",
       "    <tr>\n",
       "      <th>3</th>\n",
       "      <td>40379</td>\n",
       "      <td>0</td>\n",
       "      <td>0</td>\n",
       "    </tr>\n",
       "    <tr>\n",
       "      <th>4</th>\n",
       "      <td>19986</td>\n",
       "      <td>0</td>\n",
       "      <td>0</td>\n",
       "    </tr>\n",
       "  </tbody>\n",
       "</table>\n",
       "</div>"
      ],
      "text/plain": [
       "   index  actual  predicted\n",
       "0  21942       1          0\n",
       "1  46902       0          0\n",
       "2  44659       0          0\n",
       "3  40379       0          0\n",
       "4  19986       0          0"
      ]
     },
     "execution_count": 2237,
     "metadata": {},
     "output_type": "execute_result"
    }
   ],
   "source": [
    "#actual and predictions compared\n",
    "pred_dtclass = pd.DataFrame({'actual':y_test, 'predicted': dtclass_best_model.predict(X_test)})\n",
    "pred_dtclass = pred_dtclass.reset_index()\n",
    "pred_dtclass.head()"
   ]
  },
  {
   "cell_type": "code",
   "execution_count": 2238,
   "metadata": {},
   "outputs": [
    {
     "data": {
      "text/plain": [
       "array([[ 123,  884],\n",
       "       [  27, 9809]])"
      ]
     },
     "execution_count": 2238,
     "metadata": {},
     "output_type": "execute_result"
    }
   ],
   "source": [
    "cm_dtclass = metrics.confusion_matrix(pred_dtclass.actual,\n",
    "                                    pred_dtclass.predicted,labels = [1,0])\n",
    "cm_dtclass"
   ]
  },
  {
   "cell_type": "code",
   "execution_count": 2239,
   "metadata": {},
   "outputs": [
    {
     "data": {
      "image/png": "[encoded data removed]",
      "text/plain": [
       "<Figure size 432x288 with 2 Axes>"
      ]
     },
     "metadata": {
      "needs_background": "light"
     },
     "output_type": "display_data"
    }
   ],
   "source": [
    "#confusion matrix\n",
    "sns.heatmap(cm_dtclass,annot=True, fmt=\".2f\", cmap=\"Greens\",linewidths=.5,linecolor=\"red\",\n",
    "            xticklabels = [\"Default\", \"Not Default\"] , yticklabels = [\"Default\", \"Not Default\"])\n",
    "plt.title(\"Confusion Matrix for Test data\")\n",
    "plt.ylabel(\"True Label\")\n",
    "plt.xlabel(\"Predicted Label\")\n",
    "plt.show()"
   ]
  },
  {
   "cell_type": "code",
   "execution_count": 2240,
   "metadata": {},
   "outputs": [
    {
     "data": {
      "text/html": [
       "<div>\n",
       "<style scoped>\n",
       "    .dataframe tbody tr th:only-of-type {\n",
       "        vertical-align: middle;\n",
       "    }\n",
       "\n",
       "    .dataframe tbody tr th {\n",
       "        vertical-align: top;\n",
       "    }\n",
       "\n",
       "    .dataframe thead th {\n",
       "        text-align: right;\n",
       "    }\n",
       "</style>\n",
       "<table border=\"1\" class=\"dataframe\">\n",
       "  <thead>\n",
       "    <tr style=\"text-align: right;\">\n",
       "      <th></th>\n",
       "      <th>0</th>\n",
       "      <th>1</th>\n",
       "    </tr>\n",
       "  </thead>\n",
       "  <tbody>\n",
       "    <tr>\n",
       "      <th>0</th>\n",
       "      <td>0.958983</td>\n",
       "      <td>0.041017</td>\n",
       "    </tr>\n",
       "    <tr>\n",
       "      <th>1</th>\n",
       "      <td>0.953927</td>\n",
       "      <td>0.046073</td>\n",
       "    </tr>\n",
       "    <tr>\n",
       "      <th>2</th>\n",
       "      <td>0.953927</td>\n",
       "      <td>0.046073</td>\n",
       "    </tr>\n",
       "    <tr>\n",
       "      <th>3</th>\n",
       "      <td>0.958983</td>\n",
       "      <td>0.041017</td>\n",
       "    </tr>\n",
       "    <tr>\n",
       "      <th>4</th>\n",
       "      <td>0.693576</td>\n",
       "      <td>0.306424</td>\n",
       "    </tr>\n",
       "  </tbody>\n",
       "</table>\n",
       "</div>"
      ],
      "text/plain": [
       "          0         1\n",
       "0  0.958983  0.041017\n",
       "1  0.953927  0.046073\n",
       "2  0.953927  0.046073\n",
       "3  0.958983  0.041017\n",
       "4  0.693576  0.306424"
      ]
     },
     "execution_count": 2240,
     "metadata": {},
     "output_type": "execute_result"
    }
   ],
   "source": [
    "#represent the results with probabilities\n",
    "predict_prob_df = pd.DataFrame(dtclass_best_model.predict_proba(X_test))\n",
    "predict_prob_df.head()"
   ]
  },
  {
   "cell_type": "code",
   "execution_count": 2241,
   "metadata": {},
   "outputs": [
    {
     "data": {
      "text/html": [
       "<div>\n",
       "<style scoped>\n",
       "    .dataframe tbody tr th:only-of-type {\n",
       "        vertical-align: middle;\n",
       "    }\n",
       "\n",
       "    .dataframe tbody tr th {\n",
       "        vertical-align: top;\n",
       "    }\n",
       "\n",
       "    .dataframe thead th {\n",
       "        text-align: right;\n",
       "    }\n",
       "</style>\n",
       "<table border=\"1\" class=\"dataframe\">\n",
       "  <thead>\n",
       "    <tr style=\"text-align: right;\">\n",
       "      <th></th>\n",
       "      <th>index</th>\n",
       "      <th>actual</th>\n",
       "      <th>predicted</th>\n",
       "      <th>default_0</th>\n",
       "      <th>default_1</th>\n",
       "    </tr>\n",
       "  </thead>\n",
       "  <tbody>\n",
       "    <tr>\n",
       "      <th>0</th>\n",
       "      <td>21942</td>\n",
       "      <td>1</td>\n",
       "      <td>0</td>\n",
       "      <td>0.958983</td>\n",
       "      <td>0.041017</td>\n",
       "    </tr>\n",
       "    <tr>\n",
       "      <th>1</th>\n",
       "      <td>46902</td>\n",
       "      <td>0</td>\n",
       "      <td>0</td>\n",
       "      <td>0.953927</td>\n",
       "      <td>0.046073</td>\n",
       "    </tr>\n",
       "    <tr>\n",
       "      <th>2</th>\n",
       "      <td>44659</td>\n",
       "      <td>0</td>\n",
       "      <td>0</td>\n",
       "      <td>0.953927</td>\n",
       "      <td>0.046073</td>\n",
       "    </tr>\n",
       "    <tr>\n",
       "      <th>3</th>\n",
       "      <td>40379</td>\n",
       "      <td>0</td>\n",
       "      <td>0</td>\n",
       "      <td>0.958983</td>\n",
       "      <td>0.041017</td>\n",
       "    </tr>\n",
       "    <tr>\n",
       "      <th>4</th>\n",
       "      <td>19986</td>\n",
       "      <td>0</td>\n",
       "      <td>0</td>\n",
       "      <td>0.693576</td>\n",
       "      <td>0.306424</td>\n",
       "    </tr>\n",
       "  </tbody>\n",
       "</table>\n",
       "</div>"
      ],
      "text/plain": [
       "   index  actual  predicted  default_0  default_1\n",
       "0  21942       1          0   0.958983   0.041017\n",
       "1  46902       0          0   0.953927   0.046073\n",
       "2  44659       0          0   0.953927   0.046073\n",
       "3  40379       0          0   0.958983   0.041017\n",
       "4  19986       0          0   0.693576   0.306424"
      ]
     },
     "execution_count": 2241,
     "metadata": {},
     "output_type": "execute_result"
    }
   ],
   "source": [
    "#with probabilities\n",
    "pred_dtclass = pd.concat([pred_dtclass, predict_prob_df], axis = 1)\n",
    "pred_dtclass.columns = ['index', 'actual', 'predicted', 'default_0','default_1']\n",
    "\n",
    "pred_dtclass.head()"
   ]
  },
  {
   "cell_type": "code",
   "execution_count": 2242,
   "metadata": {},
   "outputs": [
    {
     "data": {
      "text/plain": [
       "0.7464"
      ]
     },
     "execution_count": 2242,
     "metadata": {},
     "output_type": "execute_result"
    }
   ],
   "source": [
    "#performance metrics\n",
    "auc_score = metrics.roc_auc_score(pred_dtclass.actual, pred_dtclass.default_1)\n",
    "round(auc_score,4)"
   ]
  },
  {
   "cell_type": "code",
   "execution_count": 2243,
   "metadata": {},
   "outputs": [
    {
     "data": {
      "image/png": "[encoded data removed]",
      "text/plain": [
       "<Figure size 432x288 with 1 Axes>"
      ]
     },
     "metadata": {
      "needs_background": "light"
     },
     "output_type": "display_data"
    }
   ],
   "source": [
    "#ROC curve\n",
    "fpr, tpr, thresholds = metrics.roc_curve(pred_dtclass.actual,pred_dtclass.default_1,\n",
    "                                         drop_intermediate=False)\n",
    "\n",
    "plt.plot(fpr, tpr, label = \"ROC Curve (Area = %0.4f)\" % auc_score)\n",
    "plt.plot([1,0],[1,0],'k--')\n",
    "\n",
    "plt.ylabel(\"True Positive Rate\")\n",
    "plt.xlabel(\"False Positive Rate or [1 - True Negative Rate]\")\n",
    "\n",
    "plt.legend(loc = \"lower right\")\n",
    "plt.show()"
   ]
  },
  {
   "cell_type": "code",
   "execution_count": 2244,
   "metadata": {},
   "outputs": [
    {
     "name": "stdout",
     "output_type": "stream",
     "text": [
      "Precision score : 0.82\n"
     ]
    }
   ],
   "source": [
    "prec_score = metrics.precision_score(pred_dtclass.actual,pred_dtclass.predicted)\n",
    "print(\"Precision score :\", round(prec_score,3))"
   ]
  },
  {
   "cell_type": "code",
   "execution_count": 2245,
   "metadata": {},
   "outputs": [],
   "source": [
    "f1_score = metrics.f1_score(pred_dtclass.actual,pred_dtclass.predicted)"
   ]
  },
  {
   "cell_type": "code",
   "execution_count": 2246,
   "metadata": {},
   "outputs": [
    {
     "data": {
      "text/plain": [
       "0.212618841832325"
      ]
     },
     "execution_count": 2246,
     "metadata": {},
     "output_type": "execute_result"
    }
   ],
   "source": [
    "f1_score\n"
   ]
  },
  {
   "cell_type": "code",
   "execution_count": 2247,
   "metadata": {},
   "outputs": [],
   "source": [
    "ac_score = metrics.accuracy_score(pred_dtclass.actual,pred_dtclass.predicted)"
   ]
  },
  {
   "cell_type": "code",
   "execution_count": 2248,
   "metadata": {},
   "outputs": [
    {
     "data": {
      "text/plain": [
       "0.9159826616250115"
      ]
     },
     "execution_count": 2248,
     "metadata": {},
     "output_type": "execute_result"
    }
   ],
   "source": [
    "ac_score"
   ]
  },
  {
   "cell_type": "code",
   "execution_count": 2249,
   "metadata": {},
   "outputs": [],
   "source": [
    "#import test files and merge, do preprocessing as in train data\n",
    "testdata1=pd.read_csv(\"/Users/pavankumar/Downloads/ mith/test_merchant_data-1561627903902.csv\")"
   ]
  },
  {
   "cell_type": "code",
   "execution_count": 2250,
   "metadata": {},
   "outputs": [],
   "source": [
    "testdata2=pd.read_csv(\"/Users/pavankumar/Downloads/ mith/test_order_data-1561627931868.csv\")"
   ]
  },
  {
   "cell_type": "code",
   "execution_count": 2251,
   "metadata": {},
   "outputs": [],
   "source": [
    "mergedtest= testdata1.merge(testdata2, on='Merchant_ID')"
   ]
  },
  {
   "cell_type": "code",
   "execution_count": 2252,
   "metadata": {},
   "outputs": [
    {
     "data": {
      "text/html": [
       "<div>\n",
       "<style scoped>\n",
       "    .dataframe tbody tr th:only-of-type {\n",
       "        vertical-align: middle;\n",
       "    }\n",
       "\n",
       "    .dataframe tbody tr th {\n",
       "        vertical-align: top;\n",
       "    }\n",
       "\n",
       "    .dataframe thead th {\n",
       "        text-align: right;\n",
       "    }\n",
       "</style>\n",
       "<table border=\"1\" class=\"dataframe\">\n",
       "  <thead>\n",
       "    <tr style=\"text-align: right;\">\n",
       "      <th></th>\n",
       "      <th>Ecommerce_Provider_ID</th>\n",
       "      <th>Merchant_ID</th>\n",
       "      <th>Merchant_Registration_Date</th>\n",
       "      <th>Registered_Device_ID</th>\n",
       "      <th>Gender</th>\n",
       "      <th>Age</th>\n",
       "      <th>IP_Address</th>\n",
       "      <th>Customer_ID</th>\n",
       "      <th>Order_ID</th>\n",
       "      <th>Date_of_Order</th>\n",
       "      <th>Order_Value_USD</th>\n",
       "      <th>Order_Source</th>\n",
       "      <th>Order_Payment_Method</th>\n",
       "    </tr>\n",
       "  </thead>\n",
       "  <tbody>\n",
       "    <tr>\n",
       "      <th>0</th>\n",
       "      <td>1746213</td>\n",
       "      <td>53637</td>\n",
       "      <td>2018-02-11 20:50:29</td>\n",
       "      <td>PTMLBENYMQCTV</td>\n",
       "      <td>F</td>\n",
       "      <td>40</td>\n",
       "      <td>134.162.124.62</td>\n",
       "      <td>157068</td>\n",
       "      <td>a032de091f51</td>\n",
       "      <td>2018-03-09 09:09:42</td>\n",
       "      <td>60</td>\n",
       "      <td>SEO</td>\n",
       "      <td>Credit Card</td>\n",
       "    </tr>\n",
       "    <tr>\n",
       "      <th>1</th>\n",
       "      <td>1746213</td>\n",
       "      <td>243517</td>\n",
       "      <td>2018-04-06 13:19:39</td>\n",
       "      <td>HMCLDZUZPWZRR</td>\n",
       "      <td>M</td>\n",
       "      <td>39</td>\n",
       "      <td>152.76.98.87</td>\n",
       "      <td>112534</td>\n",
       "      <td>0d563f0606d6</td>\n",
       "      <td>2018-06-13 20:11:19</td>\n",
       "      <td>28</td>\n",
       "      <td>SEO</td>\n",
       "      <td>Credit Card</td>\n",
       "    </tr>\n",
       "    <tr>\n",
       "      <th>2</th>\n",
       "      <td>1746213</td>\n",
       "      <td>343640</td>\n",
       "      <td>2018-01-12 16:47:49</td>\n",
       "      <td>VLGSMAPXISSEJ</td>\n",
       "      <td>M</td>\n",
       "      <td>23</td>\n",
       "      <td>31.202.3.255</td>\n",
       "      <td>148774</td>\n",
       "      <td>18fb0fa888b6</td>\n",
       "      <td>2018-04-14 04:19:36</td>\n",
       "      <td>75</td>\n",
       "      <td>Ads</td>\n",
       "      <td>Debit Card</td>\n",
       "    </tr>\n",
       "    <tr>\n",
       "      <th>3</th>\n",
       "      <td>1746213</td>\n",
       "      <td>69889</td>\n",
       "      <td>2018-02-19 21:58:52</td>\n",
       "      <td>ZINHISBBOKQXT</td>\n",
       "      <td>M</td>\n",
       "      <td>34</td>\n",
       "      <td>12.242.168.185</td>\n",
       "      <td>114528</td>\n",
       "      <td>ed1eb920d721</td>\n",
       "      <td>2018-04-01 13:55:44</td>\n",
       "      <td>98</td>\n",
       "      <td>SEO</td>\n",
       "      <td>Credit Card</td>\n",
       "    </tr>\n",
       "    <tr>\n",
       "      <th>4</th>\n",
       "      <td>1746213</td>\n",
       "      <td>125706</td>\n",
       "      <td>2018-05-17 15:50:19</td>\n",
       "      <td>WFKEAOTPHTYEO</td>\n",
       "      <td>M</td>\n",
       "      <td>20</td>\n",
       "      <td>26.61.210.47</td>\n",
       "      <td>120940</td>\n",
       "      <td>313dcf962627</td>\n",
       "      <td>2018-05-25 02:08:18</td>\n",
       "      <td>35</td>\n",
       "      <td>SEO</td>\n",
       "      <td>Credit Card</td>\n",
       "    </tr>\n",
       "  </tbody>\n",
       "</table>\n",
       "</div>"
      ],
      "text/plain": [
       "   Ecommerce_Provider_ID  Merchant_ID Merchant_Registration_Date  \\\n",
       "0                1746213        53637        2018-02-11 20:50:29   \n",
       "1                1746213       243517        2018-04-06 13:19:39   \n",
       "2                1746213       343640        2018-01-12 16:47:49   \n",
       "3                1746213        69889        2018-02-19 21:58:52   \n",
       "4                1746213       125706        2018-05-17 15:50:19   \n",
       "\n",
       "  Registered_Device_ID Gender  Age      IP_Address  Customer_ID      Order_ID  \\\n",
       "0        PTMLBENYMQCTV      F   40  134.162.124.62       157068  a032de091f51   \n",
       "1        HMCLDZUZPWZRR      M   39    152.76.98.87       112534  0d563f0606d6   \n",
       "2        VLGSMAPXISSEJ      M   23    31.202.3.255       148774  18fb0fa888b6   \n",
       "3        ZINHISBBOKQXT      M   34  12.242.168.185       114528  ed1eb920d721   \n",
       "4        WFKEAOTPHTYEO      M   20    26.61.210.47       120940  313dcf962627   \n",
       "\n",
       "         Date_of_Order  Order_Value_USD Order_Source Order_Payment_Method  \n",
       "0  2018-03-09 09:09:42               60          SEO          Credit Card  \n",
       "1  2018-06-13 20:11:19               28          SEO          Credit Card  \n",
       "2  2018-04-14 04:19:36               75          Ads           Debit Card  \n",
       "3  2018-04-01 13:55:44               98          SEO          Credit Card  \n",
       "4  2018-05-25 02:08:18               35          SEO          Credit Card  "
      ]
     },
     "execution_count": 2252,
     "metadata": {},
     "output_type": "execute_result"
    }
   ],
   "source": [
    "mergedtest.head()"
   ]
  },
  {
   "cell_type": "code",
   "execution_count": 2253,
   "metadata": {
    "scrolled": true
   },
   "outputs": [],
   "source": [
    "#doing the same procedure on test data\n",
    "mergedtest.drop(['Ecommerce_Provider_ID','Registered_Device_ID','Customer_ID','Order_ID'],axis=1,inplace=True)"
   ]
  },
  {
   "cell_type": "code",
   "execution_count": 2254,
   "metadata": {},
   "outputs": [
    {
     "data": {
      "text/html": [
       "<div>\n",
       "<style scoped>\n",
       "    .dataframe tbody tr th:only-of-type {\n",
       "        vertical-align: middle;\n",
       "    }\n",
       "\n",
       "    .dataframe tbody tr th {\n",
       "        vertical-align: top;\n",
       "    }\n",
       "\n",
       "    .dataframe thead th {\n",
       "        text-align: right;\n",
       "    }\n",
       "</style>\n",
       "<table border=\"1\" class=\"dataframe\">\n",
       "  <thead>\n",
       "    <tr style=\"text-align: right;\">\n",
       "      <th></th>\n",
       "      <th>Merchant_ID</th>\n",
       "      <th>Merchant_Registration_Date</th>\n",
       "      <th>Gender</th>\n",
       "      <th>Age</th>\n",
       "      <th>IP_Address</th>\n",
       "      <th>Date_of_Order</th>\n",
       "      <th>Order_Value_USD</th>\n",
       "      <th>Order_Source</th>\n",
       "      <th>Order_Payment_Method</th>\n",
       "    </tr>\n",
       "  </thead>\n",
       "  <tbody>\n",
       "    <tr>\n",
       "      <th>0</th>\n",
       "      <td>53637</td>\n",
       "      <td>2018-02-11 20:50:29</td>\n",
       "      <td>F</td>\n",
       "      <td>40</td>\n",
       "      <td>134.162.124.62</td>\n",
       "      <td>2018-03-09 09:09:42</td>\n",
       "      <td>60</td>\n",
       "      <td>SEO</td>\n",
       "      <td>Credit Card</td>\n",
       "    </tr>\n",
       "    <tr>\n",
       "      <th>1</th>\n",
       "      <td>243517</td>\n",
       "      <td>2018-04-06 13:19:39</td>\n",
       "      <td>M</td>\n",
       "      <td>39</td>\n",
       "      <td>152.76.98.87</td>\n",
       "      <td>2018-06-13 20:11:19</td>\n",
       "      <td>28</td>\n",
       "      <td>SEO</td>\n",
       "      <td>Credit Card</td>\n",
       "    </tr>\n",
       "    <tr>\n",
       "      <th>2</th>\n",
       "      <td>343640</td>\n",
       "      <td>2018-01-12 16:47:49</td>\n",
       "      <td>M</td>\n",
       "      <td>23</td>\n",
       "      <td>31.202.3.255</td>\n",
       "      <td>2018-04-14 04:19:36</td>\n",
       "      <td>75</td>\n",
       "      <td>Ads</td>\n",
       "      <td>Debit Card</td>\n",
       "    </tr>\n",
       "    <tr>\n",
       "      <th>3</th>\n",
       "      <td>69889</td>\n",
       "      <td>2018-02-19 21:58:52</td>\n",
       "      <td>M</td>\n",
       "      <td>34</td>\n",
       "      <td>12.242.168.185</td>\n",
       "      <td>2018-04-01 13:55:44</td>\n",
       "      <td>98</td>\n",
       "      <td>SEO</td>\n",
       "      <td>Credit Card</td>\n",
       "    </tr>\n",
       "    <tr>\n",
       "      <th>4</th>\n",
       "      <td>125706</td>\n",
       "      <td>2018-05-17 15:50:19</td>\n",
       "      <td>M</td>\n",
       "      <td>20</td>\n",
       "      <td>26.61.210.47</td>\n",
       "      <td>2018-05-25 02:08:18</td>\n",
       "      <td>35</td>\n",
       "      <td>SEO</td>\n",
       "      <td>Credit Card</td>\n",
       "    </tr>\n",
       "  </tbody>\n",
       "</table>\n",
       "</div>"
      ],
      "text/plain": [
       "   Merchant_ID Merchant_Registration_Date Gender  Age      IP_Address  \\\n",
       "0        53637        2018-02-11 20:50:29      F   40  134.162.124.62   \n",
       "1       243517        2018-04-06 13:19:39      M   39    152.76.98.87   \n",
       "2       343640        2018-01-12 16:47:49      M   23    31.202.3.255   \n",
       "3        69889        2018-02-19 21:58:52      M   34  12.242.168.185   \n",
       "4       125706        2018-05-17 15:50:19      M   20    26.61.210.47   \n",
       "\n",
       "         Date_of_Order  Order_Value_USD Order_Source Order_Payment_Method  \n",
       "0  2018-03-09 09:09:42               60          SEO          Credit Card  \n",
       "1  2018-06-13 20:11:19               28          SEO          Credit Card  \n",
       "2  2018-04-14 04:19:36               75          Ads           Debit Card  \n",
       "3  2018-04-01 13:55:44               98          SEO          Credit Card  \n",
       "4  2018-05-25 02:08:18               35          SEO          Credit Card  "
      ]
     },
     "execution_count": 2254,
     "metadata": {},
     "output_type": "execute_result"
    }
   ],
   "source": [
    "mergedtest.head()"
   ]
  },
  {
   "cell_type": "code",
   "execution_count": 2255,
   "metadata": {},
   "outputs": [],
   "source": [
    "mergedtest['reg_month']=pd.DatetimeIndex(mergedtest['Merchant_Registration_Date']).month"
   ]
  },
  {
   "cell_type": "code",
   "execution_count": 2256,
   "metadata": {},
   "outputs": [],
   "source": [
    "mergedtest['order_month']=pd.DatetimeIndex(mergedtest['Date_of_Order']).month"
   ]
  },
  {
   "cell_type": "code",
   "execution_count": 2257,
   "metadata": {},
   "outputs": [],
   "source": [
    "mergedtest.drop(['Date_of_Order','Merchant_Registration_Date'],axis=1, inplace=True)"
   ]
  },
  {
   "cell_type": "code",
   "execution_count": 2258,
   "metadata": {
    "scrolled": true
   },
   "outputs": [
    {
     "data": {
      "text/html": [
       "<div>\n",
       "<style scoped>\n",
       "    .dataframe tbody tr th:only-of-type {\n",
       "        vertical-align: middle;\n",
       "    }\n",
       "\n",
       "    .dataframe tbody tr th {\n",
       "        vertical-align: top;\n",
       "    }\n",
       "\n",
       "    .dataframe thead th {\n",
       "        text-align: right;\n",
       "    }\n",
       "</style>\n",
       "<table border=\"1\" class=\"dataframe\">\n",
       "  <thead>\n",
       "    <tr style=\"text-align: right;\">\n",
       "      <th></th>\n",
       "      <th>Merchant_ID</th>\n",
       "      <th>Gender</th>\n",
       "      <th>Age</th>\n",
       "      <th>IP_Address</th>\n",
       "      <th>Order_Value_USD</th>\n",
       "      <th>Order_Source</th>\n",
       "      <th>Order_Payment_Method</th>\n",
       "      <th>reg_month</th>\n",
       "      <th>order_month</th>\n",
       "    </tr>\n",
       "  </thead>\n",
       "  <tbody>\n",
       "    <tr>\n",
       "      <th>0</th>\n",
       "      <td>53637</td>\n",
       "      <td>F</td>\n",
       "      <td>40</td>\n",
       "      <td>134.162.124.62</td>\n",
       "      <td>60</td>\n",
       "      <td>SEO</td>\n",
       "      <td>Credit Card</td>\n",
       "      <td>2</td>\n",
       "      <td>3</td>\n",
       "    </tr>\n",
       "    <tr>\n",
       "      <th>1</th>\n",
       "      <td>243517</td>\n",
       "      <td>M</td>\n",
       "      <td>39</td>\n",
       "      <td>152.76.98.87</td>\n",
       "      <td>28</td>\n",
       "      <td>SEO</td>\n",
       "      <td>Credit Card</td>\n",
       "      <td>4</td>\n",
       "      <td>6</td>\n",
       "    </tr>\n",
       "    <tr>\n",
       "      <th>2</th>\n",
       "      <td>343640</td>\n",
       "      <td>M</td>\n",
       "      <td>23</td>\n",
       "      <td>31.202.3.255</td>\n",
       "      <td>75</td>\n",
       "      <td>Ads</td>\n",
       "      <td>Debit Card</td>\n",
       "      <td>1</td>\n",
       "      <td>4</td>\n",
       "    </tr>\n",
       "    <tr>\n",
       "      <th>3</th>\n",
       "      <td>69889</td>\n",
       "      <td>M</td>\n",
       "      <td>34</td>\n",
       "      <td>12.242.168.185</td>\n",
       "      <td>98</td>\n",
       "      <td>SEO</td>\n",
       "      <td>Credit Card</td>\n",
       "      <td>2</td>\n",
       "      <td>4</td>\n",
       "    </tr>\n",
       "    <tr>\n",
       "      <th>4</th>\n",
       "      <td>125706</td>\n",
       "      <td>M</td>\n",
       "      <td>20</td>\n",
       "      <td>26.61.210.47</td>\n",
       "      <td>35</td>\n",
       "      <td>SEO</td>\n",
       "      <td>Credit Card</td>\n",
       "      <td>5</td>\n",
       "      <td>5</td>\n",
       "    </tr>\n",
       "  </tbody>\n",
       "</table>\n",
       "</div>"
      ],
      "text/plain": [
       "   Merchant_ID Gender  Age      IP_Address  Order_Value_USD Order_Source  \\\n",
       "0        53637      F   40  134.162.124.62               60          SEO   \n",
       "1       243517      M   39    152.76.98.87               28          SEO   \n",
       "2       343640      M   23    31.202.3.255               75          Ads   \n",
       "3        69889      M   34  12.242.168.185               98          SEO   \n",
       "4       125706      M   20    26.61.210.47               35          SEO   \n",
       "\n",
       "  Order_Payment_Method  reg_month  order_month  \n",
       "0          Credit Card          2            3  \n",
       "1          Credit Card          4            6  \n",
       "2           Debit Card          1            4  \n",
       "3          Credit Card          2            4  \n",
       "4          Credit Card          5            5  "
      ]
     },
     "execution_count": 2258,
     "metadata": {},
     "output_type": "execute_result"
    }
   ],
   "source": [
    "mergedtest.head()"
   ]
  },
  {
   "cell_type": "code",
   "execution_count": 2259,
   "metadata": {},
   "outputs": [
    {
     "data": {
      "text/plain": [
       "0    3\n",
       "1    6\n",
       "2    4\n",
       "3    4\n",
       "4    5\n",
       "Name: order_month, dtype: int64"
      ]
     },
     "execution_count": 2259,
     "metadata": {},
     "output_type": "execute_result"
    }
   ],
   "source": [
    "mergedtest['order_month'].astype('int').head()"
   ]
  },
  {
   "cell_type": "code",
   "execution_count": 2260,
   "metadata": {},
   "outputs": [
    {
     "data": {
      "text/plain": [
       "0    7\n",
       "1    1\n",
       "2    7\n",
       "3    4\n",
       "4    1\n",
       "Name: reg_month, dtype: int64"
      ]
     },
     "execution_count": 2260,
     "metadata": {},
     "output_type": "execute_result"
    }
   ],
   "source": [
    "merged1['reg_month'].astype('int').head()"
   ]
  },
  {
   "cell_type": "code",
   "execution_count": 2261,
   "metadata": {},
   "outputs": [],
   "source": [
    "mergedtest = pd.get_dummies(mergedtest, columns=cat_cols,drop_first=True)"
   ]
  },
  {
   "cell_type": "code",
   "execution_count": 2262,
   "metadata": {},
   "outputs": [
    {
     "data": {
      "text/html": [
       "<div>\n",
       "<style scoped>\n",
       "    .dataframe tbody tr th:only-of-type {\n",
       "        vertical-align: middle;\n",
       "    }\n",
       "\n",
       "    .dataframe tbody tr th {\n",
       "        vertical-align: top;\n",
       "    }\n",
       "\n",
       "    .dataframe thead th {\n",
       "        text-align: right;\n",
       "    }\n",
       "</style>\n",
       "<table border=\"1\" class=\"dataframe\">\n",
       "  <thead>\n",
       "    <tr style=\"text-align: right;\">\n",
       "      <th></th>\n",
       "      <th>Merchant_ID</th>\n",
       "      <th>Age</th>\n",
       "      <th>IP_Address</th>\n",
       "      <th>Order_Value_USD</th>\n",
       "      <th>reg_month</th>\n",
       "      <th>order_month</th>\n",
       "      <th>Gender_M</th>\n",
       "      <th>Order_Source_Direct</th>\n",
       "      <th>Order_Source_SEO</th>\n",
       "      <th>Order_Payment_Method_Credit Card</th>\n",
       "      <th>Order_Payment_Method_Debit Card</th>\n",
       "      <th>Order_Payment_Method_E-wallet</th>\n",
       "      <th>Order_Payment_Method_Internet Banking</th>\n",
       "    </tr>\n",
       "  </thead>\n",
       "  <tbody>\n",
       "    <tr>\n",
       "      <th>0</th>\n",
       "      <td>53637</td>\n",
       "      <td>40</td>\n",
       "      <td>134.162.124.62</td>\n",
       "      <td>60</td>\n",
       "      <td>2</td>\n",
       "      <td>3</td>\n",
       "      <td>0</td>\n",
       "      <td>0</td>\n",
       "      <td>1</td>\n",
       "      <td>1</td>\n",
       "      <td>0</td>\n",
       "      <td>0</td>\n",
       "      <td>0</td>\n",
       "    </tr>\n",
       "    <tr>\n",
       "      <th>1</th>\n",
       "      <td>243517</td>\n",
       "      <td>39</td>\n",
       "      <td>152.76.98.87</td>\n",
       "      <td>28</td>\n",
       "      <td>4</td>\n",
       "      <td>6</td>\n",
       "      <td>1</td>\n",
       "      <td>0</td>\n",
       "      <td>1</td>\n",
       "      <td>1</td>\n",
       "      <td>0</td>\n",
       "      <td>0</td>\n",
       "      <td>0</td>\n",
       "    </tr>\n",
       "    <tr>\n",
       "      <th>2</th>\n",
       "      <td>343640</td>\n",
       "      <td>23</td>\n",
       "      <td>31.202.3.255</td>\n",
       "      <td>75</td>\n",
       "      <td>1</td>\n",
       "      <td>4</td>\n",
       "      <td>1</td>\n",
       "      <td>0</td>\n",
       "      <td>0</td>\n",
       "      <td>0</td>\n",
       "      <td>1</td>\n",
       "      <td>0</td>\n",
       "      <td>0</td>\n",
       "    </tr>\n",
       "    <tr>\n",
       "      <th>3</th>\n",
       "      <td>69889</td>\n",
       "      <td>34</td>\n",
       "      <td>12.242.168.185</td>\n",
       "      <td>98</td>\n",
       "      <td>2</td>\n",
       "      <td>4</td>\n",
       "      <td>1</td>\n",
       "      <td>0</td>\n",
       "      <td>1</td>\n",
       "      <td>1</td>\n",
       "      <td>0</td>\n",
       "      <td>0</td>\n",
       "      <td>0</td>\n",
       "    </tr>\n",
       "    <tr>\n",
       "      <th>4</th>\n",
       "      <td>125706</td>\n",
       "      <td>20</td>\n",
       "      <td>26.61.210.47</td>\n",
       "      <td>35</td>\n",
       "      <td>5</td>\n",
       "      <td>5</td>\n",
       "      <td>1</td>\n",
       "      <td>0</td>\n",
       "      <td>1</td>\n",
       "      <td>1</td>\n",
       "      <td>0</td>\n",
       "      <td>0</td>\n",
       "      <td>0</td>\n",
       "    </tr>\n",
       "  </tbody>\n",
       "</table>\n",
       "</div>"
      ],
      "text/plain": [
       "   Merchant_ID  Age      IP_Address  Order_Value_USD  reg_month  order_month  \\\n",
       "0        53637   40  134.162.124.62               60          2            3   \n",
       "1       243517   39    152.76.98.87               28          4            6   \n",
       "2       343640   23    31.202.3.255               75          1            4   \n",
       "3        69889   34  12.242.168.185               98          2            4   \n",
       "4       125706   20    26.61.210.47               35          5            5   \n",
       "\n",
       "   Gender_M  Order_Source_Direct  Order_Source_SEO  \\\n",
       "0         0                    0                 1   \n",
       "1         1                    0                 1   \n",
       "2         1                    0                 0   \n",
       "3         1                    0                 1   \n",
       "4         1                    0                 1   \n",
       "\n",
       "   Order_Payment_Method_Credit Card  Order_Payment_Method_Debit Card  \\\n",
       "0                                 1                                0   \n",
       "1                                 1                                0   \n",
       "2                                 0                                1   \n",
       "3                                 1                                0   \n",
       "4                                 1                                0   \n",
       "\n",
       "   Order_Payment_Method_E-wallet  Order_Payment_Method_Internet Banking  \n",
       "0                              0                                      0  \n",
       "1                              0                                      0  \n",
       "2                              0                                      0  \n",
       "3                              0                                      0  \n",
       "4                              0                                      0  "
      ]
     },
     "execution_count": 2262,
     "metadata": {},
     "output_type": "execute_result"
    }
   ],
   "source": [
    "mergedtest.head()"
   ]
  },
  {
   "cell_type": "code",
   "execution_count": 2263,
   "metadata": {},
   "outputs": [],
   "source": [
    "mergedtest.drop(['IP_Address'],axis=1,inplace=True)"
   ]
  },
  {
   "cell_type": "code",
   "execution_count": 2264,
   "metadata": {
    "scrolled": true
   },
   "outputs": [
    {
     "data": {
      "text/html": [
       "<div>\n",
       "<style scoped>\n",
       "    .dataframe tbody tr th:only-of-type {\n",
       "        vertical-align: middle;\n",
       "    }\n",
       "\n",
       "    .dataframe tbody tr th {\n",
       "        vertical-align: top;\n",
       "    }\n",
       "\n",
       "    .dataframe thead th {\n",
       "        text-align: right;\n",
       "    }\n",
       "</style>\n",
       "<table border=\"1\" class=\"dataframe\">\n",
       "  <thead>\n",
       "    <tr style=\"text-align: right;\">\n",
       "      <th></th>\n",
       "      <th>index</th>\n",
       "      <th>predicted</th>\n",
       "    </tr>\n",
       "  </thead>\n",
       "  <tbody>\n",
       "    <tr>\n",
       "      <th>0</th>\n",
       "      <td>0</td>\n",
       "      <td>0</td>\n",
       "    </tr>\n",
       "    <tr>\n",
       "      <th>1</th>\n",
       "      <td>1</td>\n",
       "      <td>0</td>\n",
       "    </tr>\n",
       "    <tr>\n",
       "      <th>2</th>\n",
       "      <td>2</td>\n",
       "      <td>0</td>\n",
       "    </tr>\n",
       "    <tr>\n",
       "      <th>3</th>\n",
       "      <td>3</td>\n",
       "      <td>0</td>\n",
       "    </tr>\n",
       "    <tr>\n",
       "      <th>4</th>\n",
       "      <td>4</td>\n",
       "      <td>0</td>\n",
       "    </tr>\n",
       "  </tbody>\n",
       "</table>\n",
       "</div>"
      ],
      "text/plain": [
       "   index  predicted\n",
       "0      0          0\n",
       "1      1          0\n",
       "2      2          0\n",
       "3      3          0\n",
       "4      4          0"
      ]
     },
     "execution_count": 2264,
     "metadata": {},
     "output_type": "execute_result"
    }
   ],
   "source": [
    "pred_dtclass_test = pd.DataFrame({ 'predicted': dtclass_best_model.predict(mergedtest)})\n",
    "pred_dtclass_test = pred_dtclass_test.reset_index()\n",
    "pred_dtclass_test.head()"
   ]
  },
  {
   "cell_type": "code",
   "execution_count": 2265,
   "metadata": {},
   "outputs": [],
   "source": [
    "#run model 2 on test data\n",
    "# read in sample output format, run model print results column and write back the file to disk\n",
    "\n",
    "result=pd.read_csv(\"/Users/pavankumar/Downloads/ mith/test-1561627952093.csv\")"
   ]
  },
  {
   "cell_type": "code",
   "execution_count": 2266,
   "metadata": {},
   "outputs": [],
   "source": [
    "result['Fraudster']=dtclass_best_model.predict(mergedtest)"
   ]
  },
  {
   "cell_type": "code",
   "execution_count": 2267,
   "metadata": {},
   "outputs": [
    {
     "data": {
      "text/html": [
       "<div>\n",
       "<style scoped>\n",
       "    .dataframe tbody tr th:only-of-type {\n",
       "        vertical-align: middle;\n",
       "    }\n",
       "\n",
       "    .dataframe tbody tr th {\n",
       "        vertical-align: top;\n",
       "    }\n",
       "\n",
       "    .dataframe thead th {\n",
       "        text-align: right;\n",
       "    }\n",
       "</style>\n",
       "<table border=\"1\" class=\"dataframe\">\n",
       "  <thead>\n",
       "    <tr style=\"text-align: right;\">\n",
       "      <th></th>\n",
       "      <th>Unnamed: 0</th>\n",
       "      <th>Merchant_ID</th>\n",
       "      <th>Fraudster</th>\n",
       "    </tr>\n",
       "  </thead>\n",
       "  <tbody>\n",
       "    <tr>\n",
       "      <th>0</th>\n",
       "      <td>0</td>\n",
       "      <td>53637</td>\n",
       "      <td>0</td>\n",
       "    </tr>\n",
       "    <tr>\n",
       "      <th>1</th>\n",
       "      <td>1</td>\n",
       "      <td>243517</td>\n",
       "      <td>0</td>\n",
       "    </tr>\n",
       "    <tr>\n",
       "      <th>2</th>\n",
       "      <td>2</td>\n",
       "      <td>343640</td>\n",
       "      <td>0</td>\n",
       "    </tr>\n",
       "    <tr>\n",
       "      <th>3</th>\n",
       "      <td>3</td>\n",
       "      <td>69889</td>\n",
       "      <td>0</td>\n",
       "    </tr>\n",
       "    <tr>\n",
       "      <th>4</th>\n",
       "      <td>4</td>\n",
       "      <td>125706</td>\n",
       "      <td>0</td>\n",
       "    </tr>\n",
       "  </tbody>\n",
       "</table>\n",
       "</div>"
      ],
      "text/plain": [
       "   Unnamed: 0  Merchant_ID  Fraudster\n",
       "0           0        53637          0\n",
       "1           1       243517          0\n",
       "2           2       343640          0\n",
       "3           3        69889          0\n",
       "4           4       125706          0"
      ]
     },
     "execution_count": 2267,
     "metadata": {},
     "output_type": "execute_result"
    }
   ],
   "source": [
    "result.head()"
   ]
  },
  {
   "cell_type": "code",
   "execution_count": 2268,
   "metadata": {},
   "outputs": [],
   "source": [
    "#write result to a csv\n",
    "result.to_csv('/Users/pavankumar/Downloads/ mith/test-1561627952093.csv', sep=',',index=False)"
   ]
  },
  {
   "cell_type": "code",
   "execution_count": 2269,
   "metadata": {},
   "outputs": [],
   "source": [
    "result=pd.read_csv(\"/Users/pavankumar/Downloads/ mith/test-1561627952093.csv\")"
   ]
  },
  {
   "cell_type": "code",
   "execution_count": 2270,
   "metadata": {},
   "outputs": [
    {
     "data": {
      "text/html": [
       "<div>\n",
       "<style scoped>\n",
       "    .dataframe tbody tr th:only-of-type {\n",
       "        vertical-align: middle;\n",
       "    }\n",
       "\n",
       "    .dataframe tbody tr th {\n",
       "        vertical-align: top;\n",
       "    }\n",
       "\n",
       "    .dataframe thead th {\n",
       "        text-align: right;\n",
       "    }\n",
       "</style>\n",
       "<table border=\"1\" class=\"dataframe\">\n",
       "  <thead>\n",
       "    <tr style=\"text-align: right;\">\n",
       "      <th></th>\n",
       "      <th>Unnamed: 0</th>\n",
       "      <th>Merchant_ID</th>\n",
       "      <th>Fraudster</th>\n",
       "    </tr>\n",
       "  </thead>\n",
       "  <tbody>\n",
       "    <tr>\n",
       "      <th>0</th>\n",
       "      <td>0</td>\n",
       "      <td>53637</td>\n",
       "      <td>0</td>\n",
       "    </tr>\n",
       "    <tr>\n",
       "      <th>1</th>\n",
       "      <td>1</td>\n",
       "      <td>243517</td>\n",
       "      <td>0</td>\n",
       "    </tr>\n",
       "    <tr>\n",
       "      <th>2</th>\n",
       "      <td>2</td>\n",
       "      <td>343640</td>\n",
       "      <td>0</td>\n",
       "    </tr>\n",
       "    <tr>\n",
       "      <th>3</th>\n",
       "      <td>3</td>\n",
       "      <td>69889</td>\n",
       "      <td>0</td>\n",
       "    </tr>\n",
       "    <tr>\n",
       "      <th>4</th>\n",
       "      <td>4</td>\n",
       "      <td>125706</td>\n",
       "      <td>0</td>\n",
       "    </tr>\n",
       "  </tbody>\n",
       "</table>\n",
       "</div>"
      ],
      "text/plain": [
       "   Unnamed: 0  Merchant_ID  Fraudster\n",
       "0           0        53637          0\n",
       "1           1       243517          0\n",
       "2           2       343640          0\n",
       "3           3        69889          0\n",
       "4           4       125706          0"
      ]
     },
     "execution_count": 2270,
     "metadata": {},
     "output_type": "execute_result"
    }
   ],
   "source": [
    "result.head()"
   ]
  },
  {
   "cell_type": "code",
   "execution_count": 2271,
   "metadata": {},
   "outputs": [
    {
     "data": {
      "text/html": [
       "<div>\n",
       "<style scoped>\n",
       "    .dataframe tbody tr th:only-of-type {\n",
       "        vertical-align: middle;\n",
       "    }\n",
       "\n",
       "    .dataframe tbody tr th {\n",
       "        vertical-align: top;\n",
       "    }\n",
       "\n",
       "    .dataframe thead th {\n",
       "        text-align: right;\n",
       "    }\n",
       "</style>\n",
       "<table border=\"1\" class=\"dataframe\">\n",
       "  <thead>\n",
       "    <tr style=\"text-align: right;\">\n",
       "      <th></th>\n",
       "      <th>Unnamed: 0</th>\n",
       "      <th>Merchant_ID</th>\n",
       "      <th>Fraudster</th>\n",
       "    </tr>\n",
       "  </thead>\n",
       "  <tbody>\n",
       "    <tr>\n",
       "      <th>0</th>\n",
       "      <td>0</td>\n",
       "      <td>53637</td>\n",
       "      <td>0</td>\n",
       "    </tr>\n",
       "    <tr>\n",
       "      <th>1</th>\n",
       "      <td>1</td>\n",
       "      <td>243517</td>\n",
       "      <td>0</td>\n",
       "    </tr>\n",
       "    <tr>\n",
       "      <th>2</th>\n",
       "      <td>2</td>\n",
       "      <td>343640</td>\n",
       "      <td>0</td>\n",
       "    </tr>\n",
       "    <tr>\n",
       "      <th>3</th>\n",
       "      <td>3</td>\n",
       "      <td>69889</td>\n",
       "      <td>0</td>\n",
       "    </tr>\n",
       "    <tr>\n",
       "      <th>4</th>\n",
       "      <td>4</td>\n",
       "      <td>125706</td>\n",
       "      <td>0</td>\n",
       "    </tr>\n",
       "    <tr>\n",
       "      <th>5</th>\n",
       "      <td>5</td>\n",
       "      <td>99740</td>\n",
       "      <td>0</td>\n",
       "    </tr>\n",
       "    <tr>\n",
       "      <th>6</th>\n",
       "      <td>6</td>\n",
       "      <td>286064</td>\n",
       "      <td>1</td>\n",
       "    </tr>\n",
       "    <tr>\n",
       "      <th>7</th>\n",
       "      <td>7</td>\n",
       "      <td>106848</td>\n",
       "      <td>0</td>\n",
       "    </tr>\n",
       "    <tr>\n",
       "      <th>8</th>\n",
       "      <td>8</td>\n",
       "      <td>312957</td>\n",
       "      <td>0</td>\n",
       "    </tr>\n",
       "    <tr>\n",
       "      <th>9</th>\n",
       "      <td>9</td>\n",
       "      <td>97205</td>\n",
       "      <td>0</td>\n",
       "    </tr>\n",
       "    <tr>\n",
       "      <th>10</th>\n",
       "      <td>10</td>\n",
       "      <td>120661</td>\n",
       "      <td>0</td>\n",
       "    </tr>\n",
       "    <tr>\n",
       "      <th>11</th>\n",
       "      <td>11</td>\n",
       "      <td>173548</td>\n",
       "      <td>0</td>\n",
       "    </tr>\n",
       "    <tr>\n",
       "      <th>12</th>\n",
       "      <td>12</td>\n",
       "      <td>254038</td>\n",
       "      <td>1</td>\n",
       "    </tr>\n",
       "    <tr>\n",
       "      <th>13</th>\n",
       "      <td>13</td>\n",
       "      <td>391538</td>\n",
       "      <td>0</td>\n",
       "    </tr>\n",
       "    <tr>\n",
       "      <th>14</th>\n",
       "      <td>14</td>\n",
       "      <td>188014</td>\n",
       "      <td>0</td>\n",
       "    </tr>\n",
       "    <tr>\n",
       "      <th>15</th>\n",
       "      <td>15</td>\n",
       "      <td>220190</td>\n",
       "      <td>0</td>\n",
       "    </tr>\n",
       "    <tr>\n",
       "      <th>16</th>\n",
       "      <td>16</td>\n",
       "      <td>27820</td>\n",
       "      <td>0</td>\n",
       "    </tr>\n",
       "    <tr>\n",
       "      <th>17</th>\n",
       "      <td>17</td>\n",
       "      <td>162677</td>\n",
       "      <td>0</td>\n",
       "    </tr>\n",
       "    <tr>\n",
       "      <th>18</th>\n",
       "      <td>18</td>\n",
       "      <td>122060</td>\n",
       "      <td>0</td>\n",
       "    </tr>\n",
       "    <tr>\n",
       "      <th>19</th>\n",
       "      <td>19</td>\n",
       "      <td>46254</td>\n",
       "      <td>0</td>\n",
       "    </tr>\n",
       "    <tr>\n",
       "      <th>20</th>\n",
       "      <td>20</td>\n",
       "      <td>49870</td>\n",
       "      <td>0</td>\n",
       "    </tr>\n",
       "    <tr>\n",
       "      <th>21</th>\n",
       "      <td>21</td>\n",
       "      <td>24152</td>\n",
       "      <td>0</td>\n",
       "    </tr>\n",
       "    <tr>\n",
       "      <th>22</th>\n",
       "      <td>22</td>\n",
       "      <td>204988</td>\n",
       "      <td>0</td>\n",
       "    </tr>\n",
       "    <tr>\n",
       "      <th>23</th>\n",
       "      <td>23</td>\n",
       "      <td>393097</td>\n",
       "      <td>0</td>\n",
       "    </tr>\n",
       "    <tr>\n",
       "      <th>24</th>\n",
       "      <td>24</td>\n",
       "      <td>255378</td>\n",
       "      <td>0</td>\n",
       "    </tr>\n",
       "    <tr>\n",
       "      <th>25</th>\n",
       "      <td>25</td>\n",
       "      <td>353951</td>\n",
       "      <td>0</td>\n",
       "    </tr>\n",
       "    <tr>\n",
       "      <th>26</th>\n",
       "      <td>26</td>\n",
       "      <td>165626</td>\n",
       "      <td>0</td>\n",
       "    </tr>\n",
       "    <tr>\n",
       "      <th>27</th>\n",
       "      <td>27</td>\n",
       "      <td>113385</td>\n",
       "      <td>0</td>\n",
       "    </tr>\n",
       "    <tr>\n",
       "      <th>28</th>\n",
       "      <td>28</td>\n",
       "      <td>205651</td>\n",
       "      <td>0</td>\n",
       "    </tr>\n",
       "    <tr>\n",
       "      <th>29</th>\n",
       "      <td>29</td>\n",
       "      <td>370089</td>\n",
       "      <td>0</td>\n",
       "    </tr>\n",
       "    <tr>\n",
       "      <th>...</th>\n",
       "      <td>...</td>\n",
       "      <td>...</td>\n",
       "      <td>...</td>\n",
       "    </tr>\n",
       "    <tr>\n",
       "      <th>13524</th>\n",
       "      <td>13524</td>\n",
       "      <td>242278</td>\n",
       "      <td>0</td>\n",
       "    </tr>\n",
       "    <tr>\n",
       "      <th>13525</th>\n",
       "      <td>13525</td>\n",
       "      <td>240760</td>\n",
       "      <td>0</td>\n",
       "    </tr>\n",
       "    <tr>\n",
       "      <th>13526</th>\n",
       "      <td>13526</td>\n",
       "      <td>166166</td>\n",
       "      <td>0</td>\n",
       "    </tr>\n",
       "    <tr>\n",
       "      <th>13527</th>\n",
       "      <td>13527</td>\n",
       "      <td>393294</td>\n",
       "      <td>0</td>\n",
       "    </tr>\n",
       "    <tr>\n",
       "      <th>13528</th>\n",
       "      <td>13528</td>\n",
       "      <td>348082</td>\n",
       "      <td>0</td>\n",
       "    </tr>\n",
       "    <tr>\n",
       "      <th>13529</th>\n",
       "      <td>13529</td>\n",
       "      <td>275270</td>\n",
       "      <td>0</td>\n",
       "    </tr>\n",
       "    <tr>\n",
       "      <th>13530</th>\n",
       "      <td>13530</td>\n",
       "      <td>390755</td>\n",
       "      <td>0</td>\n",
       "    </tr>\n",
       "    <tr>\n",
       "      <th>13531</th>\n",
       "      <td>13531</td>\n",
       "      <td>163230</td>\n",
       "      <td>0</td>\n",
       "    </tr>\n",
       "    <tr>\n",
       "      <th>13532</th>\n",
       "      <td>13532</td>\n",
       "      <td>171387</td>\n",
       "      <td>0</td>\n",
       "    </tr>\n",
       "    <tr>\n",
       "      <th>13533</th>\n",
       "      <td>13533</td>\n",
       "      <td>214214</td>\n",
       "      <td>0</td>\n",
       "    </tr>\n",
       "    <tr>\n",
       "      <th>13534</th>\n",
       "      <td>13534</td>\n",
       "      <td>279767</td>\n",
       "      <td>0</td>\n",
       "    </tr>\n",
       "    <tr>\n",
       "      <th>13535</th>\n",
       "      <td>13535</td>\n",
       "      <td>265529</td>\n",
       "      <td>0</td>\n",
       "    </tr>\n",
       "    <tr>\n",
       "      <th>13536</th>\n",
       "      <td>13536</td>\n",
       "      <td>184164</td>\n",
       "      <td>0</td>\n",
       "    </tr>\n",
       "    <tr>\n",
       "      <th>13537</th>\n",
       "      <td>13537</td>\n",
       "      <td>231507</td>\n",
       "      <td>0</td>\n",
       "    </tr>\n",
       "    <tr>\n",
       "      <th>13538</th>\n",
       "      <td>13538</td>\n",
       "      <td>323426</td>\n",
       "      <td>0</td>\n",
       "    </tr>\n",
       "    <tr>\n",
       "      <th>13539</th>\n",
       "      <td>13539</td>\n",
       "      <td>115606</td>\n",
       "      <td>0</td>\n",
       "    </tr>\n",
       "    <tr>\n",
       "      <th>13540</th>\n",
       "      <td>13540</td>\n",
       "      <td>126811</td>\n",
       "      <td>0</td>\n",
       "    </tr>\n",
       "    <tr>\n",
       "      <th>13541</th>\n",
       "      <td>13541</td>\n",
       "      <td>385353</td>\n",
       "      <td>0</td>\n",
       "    </tr>\n",
       "    <tr>\n",
       "      <th>13542</th>\n",
       "      <td>13542</td>\n",
       "      <td>96236</td>\n",
       "      <td>0</td>\n",
       "    </tr>\n",
       "    <tr>\n",
       "      <th>13543</th>\n",
       "      <td>13543</td>\n",
       "      <td>26210</td>\n",
       "      <td>0</td>\n",
       "    </tr>\n",
       "    <tr>\n",
       "      <th>13544</th>\n",
       "      <td>13544</td>\n",
       "      <td>281444</td>\n",
       "      <td>0</td>\n",
       "    </tr>\n",
       "    <tr>\n",
       "      <th>13545</th>\n",
       "      <td>13545</td>\n",
       "      <td>187308</td>\n",
       "      <td>0</td>\n",
       "    </tr>\n",
       "    <tr>\n",
       "      <th>13546</th>\n",
       "      <td>13546</td>\n",
       "      <td>161595</td>\n",
       "      <td>0</td>\n",
       "    </tr>\n",
       "    <tr>\n",
       "      <th>13547</th>\n",
       "      <td>13547</td>\n",
       "      <td>72395</td>\n",
       "      <td>0</td>\n",
       "    </tr>\n",
       "    <tr>\n",
       "      <th>13548</th>\n",
       "      <td>13548</td>\n",
       "      <td>221043</td>\n",
       "      <td>0</td>\n",
       "    </tr>\n",
       "    <tr>\n",
       "      <th>13549</th>\n",
       "      <td>13549</td>\n",
       "      <td>279884</td>\n",
       "      <td>0</td>\n",
       "    </tr>\n",
       "    <tr>\n",
       "      <th>13550</th>\n",
       "      <td>13550</td>\n",
       "      <td>206253</td>\n",
       "      <td>0</td>\n",
       "    </tr>\n",
       "    <tr>\n",
       "      <th>13551</th>\n",
       "      <td>13551</td>\n",
       "      <td>313049</td>\n",
       "      <td>0</td>\n",
       "    </tr>\n",
       "    <tr>\n",
       "      <th>13552</th>\n",
       "      <td>13552</td>\n",
       "      <td>304081</td>\n",
       "      <td>0</td>\n",
       "    </tr>\n",
       "    <tr>\n",
       "      <th>13553</th>\n",
       "      <td>13553</td>\n",
       "      <td>319050</td>\n",
       "      <td>0</td>\n",
       "    </tr>\n",
       "  </tbody>\n",
       "</table>\n",
       "<p>13554 rows × 3 columns</p>\n",
       "</div>"
      ],
      "text/plain": [
       "       Unnamed: 0  Merchant_ID  Fraudster\n",
       "0               0        53637          0\n",
       "1               1       243517          0\n",
       "2               2       343640          0\n",
       "3               3        69889          0\n",
       "4               4       125706          0\n",
       "5               5        99740          0\n",
       "6               6       286064          1\n",
       "7               7       106848          0\n",
       "8               8       312957          0\n",
       "9               9        97205          0\n",
       "10             10       120661          0\n",
       "11             11       173548          0\n",
       "12             12       254038          1\n",
       "13             13       391538          0\n",
       "14             14       188014          0\n",
       "15             15       220190          0\n",
       "16             16        27820          0\n",
       "17             17       162677          0\n",
       "18             18       122060          0\n",
       "19             19        46254          0\n",
       "20             20        49870          0\n",
       "21             21        24152          0\n",
       "22             22       204988          0\n",
       "23             23       393097          0\n",
       "24             24       255378          0\n",
       "25             25       353951          0\n",
       "26             26       165626          0\n",
       "27             27       113385          0\n",
       "28             28       205651          0\n",
       "29             29       370089          0\n",
       "...           ...          ...        ...\n",
       "13524       13524       242278          0\n",
       "13525       13525       240760          0\n",
       "13526       13526       166166          0\n",
       "13527       13527       393294          0\n",
       "13528       13528       348082          0\n",
       "13529       13529       275270          0\n",
       "13530       13530       390755          0\n",
       "13531       13531       163230          0\n",
       "13532       13532       171387          0\n",
       "13533       13533       214214          0\n",
       "13534       13534       279767          0\n",
       "13535       13535       265529          0\n",
       "13536       13536       184164          0\n",
       "13537       13537       231507          0\n",
       "13538       13538       323426          0\n",
       "13539       13539       115606          0\n",
       "13540       13540       126811          0\n",
       "13541       13541       385353          0\n",
       "13542       13542        96236          0\n",
       "13543       13543        26210          0\n",
       "13544       13544       281444          0\n",
       "13545       13545       187308          0\n",
       "13546       13546       161595          0\n",
       "13547       13547        72395          0\n",
       "13548       13548       221043          0\n",
       "13549       13549       279884          0\n",
       "13550       13550       206253          0\n",
       "13551       13551       313049          0\n",
       "13552       13552       304081          0\n",
       "13553       13553       319050          0\n",
       "\n",
       "[13554 rows x 3 columns]"
      ]
     },
     "execution_count": 2271,
     "metadata": {},
     "output_type": "execute_result"
    }
   ],
   "source": [
    "result"
   ]
  },
  {
   "cell_type": "code",
   "execution_count": 2272,
   "metadata": {},
   "outputs": [],
   "source": [
    "#random forest\n",
    "from sklearn.ensemble import RandomForestClassifier\n",
    "rfc = RandomForestClassifier()"
   ]
  },
  {
   "cell_type": "code",
   "execution_count": 2273,
   "metadata": {},
   "outputs": [
    {
     "name": "stderr",
     "output_type": "stream",
     "text": [
      "/Users/pavankumar/anaconda3/lib/python3.7/site-packages/sklearn/ensemble/forest.py:246: FutureWarning: The default value of n_estimators will change from 10 in version 0.20 to 100 in 0.22.\n",
      "  \"10 in version 0.20 to 100 in 0.22.\", FutureWarning)\n"
     ]
    },
    {
     "name": "stdout",
     "output_type": "stream",
     "text": [
      "CPU times: user 643 ms, sys: 21.5 ms, total: 664 ms\n",
      "Wall time: 685 ms\n"
     ]
    },
    {
     "data": {
      "text/plain": [
       "RandomForestClassifier(bootstrap=True, class_weight=None, criterion='gini',\n",
       "            max_depth=None, max_features='auto', max_leaf_nodes=None,\n",
       "            min_impurity_decrease=0.0, min_impurity_split=None,\n",
       "            min_samples_leaf=1, min_samples_split=2,\n",
       "            min_weight_fraction_leaf=0.0, n_estimators=10, n_jobs=None,\n",
       "            oob_score=False, random_state=None, verbose=0,\n",
       "            warm_start=False)"
      ]
     },
     "execution_count": 2273,
     "metadata": {},
     "output_type": "execute_result"
    }
   ],
   "source": [
    "%time rfc.fit(X = X_train,y = y_train)"
   ]
  },
  {
   "cell_type": "code",
   "execution_count": 2274,
   "metadata": {},
   "outputs": [],
   "source": [
    "rfcpredictions = rfc.predict(X_train)\n"
   ]
  },
  {
   "cell_type": "code",
   "execution_count": 2275,
   "metadata": {},
   "outputs": [
    {
     "data": {
      "text/plain": [
       "0.9338962923868583"
      ]
     },
     "execution_count": 2275,
     "metadata": {},
     "output_type": "execute_result"
    }
   ],
   "source": [
    "metrics.f1_score(y_train,rfcpredictions)"
   ]
  },
  {
   "cell_type": "code",
   "execution_count": 2276,
   "metadata": {},
   "outputs": [],
   "source": [
    "rfc2=rfc.predict(X_test)"
   ]
  },
  {
   "cell_type": "code",
   "execution_count": 2277,
   "metadata": {},
   "outputs": [
    {
     "data": {
      "text/plain": [
       "0.5945945945945946"
      ]
     },
     "execution_count": 2277,
     "metadata": {},
     "output_type": "execute_result"
    }
   ],
   "source": [
    "metrics.f1_score(y_test,rfc2)"
   ]
  },
  {
   "cell_type": "code",
   "execution_count": 2279,
   "metadata": {},
   "outputs": [
    {
     "data": {
      "text/plain": [
       "array([0.1992711 , 0.1290305 , 0.14538367, 0.08677359, 0.37455491,\n",
       "       0.01542652, 0.00851126, 0.0111367 , 0.00861934, 0.00818251,\n",
       "       0.00725008, 0.00585984])"
      ]
     },
     "execution_count": 2279,
     "metadata": {},
     "output_type": "execute_result"
    }
   ],
   "source": [
    "#column importance\n",
    "rfc.feature_importances_"
   ]
  },
  {
   "cell_type": "code",
   "execution_count": 2280,
   "metadata": {},
   "outputs": [],
   "source": [
    "feat_importances = pd.Series(rfc.feature_importances_, index = X_train.columns)"
   ]
  },
  {
   "cell_type": "code",
   "execution_count": 2281,
   "metadata": {},
   "outputs": [
    {
     "data": {
      "text/plain": [
       "<matplotlib.axes._subplots.AxesSubplot at 0x1a2a438128>"
      ]
     },
     "execution_count": 2281,
     "metadata": {},
     "output_type": "execute_result"
    },
    {
     "data": {
      "image/png": "[encoded data removed]",
      "text/plain": [
       "<Figure size 432x288 with 1 Axes>"
      ]
     },
     "metadata": {
      "needs_background": "light"
     },
     "output_type": "display_data"
    }
   ],
   "source": [
    "feat_importances.plot(kind='bar')"
   ]
  },
  {
   "cell_type": "code",
   "execution_count": 2302,
   "metadata": {},
   "outputs": [],
   "source": [
    "#rfc with gridsearch cv\n",
    "rfc_grid = RandomForestClassifier(n_jobs=-1, max_features='sqrt')"
   ]
  },
  {
   "cell_type": "code",
   "execution_count": 2303,
   "metadata": {},
   "outputs": [],
   "source": [
    "from sklearn.model_selection import RandomizedSearchCV"
   ]
  },
  {
   "cell_type": "code",
   "execution_count": 2304,
   "metadata": {},
   "outputs": [],
   "source": [
    "param_grid = {\"n_estimators\" : [10, 20, 30],\n",
    "           \"max_depth\" : [8,10, 12]}\n",
    "          \n",
    " \n",
    "rfc_cv_grid = RandomizedSearchCV(estimator = rfc_grid, param_distributions = param_grid, cv = 3)"
   ]
  },
  {
   "cell_type": "code",
   "execution_count": 2305,
   "metadata": {},
   "outputs": [
    {
     "name": "stderr",
     "output_type": "stream",
     "text": [
      "/Users/pavankumar/anaconda3/lib/python3.7/site-packages/sklearn/model_selection/_search.py:271: UserWarning: The total space of parameters 9 is smaller than n_iter=10. Running 9 iterations. For exhaustive searches, use GridSearchCV.\n",
      "  % (grid_size, self.n_iter, grid_size), UserWarning)\n"
     ]
    },
    {
     "name": "stdout",
     "output_type": "stream",
     "text": [
      "CPU times: user 7.41 s, sys: 709 ms, total: 8.12 s\n",
      "Wall time: 17 s\n"
     ]
    },
    {
     "data": {
      "text/plain": [
       "RandomizedSearchCV(cv=3, error_score='raise-deprecating',\n",
       "          estimator=RandomForestClassifier(bootstrap=True, class_weight=None, criterion='gini',\n",
       "            max_depth=None, max_features='sqrt', max_leaf_nodes=None,\n",
       "            min_impurity_decrease=0.0, min_impurity_split=None,\n",
       "            min_samples_leaf=1, min_samples_split=2,\n",
       "            min_weight_fraction_leaf=0.0, n_estimators='warn', n_jobs=-1,\n",
       "            oob_score=False, random_state=None, verbose=0,\n",
       "            warm_start=False),\n",
       "          fit_params=None, iid='warn', n_iter=10, n_jobs=None,\n",
       "          param_distributions={'n_estimators': [10, 20, 30], 'max_depth': [8, 10, 12]},\n",
       "          pre_dispatch='2*n_jobs', random_state=None, refit=True,\n",
       "          return_train_score='warn', scoring=None, verbose=0)"
      ]
     },
     "execution_count": 2305,
     "metadata": {},
     "output_type": "execute_result"
    }
   ],
   "source": [
    "%time rfc_cv_grid.fit(X_train, y_train)"
   ]
  },
  {
   "cell_type": "code",
   "execution_count": 2306,
   "metadata": {},
   "outputs": [
    {
     "data": {
      "text/plain": [
       "{'n_estimators': 20, 'max_depth': 12}"
      ]
     },
     "execution_count": 2306,
     "metadata": {},
     "output_type": "execute_result"
    }
   ],
   "source": [
    "rfc_cv_grid.best_params_"
   ]
  },
  {
   "cell_type": "code",
   "execution_count": 2307,
   "metadata": {},
   "outputs": [],
   "source": [
    "train_predictions = rfc_cv_grid.predict(X_train)\n",
    "test_predictions = rfc_cv_grid.predict(X_test)"
   ]
  },
  {
   "cell_type": "code",
   "execution_count": 2308,
   "metadata": {},
   "outputs": [
    {
     "data": {
      "text/plain": [
       "0.6660522273425499"
      ]
     },
     "execution_count": 2308,
     "metadata": {},
     "output_type": "execute_result"
    }
   ],
   "source": [
    "\n",
    "metrics.f1_score(y_train,train_predictions)"
   ]
  },
  {
   "cell_type": "code",
   "execution_count": 2309,
   "metadata": {},
   "outputs": [
    {
     "data": {
      "text/plain": [
       "0.6268836648583482"
      ]
     },
     "execution_count": 2309,
     "metadata": {},
     "output_type": "execute_result"
    }
   ],
   "source": [
    "metrics.f1_score(y_test,test_predictions)"
   ]
  },
  {
   "cell_type": "raw",
   "metadata": {},
   "source": []
  },
  {
   "cell_type": "code",
   "execution_count": 2310,
   "metadata": {
    "scrolled": true
   },
   "outputs": [],
   "source": [
    "colss=['Merchant_ID','Fraudster']"
   ]
  },
  {
   "cell_type": "code",
   "execution_count": 2311,
   "metadata": {},
   "outputs": [],
   "source": [
    "todo=result[colss]"
   ]
  },
  {
   "cell_type": "code",
   "execution_count": 2312,
   "metadata": {},
   "outputs": [
    {
     "data": {
      "text/html": [
       "<div>\n",
       "<style scoped>\n",
       "    .dataframe tbody tr th:only-of-type {\n",
       "        vertical-align: middle;\n",
       "    }\n",
       "\n",
       "    .dataframe tbody tr th {\n",
       "        vertical-align: top;\n",
       "    }\n",
       "\n",
       "    .dataframe thead th {\n",
       "        text-align: right;\n",
       "    }\n",
       "</style>\n",
       "<table border=\"1\" class=\"dataframe\">\n",
       "  <thead>\n",
       "    <tr style=\"text-align: right;\">\n",
       "      <th></th>\n",
       "      <th>Merchant_ID</th>\n",
       "      <th>Fraudster</th>\n",
       "    </tr>\n",
       "  </thead>\n",
       "  <tbody>\n",
       "    <tr>\n",
       "      <th>0</th>\n",
       "      <td>53637</td>\n",
       "      <td>0</td>\n",
       "    </tr>\n",
       "    <tr>\n",
       "      <th>1</th>\n",
       "      <td>243517</td>\n",
       "      <td>0</td>\n",
       "    </tr>\n",
       "    <tr>\n",
       "      <th>2</th>\n",
       "      <td>343640</td>\n",
       "      <td>0</td>\n",
       "    </tr>\n",
       "    <tr>\n",
       "      <th>3</th>\n",
       "      <td>69889</td>\n",
       "      <td>0</td>\n",
       "    </tr>\n",
       "    <tr>\n",
       "      <th>4</th>\n",
       "      <td>125706</td>\n",
       "      <td>0</td>\n",
       "    </tr>\n",
       "  </tbody>\n",
       "</table>\n",
       "</div>"
      ],
      "text/plain": [
       "   Merchant_ID  Fraudster\n",
       "0        53637          0\n",
       "1       243517          0\n",
       "2       343640          0\n",
       "3        69889          0\n",
       "4       125706          0"
      ]
     },
     "execution_count": 2312,
     "metadata": {},
     "output_type": "execute_result"
    }
   ],
   "source": [
    "todo.head()"
   ]
  },
  {
   "cell_type": "code",
   "execution_count": 2313,
   "metadata": {},
   "outputs": [],
   "source": [
    "todo.to_csv('/Users/pavankumar/Downloads/ mith/test-1561627952093.csv', sep=',',index=False)"
   ]
  },
  {
   "cell_type": "code",
   "execution_count": null,
   "metadata": {},
   "outputs": [],
   "source": []
  },
  {
   "cell_type": "code",
   "execution_count": 2314,
   "metadata": {},
   "outputs": [],
   "source": [
    "result['Fraudster']=dtclass_best_model.predict(mergedtest)"
   ]
  },
  {
   "cell_type": "code",
   "execution_count": 2315,
   "metadata": {
    "scrolled": true
   },
   "outputs": [
    {
     "data": {
      "text/plain": [
       "array([0, 0, 0, ..., 0, 0, 0])"
      ]
     },
     "execution_count": 2315,
     "metadata": {},
     "output_type": "execute_result"
    }
   ],
   "source": [
    "rfc_cv_grid.predict(mergedtest)"
   ]
  },
  {
   "cell_type": "code",
   "execution_count": 2316,
   "metadata": {},
   "outputs": [
    {
     "data": {
      "text/html": [
       "<div>\n",
       "<style scoped>\n",
       "    .dataframe tbody tr th:only-of-type {\n",
       "        vertical-align: middle;\n",
       "    }\n",
       "\n",
       "    .dataframe tbody tr th {\n",
       "        vertical-align: top;\n",
       "    }\n",
       "\n",
       "    .dataframe thead th {\n",
       "        text-align: right;\n",
       "    }\n",
       "</style>\n",
       "<table border=\"1\" class=\"dataframe\">\n",
       "  <thead>\n",
       "    <tr style=\"text-align: right;\">\n",
       "      <th></th>\n",
       "      <th>Unnamed: 0</th>\n",
       "      <th>Merchant_ID</th>\n",
       "      <th>Fraudster</th>\n",
       "    </tr>\n",
       "  </thead>\n",
       "  <tbody>\n",
       "    <tr>\n",
       "      <th>0</th>\n",
       "      <td>0</td>\n",
       "      <td>53637</td>\n",
       "      <td>0</td>\n",
       "    </tr>\n",
       "    <tr>\n",
       "      <th>1</th>\n",
       "      <td>1</td>\n",
       "      <td>243517</td>\n",
       "      <td>0</td>\n",
       "    </tr>\n",
       "    <tr>\n",
       "      <th>2</th>\n",
       "      <td>2</td>\n",
       "      <td>343640</td>\n",
       "      <td>0</td>\n",
       "    </tr>\n",
       "    <tr>\n",
       "      <th>3</th>\n",
       "      <td>3</td>\n",
       "      <td>69889</td>\n",
       "      <td>0</td>\n",
       "    </tr>\n",
       "    <tr>\n",
       "      <th>4</th>\n",
       "      <td>4</td>\n",
       "      <td>125706</td>\n",
       "      <td>0</td>\n",
       "    </tr>\n",
       "  </tbody>\n",
       "</table>\n",
       "</div>"
      ],
      "text/plain": [
       "   Unnamed: 0  Merchant_ID  Fraudster\n",
       "0           0        53637          0\n",
       "1           1       243517          0\n",
       "2           2       343640          0\n",
       "3           3        69889          0\n",
       "4           4       125706          0"
      ]
     },
     "execution_count": 2316,
     "metadata": {},
     "output_type": "execute_result"
    }
   ],
   "source": [
    "result.head()"
   ]
  },
  {
   "cell_type": "code",
   "execution_count": 2317,
   "metadata": {},
   "outputs": [],
   "source": [
    "result.to_csv('/Users/pavankumar/Downloads/ mith/test-1561627952093.csv', sep=',',index=False)"
   ]
  },
  {
   "cell_type": "code",
   "execution_count": 2318,
   "metadata": {},
   "outputs": [],
   "source": [
    "# XGboost"
   ]
  },
  {
   "cell_type": "code",
   "execution_count": 2319,
   "metadata": {},
   "outputs": [],
   "source": [
    "import xgboost as xgb\n",
    "from xgboost import XGBClassifier\n",
    "XGB_model = XGBClassifier()"
   ]
  },
  {
   "cell_type": "code",
   "execution_count": 2320,
   "metadata": {},
   "outputs": [
    {
     "name": "stdout",
     "output_type": "stream",
     "text": [
      "CPU times: user 4.56 s, sys: 29.1 ms, total: 4.59 s\n",
      "Wall time: 4.62 s\n"
     ]
    },
    {
     "data": {
      "text/plain": [
       "XGBClassifier(base_score=0.5, booster='gbtree', colsample_bylevel=1,\n",
       "       colsample_bynode=1, colsample_bytree=1, gamma=0, learning_rate=0.1,\n",
       "       max_delta_step=0, max_depth=3, min_child_weight=1, missing=None,\n",
       "       n_estimators=100, n_jobs=1, nthread=None,\n",
       "       objective='binary:logistic', random_state=0, reg_alpha=0,\n",
       "       reg_lambda=1, scale_pos_weight=1, seed=None, silent=None,\n",
       "       subsample=1, verbosity=1)"
      ]
     },
     "execution_count": 2320,
     "metadata": {},
     "output_type": "execute_result"
    }
   ],
   "source": [
    "%time XGB_model.fit(X_train, y_train)"
   ]
  },
  {
   "cell_type": "code",
   "execution_count": 2321,
   "metadata": {},
   "outputs": [],
   "source": [
    "train_predictions = XGB_model.predict(X_train)\n",
    "test_predictions = XGB_model.predict(X_test)"
   ]
  },
  {
   "cell_type": "code",
   "execution_count": 2322,
   "metadata": {},
   "outputs": [
    {
     "data": {
      "text/plain": [
       "0.6382095746257596"
      ]
     },
     "execution_count": 2322,
     "metadata": {},
     "output_type": "execute_result"
    }
   ],
   "source": [
    "metrics.f1_score(y_train,train_predictions)"
   ]
  },
  {
   "cell_type": "code",
   "execution_count": 2323,
   "metadata": {},
   "outputs": [
    {
     "data": {
      "text/plain": [
       "0.6287425149700598"
      ]
     },
     "execution_count": 2323,
     "metadata": {},
     "output_type": "execute_result"
    }
   ],
   "source": [
    "metrics.f1_score(y_test,test_predictions)"
   ]
  },
  {
   "cell_type": "code",
   "execution_count": null,
   "metadata": {},
   "outputs": [],
   "source": []
  },
  {
   "cell_type": "code",
   "execution_count": 2297,
   "metadata": {},
   "outputs": [],
   "source": [
    "XGB = XGBClassifier(n_jobs=-1)\n",
    " \n",
    "# Use a grid over parameters of interest\n",
    "param_grid = {\n",
    "     \n",
    "     'n_estimators':[5,10,8,15],\n",
    "     'max_depth': [5,8,10,15],\n",
    "    'learning_rate': [0.1,0.3,0.5]\n",
    "}\n",
    "\n",
    " \n",
    "CV_XGB = GridSearchCV(estimator=XGB, param_grid=param_grid, cv= 5)"
   ]
  },
  {
   "cell_type": "code",
   "execution_count": 2298,
   "metadata": {
    "scrolled": true
   },
   "outputs": [
    {
     "name": "stdout",
     "output_type": "stream",
     "text": [
      "CPU times: user 3min 16s, sys: 2.14 s, total: 3min 19s\n",
      "Wall time: 3min 19s\n"
     ]
    },
    {
     "name": "stderr",
     "output_type": "stream",
     "text": [
      "/Users/pavankumar/anaconda3/lib/python3.7/site-packages/IPython/core/displayhook.py:271: UserWarning: Output cache limit (currently 1000 entries) hit.\n",
      "Flushing oldest 200 entries.\n",
      "  'Flushing oldest {cull_count} entries.'.format(sz=sz, cull_count=cull_count))\n"
     ]
    },
    {
     "data": {
      "text/plain": [
       "GridSearchCV(cv=5, error_score='raise-deprecating',\n",
       "       estimator=XGBClassifier(base_score=0.5, booster='gbtree', colsample_bylevel=1,\n",
       "       colsample_bynode=1, colsample_bytree=1, gamma=0, learning_rate=0.1,\n",
       "       max_delta_step=0, max_depth=3, min_child_weight=1, missing=None,\n",
       "       n_estimators=100, n_jobs=-1, nthread=None,\n",
       "       objective='binary:logistic', random_state=0, reg_alpha=0,\n",
       "       reg_lambda=1, scale_pos_weight=1, seed=None, silent=None,\n",
       "       subsample=1, verbosity=1),\n",
       "       fit_params=None, iid='warn', n_jobs=None,\n",
       "       param_grid={'n_estimators': [5, 10, 8, 15], 'max_depth': [5, 8, 10, 15], 'learning_rate': [0.1, 0.3, 0.5]},\n",
       "       pre_dispatch='2*n_jobs', refit=True, return_train_score='warn',\n",
       "       scoring=None, verbose=0)"
      ]
     },
     "execution_count": 2298,
     "metadata": {},
     "output_type": "execute_result"
    }
   ],
   "source": [
    "%time CV_XGB.fit(X = X_train, y=y_train)"
   ]
  },
  {
   "cell_type": "code",
   "execution_count": 2299,
   "metadata": {},
   "outputs": [
    {
     "name": "stdout",
     "output_type": "stream",
     "text": [
      "0.9436015679040811 {'learning_rate': 0.1, 'max_depth': 5, 'n_estimators': 10}\n"
     ]
    }
   ],
   "source": [
    "best_xgb_model = CV_XGB.best_estimator_\n",
    "print (CV_XGB.best_score_, CV_XGB.best_params_)"
   ]
  },
  {
   "cell_type": "code",
   "execution_count": null,
   "metadata": {},
   "outputs": [],
   "source": []
  },
  {
   "cell_type": "code",
   "execution_count": null,
   "metadata": {},
   "outputs": [],
   "source": []
  },
  {
   "cell_type": "code",
   "execution_count": 2300,
   "metadata": {},
   "outputs": [],
   "source": [
    "predxgb=best_xgb_model.predict(X_test)"
   ]
  },
  {
   "cell_type": "code",
   "execution_count": 2301,
   "metadata": {},
   "outputs": [
    {
     "data": {
      "text/plain": [
       "0.6291192330736968"
      ]
     },
     "execution_count": 2301,
     "metadata": {},
     "output_type": "execute_result"
    }
   ],
   "source": [
    "metrics.f1_score(y_test,predxgb)"
   ]
  },
  {
   "cell_type": "code",
   "execution_count": 2324,
   "metadata": {},
   "outputs": [
    {
     "data": {
      "text/html": [
       "<div>\n",
       "<style scoped>\n",
       "    .dataframe tbody tr th:only-of-type {\n",
       "        vertical-align: middle;\n",
       "    }\n",
       "\n",
       "    .dataframe tbody tr th {\n",
       "        vertical-align: top;\n",
       "    }\n",
       "\n",
       "    .dataframe thead th {\n",
       "        text-align: right;\n",
       "    }\n",
       "</style>\n",
       "<table border=\"1\" class=\"dataframe\">\n",
       "  <thead>\n",
       "    <tr style=\"text-align: right;\">\n",
       "      <th></th>\n",
       "      <th>Unnamed: 0</th>\n",
       "      <th>Merchant_ID</th>\n",
       "      <th>Fraudster</th>\n",
       "    </tr>\n",
       "  </thead>\n",
       "  <tbody>\n",
       "    <tr>\n",
       "      <th>0</th>\n",
       "      <td>0</td>\n",
       "      <td>53637</td>\n",
       "      <td>0</td>\n",
       "    </tr>\n",
       "    <tr>\n",
       "      <th>1</th>\n",
       "      <td>1</td>\n",
       "      <td>243517</td>\n",
       "      <td>0</td>\n",
       "    </tr>\n",
       "    <tr>\n",
       "      <th>2</th>\n",
       "      <td>2</td>\n",
       "      <td>343640</td>\n",
       "      <td>0</td>\n",
       "    </tr>\n",
       "    <tr>\n",
       "      <th>3</th>\n",
       "      <td>3</td>\n",
       "      <td>69889</td>\n",
       "      <td>0</td>\n",
       "    </tr>\n",
       "    <tr>\n",
       "      <th>4</th>\n",
       "      <td>4</td>\n",
       "      <td>125706</td>\n",
       "      <td>0</td>\n",
       "    </tr>\n",
       "  </tbody>\n",
       "</table>\n",
       "</div>"
      ],
      "text/plain": [
       "   Unnamed: 0  Merchant_ID  Fraudster\n",
       "0           0        53637          0\n",
       "1           1       243517          0\n",
       "2           2       343640          0\n",
       "3           3        69889          0\n",
       "4           4       125706          0"
      ]
     },
     "execution_count": 2324,
     "metadata": {},
     "output_type": "execute_result"
    }
   ],
   "source": [
    "result.head()"
   ]
  },
  {
   "cell_type": "code",
   "execution_count": 2325,
   "metadata": {},
   "outputs": [
    {
     "data": {
      "text/html": [
       "<div>\n",
       "<style scoped>\n",
       "    .dataframe tbody tr th:only-of-type {\n",
       "        vertical-align: middle;\n",
       "    }\n",
       "\n",
       "    .dataframe tbody tr th {\n",
       "        vertical-align: top;\n",
       "    }\n",
       "\n",
       "    .dataframe thead th {\n",
       "        text-align: right;\n",
       "    }\n",
       "</style>\n",
       "<table border=\"1\" class=\"dataframe\">\n",
       "  <thead>\n",
       "    <tr style=\"text-align: right;\">\n",
       "      <th></th>\n",
       "      <th>Merchant_ID</th>\n",
       "      <th>Fraudster</th>\n",
       "    </tr>\n",
       "  </thead>\n",
       "  <tbody>\n",
       "    <tr>\n",
       "      <th>0</th>\n",
       "      <td>53637</td>\n",
       "      <td>0</td>\n",
       "    </tr>\n",
       "    <tr>\n",
       "      <th>1</th>\n",
       "      <td>243517</td>\n",
       "      <td>0</td>\n",
       "    </tr>\n",
       "    <tr>\n",
       "      <th>2</th>\n",
       "      <td>343640</td>\n",
       "      <td>0</td>\n",
       "    </tr>\n",
       "    <tr>\n",
       "      <th>3</th>\n",
       "      <td>69889</td>\n",
       "      <td>0</td>\n",
       "    </tr>\n",
       "    <tr>\n",
       "      <th>4</th>\n",
       "      <td>125706</td>\n",
       "      <td>0</td>\n",
       "    </tr>\n",
       "  </tbody>\n",
       "</table>\n",
       "</div>"
      ],
      "text/plain": [
       "   Merchant_ID  Fraudster\n",
       "0        53637          0\n",
       "1       243517          0\n",
       "2       343640          0\n",
       "3        69889          0\n",
       "4       125706          0"
      ]
     },
     "execution_count": 2325,
     "metadata": {},
     "output_type": "execute_result"
    }
   ],
   "source": [
    "todo.head()"
   ]
  },
  {
   "cell_type": "code",
   "execution_count": null,
   "metadata": {},
   "outputs": [],
   "source": []
  },
  {
   "cell_type": "code",
   "execution_count": 2326,
   "metadata": {},
   "outputs": [
    {
     "name": "stderr",
     "output_type": "stream",
     "text": [
      "/Users/pavankumar/anaconda3/lib/python3.7/site-packages/ipykernel_launcher.py:1: SettingWithCopyWarning: \n",
      "A value is trying to be set on a copy of a slice from a DataFrame.\n",
      "Try using .loc[row_indexer,col_indexer] = value instead\n",
      "\n",
      "See the caveats in the documentation: http://pandas.pydata.org/pandas-docs/stable/indexing.html#indexing-view-versus-copy\n",
      "  \"\"\"Entry point for launching an IPython kernel.\n"
     ]
    }
   ],
   "source": [
    "todo['Fraudster']=best_xgb_model.predict(mergedtest)"
   ]
  },
  {
   "cell_type": "code",
   "execution_count": 2327,
   "metadata": {
    "scrolled": false
   },
   "outputs": [
    {
     "data": {
      "text/html": [
       "<div>\n",
       "<style scoped>\n",
       "    .dataframe tbody tr th:only-of-type {\n",
       "        vertical-align: middle;\n",
       "    }\n",
       "\n",
       "    .dataframe tbody tr th {\n",
       "        vertical-align: top;\n",
       "    }\n",
       "\n",
       "    .dataframe thead th {\n",
       "        text-align: right;\n",
       "    }\n",
       "</style>\n",
       "<table border=\"1\" class=\"dataframe\">\n",
       "  <thead>\n",
       "    <tr style=\"text-align: right;\">\n",
       "      <th></th>\n",
       "      <th>Merchant_ID</th>\n",
       "      <th>Fraudster</th>\n",
       "    </tr>\n",
       "  </thead>\n",
       "  <tbody>\n",
       "    <tr>\n",
       "      <th>0</th>\n",
       "      <td>53637</td>\n",
       "      <td>0</td>\n",
       "    </tr>\n",
       "    <tr>\n",
       "      <th>1</th>\n",
       "      <td>243517</td>\n",
       "      <td>0</td>\n",
       "    </tr>\n",
       "    <tr>\n",
       "      <th>2</th>\n",
       "      <td>343640</td>\n",
       "      <td>0</td>\n",
       "    </tr>\n",
       "    <tr>\n",
       "      <th>3</th>\n",
       "      <td>69889</td>\n",
       "      <td>0</td>\n",
       "    </tr>\n",
       "    <tr>\n",
       "      <th>4</th>\n",
       "      <td>125706</td>\n",
       "      <td>0</td>\n",
       "    </tr>\n",
       "  </tbody>\n",
       "</table>\n",
       "</div>"
      ],
      "text/plain": [
       "   Merchant_ID  Fraudster\n",
       "0        53637          0\n",
       "1       243517          0\n",
       "2       343640          0\n",
       "3        69889          0\n",
       "4       125706          0"
      ]
     },
     "execution_count": 2327,
     "metadata": {},
     "output_type": "execute_result"
    }
   ],
   "source": [
    "todo.head()"
   ]
  },
  {
   "cell_type": "code",
   "execution_count": 2328,
   "metadata": {},
   "outputs": [],
   "source": [
    "new=best_xgb_model.predict(mergedtest)"
   ]
  },
  {
   "cell_type": "code",
   "execution_count": 2329,
   "metadata": {
    "scrolled": true
   },
   "outputs": [
    {
     "name": "stderr",
     "output_type": "stream",
     "text": [
      "/Users/pavankumar/anaconda3/lib/python3.7/site-packages/ipykernel_launcher.py:1: SettingWithCopyWarning: \n",
      "A value is trying to be set on a copy of a slice from a DataFrame.\n",
      "Try using .loc[row_indexer,col_indexer] = value instead\n",
      "\n",
      "See the caveats in the documentation: http://pandas.pydata.org/pandas-docs/stable/indexing.html#indexing-view-versus-copy\n",
      "  \"\"\"Entry point for launching an IPython kernel.\n"
     ]
    }
   ],
   "source": [
    "todo['Fraudster']=new"
   ]
  },
  {
   "cell_type": "code",
   "execution_count": 2330,
   "metadata": {},
   "outputs": [
    {
     "data": {
      "text/html": [
       "<div>\n",
       "<style scoped>\n",
       "    .dataframe tbody tr th:only-of-type {\n",
       "        vertical-align: middle;\n",
       "    }\n",
       "\n",
       "    .dataframe tbody tr th {\n",
       "        vertical-align: top;\n",
       "    }\n",
       "\n",
       "    .dataframe thead th {\n",
       "        text-align: right;\n",
       "    }\n",
       "</style>\n",
       "<table border=\"1\" class=\"dataframe\">\n",
       "  <thead>\n",
       "    <tr style=\"text-align: right;\">\n",
       "      <th></th>\n",
       "      <th>Merchant_ID</th>\n",
       "      <th>Fraudster</th>\n",
       "    </tr>\n",
       "  </thead>\n",
       "  <tbody>\n",
       "    <tr>\n",
       "      <th>0</th>\n",
       "      <td>53637</td>\n",
       "      <td>0</td>\n",
       "    </tr>\n",
       "    <tr>\n",
       "      <th>1</th>\n",
       "      <td>243517</td>\n",
       "      <td>0</td>\n",
       "    </tr>\n",
       "    <tr>\n",
       "      <th>2</th>\n",
       "      <td>343640</td>\n",
       "      <td>0</td>\n",
       "    </tr>\n",
       "    <tr>\n",
       "      <th>3</th>\n",
       "      <td>69889</td>\n",
       "      <td>0</td>\n",
       "    </tr>\n",
       "    <tr>\n",
       "      <th>4</th>\n",
       "      <td>125706</td>\n",
       "      <td>0</td>\n",
       "    </tr>\n",
       "  </tbody>\n",
       "</table>\n",
       "</div>"
      ],
      "text/plain": [
       "   Merchant_ID  Fraudster\n",
       "0        53637          0\n",
       "1       243517          0\n",
       "2       343640          0\n",
       "3        69889          0\n",
       "4       125706          0"
      ]
     },
     "execution_count": 2330,
     "metadata": {},
     "output_type": "execute_result"
    }
   ],
   "source": [
    "todo.head()"
   ]
  },
  {
   "cell_type": "code",
   "execution_count": 2331,
   "metadata": {},
   "outputs": [],
   "source": [
    "todo.to_csv('/Users/pavankumar/Downloads/ mith/new.csv', sep=',',index=False)"
   ]
  },
  {
   "cell_type": "code",
   "execution_count": 2332,
   "metadata": {},
   "outputs": [],
   "source": [
    "#knn\n",
    "knn = KNeighborsClassifier(n_neighbors=5)  \n",
    "\n",
    "knn.fit(X_train, y_train)\n",
    "\n",
    "y_pred_train_knn = knn.predict(X_train)\n",
    "y_pred_test_knn = knn.predict(X_test)"
   ]
  },
  {
   "cell_type": "code",
   "execution_count": 2333,
   "metadata": {},
   "outputs": [],
   "source": [
    "for K in range(5):\n",
    "    K = K+1\n",
    "    model = KNeighborsClassifier(n_neighbors = K)\n",
    "\n",
    "    model.fit(X_train, y_train)  #fit the model\n",
    "    predknn=model.predict(X_test) #make prediction on test set\n",
    "    \n",
    "    "
   ]
  },
  {
   "cell_type": "code",
   "execution_count": 2334,
   "metadata": {},
   "outputs": [
    {
     "data": {
      "text/plain": [
       "0.010948905109489052"
      ]
     },
     "execution_count": 2334,
     "metadata": {},
     "output_type": "execute_result"
    }
   ],
   "source": [
    "metrics.f1_score(y_test,y_pred_test_knn)"
   ]
  },
  {
   "cell_type": "code",
   "execution_count": 2284,
   "metadata": {},
   "outputs": [],
   "source": [
    "#desperate attempt to increae the performance :-P\n",
    "from sklearn.ensemble import AdaBoostClassifier\n",
    "adaboost = AdaBoostClassifier()"
   ]
  },
  {
   "cell_type": "code",
   "execution_count": 2285,
   "metadata": {},
   "outputs": [
    {
     "name": "stdout",
     "output_type": "stream",
     "text": [
      "CPU times: user 1.34 s, sys: 40.5 ms, total: 1.38 s\n",
      "Wall time: 1.38 s\n"
     ]
    },
    {
     "data": {
      "text/plain": [
       "AdaBoostClassifier(algorithm='SAMME.R', base_estimator=None,\n",
       "          learning_rate=1.0, n_estimators=50, random_state=None)"
      ]
     },
     "execution_count": 2285,
     "metadata": {},
     "output_type": "execute_result"
    }
   ],
   "source": [
    "%time adaboost.fit(X_train, y_train)"
   ]
  },
  {
   "cell_type": "code",
   "execution_count": 2286,
   "metadata": {},
   "outputs": [],
   "source": [
    "train_predictions = adaboost.predict(X_train)\n",
    "test_predictions = adaboost.predict(X_test)"
   ]
  },
  {
   "cell_type": "code",
   "execution_count": 2287,
   "metadata": {},
   "outputs": [
    {
     "data": {
      "text/plain": [
       "0.6287425149700598"
      ]
     },
     "execution_count": 2287,
     "metadata": {},
     "output_type": "execute_result"
    }
   ],
   "source": [
    "metrics.f1_score(y_test,test_predictions)\n"
   ]
  },
  {
   "cell_type": "code",
   "execution_count": 2288,
   "metadata": {},
   "outputs": [],
   "source": [
    "latest=adaboost.predict(mergedtest)"
   ]
  },
  {
   "cell_type": "code",
   "execution_count": 2289,
   "metadata": {},
   "outputs": [
    {
     "name": "stderr",
     "output_type": "stream",
     "text": [
      "/Users/pavankumar/anaconda3/lib/python3.7/site-packages/ipykernel_launcher.py:1: SettingWithCopyWarning: \n",
      "A value is trying to be set on a copy of a slice from a DataFrame.\n",
      "Try using .loc[row_indexer,col_indexer] = value instead\n",
      "\n",
      "See the caveats in the documentation: http://pandas.pydata.org/pandas-docs/stable/indexing.html#indexing-view-versus-copy\n",
      "  \"\"\"Entry point for launching an IPython kernel.\n"
     ]
    }
   ],
   "source": [
    "todo['Fraudster']=latest"
   ]
  },
  {
   "cell_type": "code",
   "execution_count": 2290,
   "metadata": {},
   "outputs": [
    {
     "data": {
      "text/html": [
       "<div>\n",
       "<style scoped>\n",
       "    .dataframe tbody tr th:only-of-type {\n",
       "        vertical-align: middle;\n",
       "    }\n",
       "\n",
       "    .dataframe tbody tr th {\n",
       "        vertical-align: top;\n",
       "    }\n",
       "\n",
       "    .dataframe thead th {\n",
       "        text-align: right;\n",
       "    }\n",
       "</style>\n",
       "<table border=\"1\" class=\"dataframe\">\n",
       "  <thead>\n",
       "    <tr style=\"text-align: right;\">\n",
       "      <th></th>\n",
       "      <th>Merchant_ID</th>\n",
       "      <th>Fraudster</th>\n",
       "    </tr>\n",
       "  </thead>\n",
       "  <tbody>\n",
       "    <tr>\n",
       "      <th>0</th>\n",
       "      <td>53637</td>\n",
       "      <td>0</td>\n",
       "    </tr>\n",
       "    <tr>\n",
       "      <th>1</th>\n",
       "      <td>243517</td>\n",
       "      <td>0</td>\n",
       "    </tr>\n",
       "    <tr>\n",
       "      <th>2</th>\n",
       "      <td>343640</td>\n",
       "      <td>0</td>\n",
       "    </tr>\n",
       "    <tr>\n",
       "      <th>3</th>\n",
       "      <td>69889</td>\n",
       "      <td>0</td>\n",
       "    </tr>\n",
       "    <tr>\n",
       "      <th>4</th>\n",
       "      <td>125706</td>\n",
       "      <td>0</td>\n",
       "    </tr>\n",
       "  </tbody>\n",
       "</table>\n",
       "</div>"
      ],
      "text/plain": [
       "   Merchant_ID  Fraudster\n",
       "0        53637          0\n",
       "1       243517          0\n",
       "2       343640          0\n",
       "3        69889          0\n",
       "4       125706          0"
      ]
     },
     "execution_count": 2290,
     "metadata": {},
     "output_type": "execute_result"
    }
   ],
   "source": [
    "todo.head()"
   ]
  },
  {
   "cell_type": "code",
   "execution_count": 2291,
   "metadata": {},
   "outputs": [
    {
     "data": {
      "text/plain": [
       "Merchant_ID    13554\n",
       "Fraudster      13554\n",
       "dtype: int64"
      ]
     },
     "execution_count": 2291,
     "metadata": {},
     "output_type": "execute_result"
    }
   ],
   "source": [
    "todo.count()"
   ]
  },
  {
   "cell_type": "code",
   "execution_count": null,
   "metadata": {},
   "outputs": [],
   "source": []
  }
 ],
 "metadata": {
  "kernelspec": {
   "display_name": "Python 3",
   "language": "python",
   "name": "python3"
  },
  "language_info": {
   "codemirror_mode": {
    "name": "ipython",
    "version": 3
   },
   "file_extension": ".py",
   "mimetype": "text/x-python",
   "name": "python",
   "nbconvert_exporter": "python",
   "pygments_lexer": "ipython3",
   "version": "3.7.1"
  }
 },
 "nbformat": 4,
 "nbformat_minor": 2
}
